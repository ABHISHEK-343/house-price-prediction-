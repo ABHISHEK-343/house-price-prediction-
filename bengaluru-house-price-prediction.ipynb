{
 "cells": [
  {
   "cell_type": "code",
   "execution_count": 1,
   "id": "339d57fa",
   "metadata": {
    "execution": {
     "iopub.execute_input": "2025-02-28T23:28:21.126702Z",
     "iopub.status.busy": "2025-02-28T23:28:21.126183Z",
     "iopub.status.idle": "2025-02-28T23:28:23.903916Z",
     "shell.execute_reply": "2025-02-28T23:28:23.902821Z"
    },
    "papermill": {
     "duration": 2.80297,
     "end_time": "2025-02-28T23:28:23.905924",
     "exception": false,
     "start_time": "2025-02-28T23:28:21.102954",
     "status": "completed"
    },
    "tags": []
   },
   "outputs": [],
   "source": [
    "import numpy as np\n",
    "import pandas as pd\n",
    "import matplotlib.pyplot as plt\n",
    "import seaborn as sns"
   ]
  },
  {
   "cell_type": "code",
   "execution_count": 2,
   "id": "e5c403c7",
   "metadata": {
    "execution": {
     "iopub.execute_input": "2025-02-28T23:28:23.949601Z",
     "iopub.status.busy": "2025-02-28T23:28:23.949054Z",
     "iopub.status.idle": "2025-02-28T23:28:23.953799Z",
     "shell.execute_reply": "2025-02-28T23:28:23.952812Z"
    },
    "papermill": {
     "duration": 0.028368,
     "end_time": "2025-02-28T23:28:23.955313",
     "exception": false,
     "start_time": "2025-02-28T23:28:23.926945",
     "status": "completed"
    },
    "tags": []
   },
   "outputs": [],
   "source": [
    "import warnings\n",
    "warnings.simplefilter(action='ignore', category=FutureWarning)\n",
    "warnings.simplefilter(\"ignore\", category=RuntimeWarning)"
   ]
  },
  {
   "cell_type": "code",
   "execution_count": 3,
   "id": "9b1ee3ea",
   "metadata": {
    "execution": {
     "iopub.execute_input": "2025-02-28T23:28:23.998765Z",
     "iopub.status.busy": "2025-02-28T23:28:23.998305Z",
     "iopub.status.idle": "2025-02-28T23:28:24.066347Z",
     "shell.execute_reply": "2025-02-28T23:28:24.064943Z"
    },
    "papermill": {
     "duration": 0.091405,
     "end_time": "2025-02-28T23:28:24.068330",
     "exception": false,
     "start_time": "2025-02-28T23:28:23.976925",
     "status": "completed"
    },
    "tags": []
   },
   "outputs": [],
   "source": [
    "#loading dataset\n",
    "df = pd.read_csv(\"C:/Users/ABHISHEK KUMAR/Desktop/New folder/Bengaluru_House_Data.csv\")"
   ]
  },
  {
   "cell_type": "code",
   "execution_count": 4,
   "id": "225bae64",
   "metadata": {
    "execution": {
     "iopub.execute_input": "2025-02-28T23:28:24.110576Z",
     "iopub.status.busy": "2025-02-28T23:28:24.110192Z",
     "iopub.status.idle": "2025-02-28T23:28:24.145051Z",
     "shell.execute_reply": "2025-02-28T23:28:24.143933Z"
    },
    "papermill": {
     "duration": 0.058289,
     "end_time": "2025-02-28T23:28:24.147320",
     "exception": false,
     "start_time": "2025-02-28T23:28:24.089031",
     "status": "completed"
    },
    "tags": []
   },
   "outputs": [
    {
     "data": {
      "text/html": [
       "<div>\n",
       "<style scoped>\n",
       "    .dataframe tbody tr th:only-of-type {\n",
       "        vertical-align: middle;\n",
       "    }\n",
       "\n",
       "    .dataframe tbody tr th {\n",
       "        vertical-align: top;\n",
       "    }\n",
       "\n",
       "    .dataframe thead th {\n",
       "        text-align: right;\n",
       "    }\n",
       "</style>\n",
       "<table border=\"1\" class=\"dataframe\">\n",
       "  <thead>\n",
       "    <tr style=\"text-align: right;\">\n",
       "      <th></th>\n",
       "      <th>area_type</th>\n",
       "      <th>availability</th>\n",
       "      <th>location</th>\n",
       "      <th>size</th>\n",
       "      <th>society</th>\n",
       "      <th>total_sqft</th>\n",
       "      <th>bath</th>\n",
       "      <th>balcony</th>\n",
       "      <th>price</th>\n",
       "    </tr>\n",
       "  </thead>\n",
       "  <tbody>\n",
       "    <tr>\n",
       "      <th>8808</th>\n",
       "      <td>Built-up  Area</td>\n",
       "      <td>Ready To Move</td>\n",
       "      <td>Bhoganhalli</td>\n",
       "      <td>2 BHK</td>\n",
       "      <td>Tenceen</td>\n",
       "      <td>1125</td>\n",
       "      <td>2.0</td>\n",
       "      <td>1.0</td>\n",
       "      <td>54.0</td>\n",
       "    </tr>\n",
       "    <tr>\n",
       "      <th>8047</th>\n",
       "      <td>Super built-up  Area</td>\n",
       "      <td>Ready To Move</td>\n",
       "      <td>Thanisandra</td>\n",
       "      <td>2 BHK</td>\n",
       "      <td>Inulat</td>\n",
       "      <td>1200</td>\n",
       "      <td>2.0</td>\n",
       "      <td>3.0</td>\n",
       "      <td>60.0</td>\n",
       "    </tr>\n",
       "    <tr>\n",
       "      <th>8020</th>\n",
       "      <td>Super built-up  Area</td>\n",
       "      <td>22-May</td>\n",
       "      <td>Jakkur</td>\n",
       "      <td>4 BHK</td>\n",
       "      <td>SoineC</td>\n",
       "      <td>2249.81 - 4112.19</td>\n",
       "      <td>NaN</td>\n",
       "      <td>NaN</td>\n",
       "      <td>229.0</td>\n",
       "    </tr>\n",
       "    <tr>\n",
       "      <th>12668</th>\n",
       "      <td>Super built-up  Area</td>\n",
       "      <td>22-Jan</td>\n",
       "      <td>Vajarahalli</td>\n",
       "      <td>3 BHK</td>\n",
       "      <td>NaN</td>\n",
       "      <td>1432</td>\n",
       "      <td>3.0</td>\n",
       "      <td>2.0</td>\n",
       "      <td>79.0</td>\n",
       "    </tr>\n",
       "    <tr>\n",
       "      <th>11760</th>\n",
       "      <td>Built-up  Area</td>\n",
       "      <td>Ready To Move</td>\n",
       "      <td>Maheswari Nagar</td>\n",
       "      <td>2 BHK</td>\n",
       "      <td>AsensGa</td>\n",
       "      <td>1000</td>\n",
       "      <td>2.0</td>\n",
       "      <td>2.0</td>\n",
       "      <td>60.0</td>\n",
       "    </tr>\n",
       "  </tbody>\n",
       "</table>\n",
       "</div>"
      ],
      "text/plain": [
       "                  area_type   availability         location   size  society  \\\n",
       "8808         Built-up  Area  Ready To Move      Bhoganhalli  2 BHK  Tenceen   \n",
       "8047   Super built-up  Area  Ready To Move      Thanisandra  2 BHK  Inulat    \n",
       "8020   Super built-up  Area         22-May           Jakkur  4 BHK  SoineC    \n",
       "12668  Super built-up  Area         22-Jan      Vajarahalli  3 BHK      NaN   \n",
       "11760        Built-up  Area  Ready To Move  Maheswari Nagar  2 BHK  AsensGa   \n",
       "\n",
       "              total_sqft  bath  balcony  price  \n",
       "8808                1125   2.0      1.0   54.0  \n",
       "8047                1200   2.0      3.0   60.0  \n",
       "8020   2249.81 - 4112.19   NaN      NaN  229.0  \n",
       "12668               1432   3.0      2.0   79.0  \n",
       "11760               1000   2.0      2.0   60.0  "
      ]
     },
     "execution_count": 4,
     "metadata": {},
     "output_type": "execute_result"
    }
   ],
   "source": [
    "df.sample(5)"
   ]
  },
  {
   "cell_type": "code",
   "execution_count": 5,
   "id": "8d3b1128",
   "metadata": {
    "execution": {
     "iopub.execute_input": "2025-02-28T23:28:24.190271Z",
     "iopub.status.busy": "2025-02-28T23:28:24.189924Z",
     "iopub.status.idle": "2025-02-28T23:28:24.196204Z",
     "shell.execute_reply": "2025-02-28T23:28:24.195017Z"
    },
    "papermill": {
     "duration": 0.02978,
     "end_time": "2025-02-28T23:28:24.197968",
     "exception": false,
     "start_time": "2025-02-28T23:28:24.168188",
     "status": "completed"
    },
    "tags": []
   },
   "outputs": [
    {
     "data": {
      "text/plain": [
       "(13320, 9)"
      ]
     },
     "execution_count": 5,
     "metadata": {},
     "output_type": "execute_result"
    }
   ],
   "source": [
    "df.shape"
   ]
  },
  {
   "cell_type": "code",
   "execution_count": 6,
   "id": "82729caf",
   "metadata": {
    "execution": {
     "iopub.execute_input": "2025-02-28T23:28:24.240648Z",
     "iopub.status.busy": "2025-02-28T23:28:24.240251Z",
     "iopub.status.idle": "2025-02-28T23:28:24.272712Z",
     "shell.execute_reply": "2025-02-28T23:28:24.271171Z"
    },
    "papermill": {
     "duration": 0.056456,
     "end_time": "2025-02-28T23:28:24.274782",
     "exception": false,
     "start_time": "2025-02-28T23:28:24.218326",
     "status": "completed"
    },
    "tags": []
   },
   "outputs": [
    {
     "name": "stdout",
     "output_type": "stream",
     "text": [
      "<class 'pandas.core.frame.DataFrame'>\n",
      "RangeIndex: 13320 entries, 0 to 13319\n",
      "Data columns (total 9 columns):\n",
      " #   Column        Non-Null Count  Dtype  \n",
      "---  ------        --------------  -----  \n",
      " 0   area_type     13320 non-null  object \n",
      " 1   availability  13320 non-null  object \n",
      " 2   location      13319 non-null  object \n",
      " 3   size          13304 non-null  object \n",
      " 4   society       7818 non-null   object \n",
      " 5   total_sqft    13320 non-null  object \n",
      " 6   bath          13247 non-null  float64\n",
      " 7   balcony       12711 non-null  float64\n",
      " 8   price         13320 non-null  float64\n",
      "dtypes: float64(3), object(6)\n",
      "memory usage: 936.7+ KB\n"
     ]
    }
   ],
   "source": [
    "df.info()"
   ]
  },
  {
   "cell_type": "code",
   "execution_count": 7,
   "id": "c275281f",
   "metadata": {
    "execution": {
     "iopub.execute_input": "2025-02-28T23:28:24.317830Z",
     "iopub.status.busy": "2025-02-28T23:28:24.317357Z",
     "iopub.status.idle": "2025-02-28T23:28:24.332734Z",
     "shell.execute_reply": "2025-02-28T23:28:24.331664Z"
    },
    "papermill": {
     "duration": 0.038487,
     "end_time": "2025-02-28T23:28:24.334530",
     "exception": false,
     "start_time": "2025-02-28T23:28:24.296043",
     "status": "completed"
    },
    "tags": []
   },
   "outputs": [
    {
     "data": {
      "text/plain": [
       "area_type          0\n",
       "availability       0\n",
       "location           1\n",
       "size              16\n",
       "society         5502\n",
       "total_sqft         0\n",
       "bath              73\n",
       "balcony          609\n",
       "price              0\n",
       "dtype: int64"
      ]
     },
     "execution_count": 7,
     "metadata": {},
     "output_type": "execute_result"
    }
   ],
   "source": [
    "df.isnull().sum()"
   ]
  },
  {
   "cell_type": "code",
   "execution_count": 8,
   "id": "fbb97c36",
   "metadata": {
    "execution": {
     "iopub.execute_input": "2025-02-28T23:28:24.378648Z",
     "iopub.status.busy": "2025-02-28T23:28:24.378183Z",
     "iopub.status.idle": "2025-02-28T23:28:24.391316Z",
     "shell.execute_reply": "2025-02-28T23:28:24.390105Z"
    },
    "papermill": {
     "duration": 0.037077,
     "end_time": "2025-02-28T23:28:24.393250",
     "exception": false,
     "start_time": "2025-02-28T23:28:24.356173",
     "status": "completed"
    },
    "tags": []
   },
   "outputs": [
    {
     "data": {
      "text/plain": [
       "area_type        0.000000\n",
       "availability     0.000000\n",
       "location         0.007508\n",
       "size             0.120120\n",
       "society         41.306306\n",
       "total_sqft       0.000000\n",
       "bath             0.548048\n",
       "balcony          4.572072\n",
       "price            0.000000\n",
       "dtype: float64"
      ]
     },
     "execution_count": 8,
     "metadata": {},
     "output_type": "execute_result"
    }
   ],
   "source": [
    "(df.isnull().sum() / df.shape[0]) * 100"
   ]
  },
  {
   "cell_type": "code",
   "execution_count": 9,
   "id": "3fc03fbe",
   "metadata": {},
   "outputs": [
    {
     "data": {
      "text/html": [
       "<div>\n",
       "<style scoped>\n",
       "    .dataframe tbody tr th:only-of-type {\n",
       "        vertical-align: middle;\n",
       "    }\n",
       "\n",
       "    .dataframe tbody tr th {\n",
       "        vertical-align: top;\n",
       "    }\n",
       "\n",
       "    .dataframe thead th {\n",
       "        text-align: right;\n",
       "    }\n",
       "</style>\n",
       "<table border=\"1\" class=\"dataframe\">\n",
       "  <thead>\n",
       "    <tr style=\"text-align: right;\">\n",
       "      <th></th>\n",
       "      <th>bath</th>\n",
       "      <th>balcony</th>\n",
       "      <th>price</th>\n",
       "    </tr>\n",
       "  </thead>\n",
       "  <tbody>\n",
       "    <tr>\n",
       "      <th>count</th>\n",
       "      <td>13247.000000</td>\n",
       "      <td>12711.000000</td>\n",
       "      <td>13320.000000</td>\n",
       "    </tr>\n",
       "    <tr>\n",
       "      <th>mean</th>\n",
       "      <td>2.692610</td>\n",
       "      <td>1.584376</td>\n",
       "      <td>112.565627</td>\n",
       "    </tr>\n",
       "    <tr>\n",
       "      <th>std</th>\n",
       "      <td>1.341458</td>\n",
       "      <td>0.817263</td>\n",
       "      <td>148.971674</td>\n",
       "    </tr>\n",
       "    <tr>\n",
       "      <th>min</th>\n",
       "      <td>1.000000</td>\n",
       "      <td>0.000000</td>\n",
       "      <td>8.000000</td>\n",
       "    </tr>\n",
       "    <tr>\n",
       "      <th>25%</th>\n",
       "      <td>2.000000</td>\n",
       "      <td>1.000000</td>\n",
       "      <td>50.000000</td>\n",
       "    </tr>\n",
       "    <tr>\n",
       "      <th>50%</th>\n",
       "      <td>2.000000</td>\n",
       "      <td>2.000000</td>\n",
       "      <td>72.000000</td>\n",
       "    </tr>\n",
       "    <tr>\n",
       "      <th>75%</th>\n",
       "      <td>3.000000</td>\n",
       "      <td>2.000000</td>\n",
       "      <td>120.000000</td>\n",
       "    </tr>\n",
       "    <tr>\n",
       "      <th>max</th>\n",
       "      <td>40.000000</td>\n",
       "      <td>3.000000</td>\n",
       "      <td>3600.000000</td>\n",
       "    </tr>\n",
       "  </tbody>\n",
       "</table>\n",
       "</div>"
      ],
      "text/plain": [
       "               bath       balcony         price\n",
       "count  13247.000000  12711.000000  13320.000000\n",
       "mean       2.692610      1.584376    112.565627\n",
       "std        1.341458      0.817263    148.971674\n",
       "min        1.000000      0.000000      8.000000\n",
       "25%        2.000000      1.000000     50.000000\n",
       "50%        2.000000      2.000000     72.000000\n",
       "75%        3.000000      2.000000    120.000000\n",
       "max       40.000000      3.000000   3600.000000"
      ]
     },
     "execution_count": 9,
     "metadata": {},
     "output_type": "execute_result"
    }
   ],
   "source": [
    "df.describe()"
   ]
  },
  {
   "cell_type": "code",
   "execution_count": 10,
   "id": "942e7fa8",
   "metadata": {
    "execution": {
     "iopub.execute_input": "2025-02-28T23:28:24.435724Z",
     "iopub.status.busy": "2025-02-28T23:28:24.435274Z",
     "iopub.status.idle": "2025-02-28T23:28:24.443814Z",
     "shell.execute_reply": "2025-02-28T23:28:24.442572Z"
    },
    "papermill": {
     "duration": 0.031845,
     "end_time": "2025-02-28T23:28:24.445666",
     "exception": false,
     "start_time": "2025-02-28T23:28:24.413821",
     "status": "completed"
    },
    "tags": []
   },
   "outputs": [],
   "source": [
    "#since society have 41% missing value so this feature will get droped\n",
    "df.drop(columns=['society'],inplace=True)\n"
   ]
  },
  {
   "cell_type": "code",
   "execution_count": 11,
   "id": "06b8e0da",
   "metadata": {},
   "outputs": [
    {
     "data": {
      "text/plain": [
       "area_type         0\n",
       "availability      0\n",
       "location          1\n",
       "size             16\n",
       "total_sqft        0\n",
       "bath             73\n",
       "balcony         609\n",
       "price             0\n",
       "dtype: int64"
      ]
     },
     "execution_count": 11,
     "metadata": {},
     "output_type": "execute_result"
    }
   ],
   "source": [
    "df.isnull().sum()"
   ]
  },
  {
   "cell_type": "code",
   "execution_count": null,
   "id": "0548011c",
   "metadata": {},
   "outputs": [],
   "source": []
  },
  {
   "cell_type": "code",
   "execution_count": 12,
   "id": "5f416a51",
   "metadata": {
    "execution": {
     "iopub.execute_input": "2025-02-28T23:28:24.488357Z",
     "iopub.status.busy": "2025-02-28T23:28:24.487997Z",
     "iopub.status.idle": "2025-02-28T23:28:24.501718Z",
     "shell.execute_reply": "2025-02-28T23:28:24.500556Z"
    },
    "papermill": {
     "duration": 0.037197,
     "end_time": "2025-02-28T23:28:24.503523",
     "exception": false,
     "start_time": "2025-02-28T23:28:24.466326",
     "status": "completed"
    },
    "tags": []
   },
   "outputs": [
    {
     "data": {
      "text/plain": [
       "area_type          4\n",
       "availability      81\n",
       "location        1305\n",
       "size              31\n",
       "total_sqft      2117\n",
       "bath              19\n",
       "balcony            4\n",
       "price           1994\n",
       "dtype: int64"
      ]
     },
     "execution_count": 12,
     "metadata": {},
     "output_type": "execute_result"
    }
   ],
   "source": [
    "df.nunique()"
   ]
  },
  {
   "cell_type": "markdown",
   "id": "bc17e436",
   "metadata": {
    "papermill": {
     "duration": 0.022957,
     "end_time": "2025-02-28T23:28:24.622730",
     "exception": false,
     "start_time": "2025-02-28T23:28:24.599773",
     "status": "completed"
    },
    "tags": []
   },
   "source": [
    "<h1>Analysis of each column seperately:</h1>"
   ]
  },
  {
   "cell_type": "markdown",
   "id": "72b3ce26",
   "metadata": {
    "papermill": {
     "duration": 0.021048,
     "end_time": "2025-02-28T23:28:24.664939",
     "exception": false,
     "start_time": "2025-02-28T23:28:24.643891",
     "status": "completed"
    },
    "tags": []
   },
   "source": [
    "<h2>Analysis of area_type column:</h2>"
   ]
  },
  {
   "cell_type": "code",
   "execution_count": 13,
   "id": "bc3cb62f",
   "metadata": {
    "execution": {
     "iopub.execute_input": "2025-02-28T23:28:24.765572Z",
     "iopub.status.busy": "2025-02-28T23:28:24.765161Z",
     "iopub.status.idle": "2025-02-28T23:28:25.078106Z",
     "shell.execute_reply": "2025-02-28T23:28:25.076791Z"
    },
    "papermill": {
     "duration": 0.394508,
     "end_time": "2025-02-28T23:28:25.080056",
     "exception": false,
     "start_time": "2025-02-28T23:28:24.685548",
     "status": "completed"
    },
    "tags": []
   },
   "outputs": [
    {
     "data": {
      "image/png": "[encoded data removed]",
      "text/plain": [
       "<Figure size 640x480 with 1 Axes>"
      ]
     },
     "metadata": {},
     "output_type": "display_data"
    }
   ],
   "source": [
    "df['area_type'].value_counts().plot.pie(autopct='%.2f',shadow=True,startangle=90,wedgeprops={'edgecolor':'black'},rotatelabels=True)\n",
    "plt.show()"
   ]
  },
  {
   "cell_type": "code",
   "execution_count": 14,
   "id": "fd3a2587",
   "metadata": {
    "execution": {
     "iopub.execute_input": "2025-02-28T23:28:29.805374Z",
     "iopub.status.busy": "2025-02-28T23:28:29.805015Z",
     "iopub.status.idle": "2025-02-28T23:28:29.811151Z",
     "shell.execute_reply": "2025-02-28T23:28:29.810078Z"
    },
    "papermill": {
     "duration": 0.031627,
     "end_time": "2025-02-28T23:28:29.812799",
     "exception": false,
     "start_time": "2025-02-28T23:28:29.781172",
     "status": "completed"
    },
    "tags": []
   },
   "outputs": [],
   "source": [
    "df.drop(columns=['area_type'],inplace=True)"
   ]
  },
  {
   "cell_type": "markdown",
   "id": "c1229203",
   "metadata": {
    "papermill": {
     "duration": 0.021929,
     "end_time": "2025-02-28T23:28:29.857311",
     "exception": false,
     "start_time": "2025-02-28T23:28:29.835382",
     "status": "completed"
    },
    "tags": []
   },
   "source": [
    "<h2>Analysis of availability column:</h2>"
   ]
  },
  {
   "cell_type": "code",
   "execution_count": 15,
   "id": "3b1422f2",
   "metadata": {},
   "outputs": [
    {
     "data": {
      "text/plain": [
       "(13320, 7)"
      ]
     },
     "execution_count": 15,
     "metadata": {},
     "output_type": "execute_result"
    }
   ],
   "source": [
    "df.shape"
   ]
  },
  {
   "cell_type": "code",
   "execution_count": 16,
   "id": "b6ab19c6",
   "metadata": {
    "execution": {
     "iopub.execute_input": "2025-02-28T23:28:29.903116Z",
     "iopub.status.busy": "2025-02-28T23:28:29.902773Z",
     "iopub.status.idle": "2025-02-28T23:28:29.912672Z",
     "shell.execute_reply": "2025-02-28T23:28:29.911318Z"
    },
    "papermill": {
     "duration": 0.034744,
     "end_time": "2025-02-28T23:28:29.914351",
     "exception": false,
     "start_time": "2025-02-28T23:28:29.879607",
     "status": "completed"
    },
    "scrolled": true,
    "tags": []
   },
   "outputs": [
    {
     "data": {
      "text/plain": [
       "availability\n",
       "Ready To Move    79.436937\n",
       "18-Dec            2.304805\n",
       "18-May            2.214715\n",
       "18-Apr            2.034535\n",
       "18-Aug            1.501502\n",
       "                   ...    \n",
       "16-Oct            0.007508\n",
       "17-Jan            0.007508\n",
       "16-Nov            0.007508\n",
       "16-Jan            0.007508\n",
       "14-Jul            0.007508\n",
       "Name: count, Length: 81, dtype: float64"
      ]
     },
     "execution_count": 16,
     "metadata": {},
     "output_type": "execute_result"
    }
   ],
   "source": [
    "(df['availability'].value_counts()/df.shape[0])*100"
   ]
  },
  {
   "cell_type": "code",
   "execution_count": 17,
   "id": "78c1c966",
   "metadata": {},
   "outputs": [
    {
     "data": {
      "text/plain": [
       "availability      0\n",
       "location          1\n",
       "size             16\n",
       "total_sqft        0\n",
       "bath             73\n",
       "balcony         609\n",
       "price             0\n",
       "dtype: int64"
      ]
     },
     "execution_count": 17,
     "metadata": {},
     "output_type": "execute_result"
    }
   ],
   "source": [
    "df.isnull().sum()"
   ]
  },
  {
   "cell_type": "code",
   "execution_count": 18,
   "id": "8c4160dd",
   "metadata": {
    "execution": {
     "iopub.execute_input": "2025-02-28T23:28:29.961093Z",
     "iopub.status.busy": "2025-02-28T23:28:29.960741Z",
     "iopub.status.idle": "2025-02-28T23:28:29.966360Z",
     "shell.execute_reply": "2025-02-28T23:28:29.965378Z"
    },
    "papermill": {
     "duration": 0.030855,
     "end_time": "2025-02-28T23:28:29.967966",
     "exception": false,
     "start_time": "2025-02-28T23:28:29.937111",
     "status": "completed"
    },
    "tags": []
   },
   "outputs": [],
   "source": [
    "df.drop(columns=['availability'],inplace=True)"
   ]
  },
  {
   "cell_type": "code",
   "execution_count": 19,
   "id": "072ace42",
   "metadata": {
    "execution": {
     "iopub.execute_input": "2025-02-28T23:28:30.013924Z",
     "iopub.status.busy": "2025-02-28T23:28:30.013574Z",
     "iopub.status.idle": "2025-02-28T23:28:30.025480Z",
     "shell.execute_reply": "2025-02-28T23:28:30.024642Z"
    },
    "papermill": {
     "duration": 0.036611,
     "end_time": "2025-02-28T23:28:30.026991",
     "exception": false,
     "start_time": "2025-02-28T23:28:29.990380",
     "status": "completed"
    },
    "tags": []
   },
   "outputs": [
    {
     "data": {
      "text/html": [
       "<div>\n",
       "<style scoped>\n",
       "    .dataframe tbody tr th:only-of-type {\n",
       "        vertical-align: middle;\n",
       "    }\n",
       "\n",
       "    .dataframe tbody tr th {\n",
       "        vertical-align: top;\n",
       "    }\n",
       "\n",
       "    .dataframe thead th {\n",
       "        text-align: right;\n",
       "    }\n",
       "</style>\n",
       "<table border=\"1\" class=\"dataframe\">\n",
       "  <thead>\n",
       "    <tr style=\"text-align: right;\">\n",
       "      <th></th>\n",
       "      <th>location</th>\n",
       "      <th>size</th>\n",
       "      <th>total_sqft</th>\n",
       "      <th>bath</th>\n",
       "      <th>balcony</th>\n",
       "      <th>price</th>\n",
       "    </tr>\n",
       "  </thead>\n",
       "  <tbody>\n",
       "    <tr>\n",
       "      <th>13315</th>\n",
       "      <td>Whitefield</td>\n",
       "      <td>5 Bedroom</td>\n",
       "      <td>3453</td>\n",
       "      <td>4.0</td>\n",
       "      <td>0.0</td>\n",
       "      <td>231.0</td>\n",
       "    </tr>\n",
       "    <tr>\n",
       "      <th>13316</th>\n",
       "      <td>Richards Town</td>\n",
       "      <td>4 BHK</td>\n",
       "      <td>3600</td>\n",
       "      <td>5.0</td>\n",
       "      <td>NaN</td>\n",
       "      <td>400.0</td>\n",
       "    </tr>\n",
       "    <tr>\n",
       "      <th>13317</th>\n",
       "      <td>Raja Rajeshwari Nagar</td>\n",
       "      <td>2 BHK</td>\n",
       "      <td>1141</td>\n",
       "      <td>2.0</td>\n",
       "      <td>1.0</td>\n",
       "      <td>60.0</td>\n",
       "    </tr>\n",
       "    <tr>\n",
       "      <th>13318</th>\n",
       "      <td>Padmanabhanagar</td>\n",
       "      <td>4 BHK</td>\n",
       "      <td>4689</td>\n",
       "      <td>4.0</td>\n",
       "      <td>1.0</td>\n",
       "      <td>488.0</td>\n",
       "    </tr>\n",
       "    <tr>\n",
       "      <th>13319</th>\n",
       "      <td>Doddathoguru</td>\n",
       "      <td>1 BHK</td>\n",
       "      <td>550</td>\n",
       "      <td>1.0</td>\n",
       "      <td>1.0</td>\n",
       "      <td>17.0</td>\n",
       "    </tr>\n",
       "  </tbody>\n",
       "</table>\n",
       "</div>"
      ],
      "text/plain": [
       "                    location       size total_sqft  bath  balcony  price\n",
       "13315             Whitefield  5 Bedroom       3453   4.0      0.0  231.0\n",
       "13316          Richards Town      4 BHK       3600   5.0      NaN  400.0\n",
       "13317  Raja Rajeshwari Nagar      2 BHK       1141   2.0      1.0   60.0\n",
       "13318        Padmanabhanagar      4 BHK       4689   4.0      1.0  488.0\n",
       "13319           Doddathoguru      1 BHK        550   1.0      1.0   17.0"
      ]
     },
     "execution_count": 19,
     "metadata": {},
     "output_type": "execute_result"
    }
   ],
   "source": [
    "df.tail()"
   ]
  },
  {
   "cell_type": "markdown",
   "id": "a0f7550d",
   "metadata": {
    "papermill": {
     "duration": 0.022345,
     "end_time": "2025-02-28T23:28:30.072006",
     "exception": false,
     "start_time": "2025-02-28T23:28:30.049661",
     "status": "completed"
    },
    "tags": []
   },
   "source": [
    "<h2>Analysis of location column:</h2>"
   ]
  },
  {
   "cell_type": "code",
   "execution_count": 20,
   "id": "22a478d0",
   "metadata": {
    "execution": {
     "iopub.execute_input": "2025-02-28T23:28:30.118385Z",
     "iopub.status.busy": "2025-02-28T23:28:30.118013Z",
     "iopub.status.idle": "2025-02-28T23:28:30.127328Z",
     "shell.execute_reply": "2025-02-28T23:28:30.126452Z"
    },
    "papermill": {
     "duration": 0.034274,
     "end_time": "2025-02-28T23:28:30.128776",
     "exception": false,
     "start_time": "2025-02-28T23:28:30.094502",
     "status": "completed"
    },
    "tags": []
   },
   "outputs": [
    {
     "data": {
      "text/plain": [
       "location\n",
       "Whitefield                         540\n",
       "Sarjapur  Road                     399\n",
       "Electronic City                    302\n",
       "Kanakpura Road                     273\n",
       "Thanisandra                        234\n",
       "                                  ... \n",
       "3rd Stage Raja Rajeshwari Nagar      1\n",
       "Chuchangatta Colony                  1\n",
       "Electronic City Phase 1,             1\n",
       "Chikbasavanapura                     1\n",
       "Abshot Layout                        1\n",
       "Name: count, Length: 1305, dtype: int64"
      ]
     },
     "execution_count": 20,
     "metadata": {},
     "output_type": "execute_result"
    }
   ],
   "source": [
    "df['location'].value_counts()"
   ]
  },
  {
   "cell_type": "code",
   "execution_count": 21,
   "id": "378dc17a",
   "metadata": {
    "execution": {
     "iopub.execute_input": "2025-02-28T23:28:30.174956Z",
     "iopub.status.busy": "2025-02-28T23:28:30.174552Z",
     "iopub.status.idle": "2025-02-28T23:28:30.182593Z",
     "shell.execute_reply": "2025-02-28T23:28:30.181314Z"
    },
    "papermill": {
     "duration": 0.033225,
     "end_time": "2025-02-28T23:28:30.184474",
     "exception": false,
     "start_time": "2025-02-28T23:28:30.151249",
     "status": "completed"
    },
    "tags": []
   },
   "outputs": [
    {
     "data": {
      "text/plain": [
       "np.int64(1)"
      ]
     },
     "execution_count": 21,
     "metadata": {},
     "output_type": "execute_result"
    }
   ],
   "source": [
    "df['location'].isna().sum()"
   ]
  },
  {
   "cell_type": "code",
   "execution_count": 22,
   "id": "02030fac",
   "metadata": {
    "execution": {
     "iopub.execute_input": "2025-02-28T23:28:30.233276Z",
     "iopub.status.busy": "2025-02-28T23:28:30.232947Z",
     "iopub.status.idle": "2025-02-28T23:28:30.239576Z",
     "shell.execute_reply": "2025-02-28T23:28:30.238320Z"
    },
    "papermill": {
     "duration": 0.03333,
     "end_time": "2025-02-28T23:28:30.241573",
     "exception": false,
     "start_time": "2025-02-28T23:28:30.208243",
     "status": "completed"
    },
    "tags": []
   },
   "outputs": [],
   "source": [
    "#filling missing value with mode\n",
    "df['location'] = df['location'].fillna('Whitefield')"
   ]
  },
  {
   "cell_type": "code",
   "execution_count": 23,
   "id": "303640ef",
   "metadata": {
    "execution": {
     "iopub.execute_input": "2025-02-28T23:28:30.289303Z",
     "iopub.status.busy": "2025-02-28T23:28:30.288944Z",
     "iopub.status.idle": "2025-02-28T23:28:30.297064Z",
     "shell.execute_reply": "2025-02-28T23:28:30.295823Z"
    },
    "papermill": {
     "duration": 0.034338,
     "end_time": "2025-02-28T23:28:30.299205",
     "exception": false,
     "start_time": "2025-02-28T23:28:30.264867",
     "status": "completed"
    },
    "tags": []
   },
   "outputs": [
    {
     "data": {
      "text/plain": [
       "1305"
      ]
     },
     "execution_count": 23,
     "metadata": {},
     "output_type": "execute_result"
    }
   ],
   "source": [
    "df['location'].nunique()"
   ]
  },
  {
   "cell_type": "code",
   "execution_count": 24,
   "id": "b0cb9591",
   "metadata": {
    "execution": {
     "iopub.execute_input": "2025-02-28T23:28:30.350266Z",
     "iopub.status.busy": "2025-02-28T23:28:30.349901Z",
     "iopub.status.idle": "2025-02-28T23:28:30.356965Z",
     "shell.execute_reply": "2025-02-28T23:28:30.355805Z"
    },
    "papermill": {
     "duration": 0.035517,
     "end_time": "2025-02-28T23:28:30.358851",
     "exception": false,
     "start_time": "2025-02-28T23:28:30.323334",
     "status": "completed"
    },
    "tags": []
   },
   "outputs": [],
   "source": [
    "location_counts = df['location'].value_counts()"
   ]
  },
  {
   "cell_type": "code",
   "execution_count": 25,
   "id": "3cad90a0",
   "metadata": {
    "execution": {
     "iopub.execute_input": "2025-02-28T23:28:30.406860Z",
     "iopub.status.busy": "2025-02-28T23:28:30.406369Z",
     "iopub.status.idle": "2025-02-28T23:28:30.413092Z",
     "shell.execute_reply": "2025-02-28T23:28:30.412069Z"
    },
    "papermill": {
     "duration": 0.032484,
     "end_time": "2025-02-28T23:28:30.414707",
     "exception": false,
     "start_time": "2025-02-28T23:28:30.382223",
     "status": "completed"
    },
    "tags": []
   },
   "outputs": [
    {
     "data": {
      "text/plain": [
       "1064"
      ]
     },
     "execution_count": 25,
     "metadata": {},
     "output_type": "execute_result"
    }
   ],
   "source": [
    "len(location_counts[location_counts<=10])"
   ]
  },
  {
   "cell_type": "code",
   "execution_count": 26,
   "id": "7be70280",
   "metadata": {
    "execution": {
     "iopub.execute_input": "2025-02-28T23:28:30.463361Z",
     "iopub.status.busy": "2025-02-28T23:28:30.462960Z",
     "iopub.status.idle": "2025-02-28T23:28:30.469714Z",
     "shell.execute_reply": "2025-02-28T23:28:30.468687Z"
    },
    "papermill": {
     "duration": 0.032598,
     "end_time": "2025-02-28T23:28:30.471390",
     "exception": false,
     "start_time": "2025-02-28T23:28:30.438792",
     "status": "completed"
    },
    "tags": []
   },
   "outputs": [
    {
     "data": {
      "text/plain": [
       "241"
      ]
     },
     "execution_count": 26,
     "metadata": {},
     "output_type": "execute_result"
    }
   ],
   "source": [
    "len(location_counts[location_counts>10])"
   ]
  },
  {
   "cell_type": "code",
   "execution_count": 27,
   "id": "4a40392f",
   "metadata": {
    "execution": {
     "iopub.execute_input": "2025-02-28T23:28:30.520718Z",
     "iopub.status.busy": "2025-02-28T23:28:30.520229Z",
     "iopub.status.idle": "2025-02-28T23:28:30.562157Z",
     "shell.execute_reply": "2025-02-28T23:28:30.560984Z"
    },
    "papermill": {
     "duration": 0.069326,
     "end_time": "2025-02-28T23:28:30.564539",
     "exception": false,
     "start_time": "2025-02-28T23:28:30.495213",
     "status": "completed"
    },
    "tags": []
   },
   "outputs": [],
   "source": [
    "# There are 1064 locations with 10 or fewer occurrences.\n",
    "# To reduce the number of unique categories, these locations will be grouped under a new category named \"other\".\n",
    "df['location'] = df['location'].apply(lambda x:'other' if location_counts[x]<=10 else x)"
   ]
  },
  {
   "cell_type": "code",
   "execution_count": 28,
   "id": "e56b0663",
   "metadata": {
    "execution": {
     "iopub.execute_input": "2025-02-28T23:28:30.613743Z",
     "iopub.status.busy": "2025-02-28T23:28:30.613260Z",
     "iopub.status.idle": "2025-02-28T23:28:30.620178Z",
     "shell.execute_reply": "2025-02-28T23:28:30.619322Z"
    },
    "papermill": {
     "duration": 0.032783,
     "end_time": "2025-02-28T23:28:30.621775",
     "exception": false,
     "start_time": "2025-02-28T23:28:30.588992",
     "status": "completed"
    },
    "tags": []
   },
   "outputs": [
    {
     "data": {
      "text/plain": [
       "242"
      ]
     },
     "execution_count": 28,
     "metadata": {},
     "output_type": "execute_result"
    }
   ],
   "source": [
    "df['location'].nunique()"
   ]
  },
  {
   "cell_type": "markdown",
   "id": "9b6dbf8c",
   "metadata": {
    "papermill": {
     "duration": 0.023229,
     "end_time": "2025-02-28T23:28:30.668315",
     "exception": false,
     "start_time": "2025-02-28T23:28:30.645086",
     "status": "completed"
    },
    "tags": []
   },
   "source": [
    "now there are only 242 categories "
   ]
  },
  {
   "cell_type": "code",
   "execution_count": 29,
   "id": "a75f23bf",
   "metadata": {
    "execution": {
     "iopub.execute_input": "2025-02-28T23:28:30.716170Z",
     "iopub.status.busy": "2025-02-28T23:28:30.715827Z",
     "iopub.status.idle": "2025-02-28T23:28:30.727908Z",
     "shell.execute_reply": "2025-02-28T23:28:30.727016Z"
    },
    "papermill": {
     "duration": 0.037959,
     "end_time": "2025-02-28T23:28:30.729588",
     "exception": false,
     "start_time": "2025-02-28T23:28:30.691629",
     "status": "completed"
    },
    "tags": []
   },
   "outputs": [
    {
     "data": {
      "text/html": [
       "<div>\n",
       "<style scoped>\n",
       "    .dataframe tbody tr th:only-of-type {\n",
       "        vertical-align: middle;\n",
       "    }\n",
       "\n",
       "    .dataframe tbody tr th {\n",
       "        vertical-align: top;\n",
       "    }\n",
       "\n",
       "    .dataframe thead th {\n",
       "        text-align: right;\n",
       "    }\n",
       "</style>\n",
       "<table border=\"1\" class=\"dataframe\">\n",
       "  <thead>\n",
       "    <tr style=\"text-align: right;\">\n",
       "      <th></th>\n",
       "      <th>location</th>\n",
       "      <th>size</th>\n",
       "      <th>total_sqft</th>\n",
       "      <th>bath</th>\n",
       "      <th>balcony</th>\n",
       "      <th>price</th>\n",
       "    </tr>\n",
       "  </thead>\n",
       "  <tbody>\n",
       "    <tr>\n",
       "      <th>6024</th>\n",
       "      <td>Kasavanhalli</td>\n",
       "      <td>2 BHK</td>\n",
       "      <td>1105</td>\n",
       "      <td>2.0</td>\n",
       "      <td>2.0</td>\n",
       "      <td>42.0</td>\n",
       "    </tr>\n",
       "    <tr>\n",
       "      <th>4374</th>\n",
       "      <td>Banashankari Stage II</td>\n",
       "      <td>3 BHK</td>\n",
       "      <td>1500</td>\n",
       "      <td>2.0</td>\n",
       "      <td>1.0</td>\n",
       "      <td>120.0</td>\n",
       "    </tr>\n",
       "    <tr>\n",
       "      <th>7301</th>\n",
       "      <td>Sarjapur  Road</td>\n",
       "      <td>2 BHK</td>\n",
       "      <td>1350</td>\n",
       "      <td>2.0</td>\n",
       "      <td>2.0</td>\n",
       "      <td>68.0</td>\n",
       "    </tr>\n",
       "  </tbody>\n",
       "</table>\n",
       "</div>"
      ],
      "text/plain": [
       "                   location   size total_sqft  bath  balcony  price\n",
       "6024           Kasavanhalli  2 BHK       1105   2.0      2.0   42.0\n",
       "4374  Banashankari Stage II  3 BHK       1500   2.0      1.0  120.0\n",
       "7301         Sarjapur  Road  2 BHK       1350   2.0      2.0   68.0"
      ]
     },
     "execution_count": 29,
     "metadata": {},
     "output_type": "execute_result"
    }
   ],
   "source": [
    "df.sample(3)"
   ]
  },
  {
   "cell_type": "markdown",
   "id": "f235b537",
   "metadata": {
    "papermill": {
     "duration": 0.02434,
     "end_time": "2025-02-28T23:28:30.777555",
     "exception": false,
     "start_time": "2025-02-28T23:28:30.753215",
     "status": "completed"
    },
    "tags": []
   },
   "source": [
    "<h2>Analysis of size column:</h2>"
   ]
  },
  {
   "cell_type": "code",
   "execution_count": 30,
   "id": "a247f6a4",
   "metadata": {
    "execution": {
     "iopub.execute_input": "2025-02-28T23:28:30.827287Z",
     "iopub.status.busy": "2025-02-28T23:28:30.826946Z",
     "iopub.status.idle": "2025-02-28T23:28:30.834332Z",
     "shell.execute_reply": "2025-02-28T23:28:30.832974Z"
    },
    "papermill": {
     "duration": 0.033898,
     "end_time": "2025-02-28T23:28:30.836281",
     "exception": false,
     "start_time": "2025-02-28T23:28:30.802383",
     "status": "completed"
    },
    "tags": []
   },
   "outputs": [
    {
     "data": {
      "text/plain": [
       "np.int64(16)"
      ]
     },
     "execution_count": 30,
     "metadata": {},
     "output_type": "execute_result"
    }
   ],
   "source": [
    "df['size'].isnull().sum()"
   ]
  },
  {
   "cell_type": "code",
   "execution_count": 31,
   "id": "aec90968",
   "metadata": {
    "execution": {
     "iopub.execute_input": "2025-02-28T23:28:30.885507Z",
     "iopub.status.busy": "2025-02-28T23:28:30.885119Z",
     "iopub.status.idle": "2025-02-28T23:28:30.893984Z",
     "shell.execute_reply": "2025-02-28T23:28:30.892875Z"
    },
    "papermill": {
     "duration": 0.035649,
     "end_time": "2025-02-28T23:28:30.895621",
     "exception": false,
     "start_time": "2025-02-28T23:28:30.859972",
     "status": "completed"
    },
    "scrolled": true,
    "tags": []
   },
   "outputs": [
    {
     "data": {
      "text/plain": [
       "size\n",
       "2 BHK         5199\n",
       "3 BHK         4310\n",
       "4 Bedroom      826\n",
       "4 BHK          591\n",
       "3 Bedroom      547\n",
       "1 BHK          538\n",
       "2 Bedroom      329\n",
       "5 Bedroom      297\n",
       "6 Bedroom      191\n",
       "1 Bedroom      105\n",
       "8 Bedroom       84\n",
       "7 Bedroom       83\n",
       "5 BHK           59\n",
       "9 Bedroom       46\n",
       "6 BHK           30\n",
       "7 BHK           17\n",
       "1 RK            13\n",
       "10 Bedroom      12\n",
       "9 BHK            8\n",
       "8 BHK            5\n",
       "11 BHK           2\n",
       "10 BHK           2\n",
       "11 Bedroom       2\n",
       "27 BHK           1\n",
       "19 BHK           1\n",
       "43 Bedroom       1\n",
       "16 BHK           1\n",
       "14 BHK           1\n",
       "12 Bedroom       1\n",
       "13 BHK           1\n",
       "18 Bedroom       1\n",
       "Name: count, dtype: int64"
      ]
     },
     "execution_count": 31,
     "metadata": {},
     "output_type": "execute_result"
    }
   ],
   "source": [
    "df['size'].value_counts()"
   ]
  },
  {
   "cell_type": "code",
   "execution_count": 32,
   "id": "5e1aae0c",
   "metadata": {
    "execution": {
     "iopub.execute_input": "2025-02-28T23:28:30.944947Z",
     "iopub.status.busy": "2025-02-28T23:28:30.944613Z",
     "iopub.status.idle": "2025-02-28T23:28:30.950554Z",
     "shell.execute_reply": "2025-02-28T23:28:30.949649Z"
    },
    "papermill": {
     "duration": 0.032101,
     "end_time": "2025-02-28T23:28:30.952204",
     "exception": false,
     "start_time": "2025-02-28T23:28:30.920103",
     "status": "completed"
    },
    "tags": []
   },
   "outputs": [],
   "source": [
    "# filling missing value with 2 BHK\n",
    "df['size'] = df['size'].fillna('2 BHK')"
   ]
  },
  {
   "cell_type": "code",
   "execution_count": 33,
   "id": "d640ab69",
   "metadata": {
    "execution": {
     "iopub.execute_input": "2025-02-28T23:28:31.001291Z",
     "iopub.status.busy": "2025-02-28T23:28:31.000958Z",
     "iopub.status.idle": "2025-02-28T23:28:31.009339Z",
     "shell.execute_reply": "2025-02-28T23:28:31.008507Z"
    },
    "papermill": {
     "duration": 0.034985,
     "end_time": "2025-02-28T23:28:31.011085",
     "exception": false,
     "start_time": "2025-02-28T23:28:30.976100",
     "status": "completed"
    },
    "scrolled": true,
    "tags": []
   },
   "outputs": [
    {
     "data": {
      "text/plain": [
       "size\n",
       "2 BHK         5215\n",
       "3 BHK         4310\n",
       "4 Bedroom      826\n",
       "4 BHK          591\n",
       "3 Bedroom      547\n",
       "1 BHK          538\n",
       "2 Bedroom      329\n",
       "5 Bedroom      297\n",
       "6 Bedroom      191\n",
       "1 Bedroom      105\n",
       "8 Bedroom       84\n",
       "7 Bedroom       83\n",
       "5 BHK           59\n",
       "9 Bedroom       46\n",
       "6 BHK           30\n",
       "7 BHK           17\n",
       "1 RK            13\n",
       "10 Bedroom      12\n",
       "9 BHK            8\n",
       "8 BHK            5\n",
       "11 BHK           2\n",
       "10 BHK           2\n",
       "11 Bedroom       2\n",
       "27 BHK           1\n",
       "19 BHK           1\n",
       "43 Bedroom       1\n",
       "16 BHK           1\n",
       "14 BHK           1\n",
       "12 Bedroom       1\n",
       "13 BHK           1\n",
       "18 Bedroom       1\n",
       "Name: count, dtype: int64"
      ]
     },
     "execution_count": 33,
     "metadata": {},
     "output_type": "execute_result"
    }
   ],
   "source": [
    "df['size'].value_counts()"
   ]
  },
  {
   "cell_type": "markdown",
   "id": "f1954493",
   "metadata": {
    "papermill": {
     "duration": 0.023635,
     "end_time": "2025-02-28T23:28:31.058592",
     "exception": false,
     "start_time": "2025-02-28T23:28:31.034957",
     "status": "completed"
    },
    "tags": []
   },
   "source": [
    "The 'size' column contains two types of categories: 'Bedroom' and 'BHK'.<br>\n",
    "To ensure consistency, this needs to be standardized.<br>\n",
    "making a new column BHK "
   ]
  },
  {
   "cell_type": "code",
   "execution_count": 34,
   "id": "65e998d6",
   "metadata": {
    "execution": {
     "iopub.execute_input": "2025-02-28T23:28:31.107179Z",
     "iopub.status.busy": "2025-02-28T23:28:31.106850Z",
     "iopub.status.idle": "2025-02-28T23:28:31.127048Z",
     "shell.execute_reply": "2025-02-28T23:28:31.125986Z"
    },
    "papermill": {
     "duration": 0.046582,
     "end_time": "2025-02-28T23:28:31.128744",
     "exception": false,
     "start_time": "2025-02-28T23:28:31.082162",
     "status": "completed"
    },
    "tags": []
   },
   "outputs": [],
   "source": [
    "df['BHK'] = df['size'].str.split(' ').str[0].astype(int)"
   ]
  },
  {
   "cell_type": "code",
   "execution_count": 35,
   "id": "27947cb1",
   "metadata": {
    "execution": {
     "iopub.execute_input": "2025-02-28T23:28:31.177942Z",
     "iopub.status.busy": "2025-02-28T23:28:31.177561Z",
     "iopub.status.idle": "2025-02-28T23:28:31.187185Z",
     "shell.execute_reply": "2025-02-28T23:28:31.186061Z"
    },
    "papermill": {
     "duration": 0.036539,
     "end_time": "2025-02-28T23:28:31.189011",
     "exception": false,
     "start_time": "2025-02-28T23:28:31.152472",
     "status": "completed"
    },
    "scrolled": true,
    "tags": []
   },
   "outputs": [
    {
     "data": {
      "text/plain": [
       "BHK\n",
       "2     5544\n",
       "3     4857\n",
       "4     1417\n",
       "1      656\n",
       "5      356\n",
       "6      221\n",
       "7      100\n",
       "8       89\n",
       "9       54\n",
       "10      14\n",
       "11       4\n",
       "27       1\n",
       "19       1\n",
       "16       1\n",
       "43       1\n",
       "14       1\n",
       "12       1\n",
       "13       1\n",
       "18       1\n",
       "Name: count, dtype: int64"
      ]
     },
     "execution_count": 35,
     "metadata": {},
     "output_type": "execute_result"
    }
   ],
   "source": [
    "df['BHK'].value_counts()"
   ]
  },
  {
   "cell_type": "code",
   "execution_count": 36,
   "id": "15ee7087",
   "metadata": {
    "execution": {
     "iopub.execute_input": "2025-02-28T23:28:31.239766Z",
     "iopub.status.busy": "2025-02-28T23:28:31.239336Z",
     "iopub.status.idle": "2025-02-28T23:28:31.724629Z",
     "shell.execute_reply": "2025-02-28T23:28:31.723377Z"
    },
    "papermill": {
     "duration": 0.512949,
     "end_time": "2025-02-28T23:28:31.726279",
     "exception": false,
     "start_time": "2025-02-28T23:28:31.213330",
     "status": "completed"
    },
    "tags": []
   },
   "outputs": [
    {
     "data": {
      "image/png": "[encoded data removed]",
      "text/plain": [
       "<Figure size 640x480 with 1 Axes>"
      ]
     },
     "metadata": {},
     "output_type": "display_data"
    }
   ],
   "source": [
    "sns.boxplot(x=df['BHK'],y=df['price'])\n",
    "plt.show()"
   ]
  },
  {
   "cell_type": "code",
   "execution_count": 37,
   "id": "7f565e0a",
   "metadata": {
    "execution": {
     "iopub.execute_input": "2025-02-28T23:28:31.826093Z",
     "iopub.status.busy": "2025-02-28T23:28:31.825755Z",
     "iopub.status.idle": "2025-02-28T23:28:31.831491Z",
     "shell.execute_reply": "2025-02-28T23:28:31.830539Z"
    },
    "papermill": {
     "duration": 0.033002,
     "end_time": "2025-02-28T23:28:31.833108",
     "exception": false,
     "start_time": "2025-02-28T23:28:31.800106",
     "status": "completed"
    },
    "tags": []
   },
   "outputs": [],
   "source": [
    "df.drop(columns=['size'],inplace=True)"
   ]
  },
  {
   "cell_type": "code",
   "execution_count": 38,
   "id": "a56b459a",
   "metadata": {
    "execution": {
     "iopub.execute_input": "2025-02-28T23:28:31.883981Z",
     "iopub.status.busy": "2025-02-28T23:28:31.883569Z",
     "iopub.status.idle": "2025-02-28T23:28:31.897519Z",
     "shell.execute_reply": "2025-02-28T23:28:31.896355Z"
    },
    "papermill": {
     "duration": 0.041469,
     "end_time": "2025-02-28T23:28:31.899201",
     "exception": false,
     "start_time": "2025-02-28T23:28:31.857732",
     "status": "completed"
    },
    "tags": []
   },
   "outputs": [
    {
     "data": {
      "text/html": [
       "<div>\n",
       "<style scoped>\n",
       "    .dataframe tbody tr th:only-of-type {\n",
       "        vertical-align: middle;\n",
       "    }\n",
       "\n",
       "    .dataframe tbody tr th {\n",
       "        vertical-align: top;\n",
       "    }\n",
       "\n",
       "    .dataframe thead th {\n",
       "        text-align: right;\n",
       "    }\n",
       "</style>\n",
       "<table border=\"1\" class=\"dataframe\">\n",
       "  <thead>\n",
       "    <tr style=\"text-align: right;\">\n",
       "      <th></th>\n",
       "      <th>location</th>\n",
       "      <th>total_sqft</th>\n",
       "      <th>bath</th>\n",
       "      <th>balcony</th>\n",
       "      <th>price</th>\n",
       "      <th>BHK</th>\n",
       "    </tr>\n",
       "  </thead>\n",
       "  <tbody>\n",
       "    <tr>\n",
       "      <th>4681</th>\n",
       "      <td>Whitefield</td>\n",
       "      <td>2700</td>\n",
       "      <td>5.0</td>\n",
       "      <td>2.0</td>\n",
       "      <td>175.0</td>\n",
       "      <td>3</td>\n",
       "    </tr>\n",
       "    <tr>\n",
       "      <th>12365</th>\n",
       "      <td>Domlur</td>\n",
       "      <td>1650</td>\n",
       "      <td>3.0</td>\n",
       "      <td>1.0</td>\n",
       "      <td>180.0</td>\n",
       "      <td>3</td>\n",
       "    </tr>\n",
       "    <tr>\n",
       "      <th>5776</th>\n",
       "      <td>Akshaya Nagar</td>\n",
       "      <td>1126</td>\n",
       "      <td>2.0</td>\n",
       "      <td>1.0</td>\n",
       "      <td>55.0</td>\n",
       "      <td>2</td>\n",
       "    </tr>\n",
       "    <tr>\n",
       "      <th>9956</th>\n",
       "      <td>other</td>\n",
       "      <td>1210</td>\n",
       "      <td>2.0</td>\n",
       "      <td>0.0</td>\n",
       "      <td>75.0</td>\n",
       "      <td>2</td>\n",
       "    </tr>\n",
       "    <tr>\n",
       "      <th>2393</th>\n",
       "      <td>Singasandra</td>\n",
       "      <td>1100</td>\n",
       "      <td>2.0</td>\n",
       "      <td>1.0</td>\n",
       "      <td>52.0</td>\n",
       "      <td>2</td>\n",
       "    </tr>\n",
       "  </tbody>\n",
       "</table>\n",
       "</div>"
      ],
      "text/plain": [
       "            location total_sqft  bath  balcony  price  BHK\n",
       "4681      Whitefield       2700   5.0      2.0  175.0    3\n",
       "12365         Domlur       1650   3.0      1.0  180.0    3\n",
       "5776   Akshaya Nagar       1126   2.0      1.0   55.0    2\n",
       "9956           other       1210   2.0      0.0   75.0    2\n",
       "2393     Singasandra       1100   2.0      1.0   52.0    2"
      ]
     },
     "execution_count": 38,
     "metadata": {},
     "output_type": "execute_result"
    }
   ],
   "source": [
    "df.sample(5)"
   ]
  },
  {
   "cell_type": "markdown",
   "id": "d64ae1c3",
   "metadata": {
    "papermill": {
     "duration": 0.024481,
     "end_time": "2025-02-28T23:28:31.948563",
     "exception": false,
     "start_time": "2025-02-28T23:28:31.924082",
     "status": "completed"
    },
    "tags": []
   },
   "source": [
    "<h2> Analysis of total_sqft column:</h2>"
   ]
  },
  {
   "cell_type": "code",
   "execution_count": 39,
   "id": "9f3b5393",
   "metadata": {
    "execution": {
     "iopub.execute_input": "2025-02-28T23:28:31.999136Z",
     "iopub.status.busy": "2025-02-28T23:28:31.998802Z",
     "iopub.status.idle": "2025-02-28T23:28:32.006214Z",
     "shell.execute_reply": "2025-02-28T23:28:32.004956Z"
    },
    "papermill": {
     "duration": 0.03487,
     "end_time": "2025-02-28T23:28:32.008116",
     "exception": false,
     "start_time": "2025-02-28T23:28:31.973246",
     "status": "completed"
    },
    "tags": []
   },
   "outputs": [
    {
     "data": {
      "text/plain": [
       "2117"
      ]
     },
     "execution_count": 39,
     "metadata": {},
     "output_type": "execute_result"
    }
   ],
   "source": [
    "df['total_sqft'].nunique()"
   ]
  },
  {
   "cell_type": "code",
   "execution_count": 40,
   "id": "71a396ca",
   "metadata": {
    "execution": {
     "iopub.execute_input": "2025-02-28T23:28:32.059337Z",
     "iopub.status.busy": "2025-02-28T23:28:32.058966Z",
     "iopub.status.idle": "2025-02-28T23:28:32.066198Z",
     "shell.execute_reply": "2025-02-28T23:28:32.065018Z"
    },
    "papermill": {
     "duration": 0.0349,
     "end_time": "2025-02-28T23:28:32.067942",
     "exception": false,
     "start_time": "2025-02-28T23:28:32.033042",
     "status": "completed"
    },
    "tags": []
   },
   "outputs": [
    {
     "data": {
      "text/plain": [
       "array(['1056', '2600', '1440', ..., '1133 - 1384', '774', '4689'],\n",
       "      shape=(2117,), dtype=object)"
      ]
     },
     "execution_count": 40,
     "metadata": {},
     "output_type": "execute_result"
    }
   ],
   "source": [
    "df['total_sqft'].unique()"
   ]
  },
  {
   "cell_type": "code",
   "execution_count": 41,
   "id": "d3121abc",
   "metadata": {
    "execution": {
     "iopub.execute_input": "2025-02-28T23:28:32.120841Z",
     "iopub.status.busy": "2025-02-28T23:28:32.120469Z",
     "iopub.status.idle": "2025-02-28T23:28:32.125781Z",
     "shell.execute_reply": "2025-02-28T23:28:32.124595Z"
    },
    "papermill": {
     "duration": 0.033578,
     "end_time": "2025-02-28T23:28:32.127334",
     "exception": false,
     "start_time": "2025-02-28T23:28:32.093756",
     "status": "completed"
    },
    "tags": []
   },
   "outputs": [],
   "source": [
    "# there are few values in ranges \n",
    "def convert_ranges_to_sqft(x):\n",
    "    temp = x.split('-')\n",
    "    if(len(temp)==2):\n",
    "        return (float(temp[0])+float(temp[1]))/2\n",
    "    try:\n",
    "        return float(x)\n",
    "    except:\n",
    "        return None"
   ]
  },
  {
   "cell_type": "code",
   "execution_count": 42,
   "id": "a9f86e50",
   "metadata": {
    "execution": {
     "iopub.execute_input": "2025-02-28T23:28:32.178626Z",
     "iopub.status.busy": "2025-02-28T23:28:32.178165Z",
     "iopub.status.idle": "2025-02-28T23:28:32.190681Z",
     "shell.execute_reply": "2025-02-28T23:28:32.189499Z"
    },
    "papermill": {
     "duration": 0.040275,
     "end_time": "2025-02-28T23:28:32.192606",
     "exception": false,
     "start_time": "2025-02-28T23:28:32.152331",
     "status": "completed"
    },
    "scrolled": true,
    "tags": []
   },
   "outputs": [],
   "source": [
    "df['total_sqft'] = df['total_sqft'].apply(convert_ranges_to_sqft)"
   ]
  },
  {
   "cell_type": "code",
   "execution_count": 43,
   "id": "e702d147",
   "metadata": {
    "execution": {
     "iopub.execute_input": "2025-02-28T23:28:32.245029Z",
     "iopub.status.busy": "2025-02-28T23:28:32.244666Z",
     "iopub.status.idle": "2025-02-28T23:28:32.257502Z",
     "shell.execute_reply": "2025-02-28T23:28:32.256588Z"
    },
    "papermill": {
     "duration": 0.040297,
     "end_time": "2025-02-28T23:28:32.258998",
     "exception": false,
     "start_time": "2025-02-28T23:28:32.218701",
     "status": "completed"
    },
    "tags": []
   },
   "outputs": [
    {
     "data": {
      "text/html": [
       "<div>\n",
       "<style scoped>\n",
       "    .dataframe tbody tr th:only-of-type {\n",
       "        vertical-align: middle;\n",
       "    }\n",
       "\n",
       "    .dataframe tbody tr th {\n",
       "        vertical-align: top;\n",
       "    }\n",
       "\n",
       "    .dataframe thead th {\n",
       "        text-align: right;\n",
       "    }\n",
       "</style>\n",
       "<table border=\"1\" class=\"dataframe\">\n",
       "  <thead>\n",
       "    <tr style=\"text-align: right;\">\n",
       "      <th></th>\n",
       "      <th>location</th>\n",
       "      <th>total_sqft</th>\n",
       "      <th>bath</th>\n",
       "      <th>balcony</th>\n",
       "      <th>price</th>\n",
       "      <th>BHK</th>\n",
       "    </tr>\n",
       "  </thead>\n",
       "  <tbody>\n",
       "    <tr>\n",
       "      <th>2859</th>\n",
       "      <td>Basavangudi</td>\n",
       "      <td>1036.0</td>\n",
       "      <td>2.0</td>\n",
       "      <td>2.0</td>\n",
       "      <td>105.00</td>\n",
       "      <td>2</td>\n",
       "    </tr>\n",
       "    <tr>\n",
       "      <th>9132</th>\n",
       "      <td>Uttarahalli</td>\n",
       "      <td>1330.0</td>\n",
       "      <td>2.0</td>\n",
       "      <td>2.0</td>\n",
       "      <td>46.55</td>\n",
       "      <td>3</td>\n",
       "    </tr>\n",
       "    <tr>\n",
       "      <th>5871</th>\n",
       "      <td>Anekal</td>\n",
       "      <td>997.0</td>\n",
       "      <td>3.0</td>\n",
       "      <td>2.0</td>\n",
       "      <td>55.00</td>\n",
       "      <td>3</td>\n",
       "    </tr>\n",
       "  </tbody>\n",
       "</table>\n",
       "</div>"
      ],
      "text/plain": [
       "         location  total_sqft  bath  balcony   price  BHK\n",
       "2859  Basavangudi      1036.0   2.0      2.0  105.00    2\n",
       "9132  Uttarahalli      1330.0   2.0      2.0   46.55    3\n",
       "5871       Anekal       997.0   3.0      2.0   55.00    3"
      ]
     },
     "execution_count": 43,
     "metadata": {},
     "output_type": "execute_result"
    }
   ],
   "source": [
    "df.sample(3)"
   ]
  },
  {
   "cell_type": "markdown",
   "id": "95968e23",
   "metadata": {
    "papermill": {
     "duration": 0.024716,
     "end_time": "2025-02-28T23:28:32.308728",
     "exception": false,
     "start_time": "2025-02-28T23:28:32.284012",
     "status": "completed"
    },
    "tags": []
   },
   "source": [
    "<h4>creating a new columns price per sqft because it's a very important feature in real state:</h4>"
   ]
  },
  {
   "cell_type": "code",
   "execution_count": 44,
   "id": "12778daa",
   "metadata": {
    "execution": {
     "iopub.execute_input": "2025-02-28T23:28:32.363207Z",
     "iopub.status.busy": "2025-02-28T23:28:32.362841Z",
     "iopub.status.idle": "2025-02-28T23:28:32.374951Z",
     "shell.execute_reply": "2025-02-28T23:28:32.373670Z"
    },
    "papermill": {
     "duration": 0.043263,
     "end_time": "2025-02-28T23:28:32.377013",
     "exception": false,
     "start_time": "2025-02-28T23:28:32.333750",
     "status": "completed"
    },
    "tags": []
   },
   "outputs": [],
   "source": [
    "df['price_per_sqft'] = df['price']*100000/df['total_sqft']"
   ]
  },
  {
   "cell_type": "code",
   "execution_count": 45,
   "id": "8c3980d5",
   "metadata": {
    "execution": {
     "iopub.execute_input": "2025-02-28T23:28:32.429777Z",
     "iopub.status.busy": "2025-02-28T23:28:32.429312Z",
     "iopub.status.idle": "2025-02-28T23:28:32.437293Z",
     "shell.execute_reply": "2025-02-28T23:28:32.436164Z"
    },
    "papermill": {
     "duration": 0.036106,
     "end_time": "2025-02-28T23:28:32.439141",
     "exception": false,
     "start_time": "2025-02-28T23:28:32.403035",
     "status": "completed"
    },
    "tags": []
   },
   "outputs": [
    {
     "data": {
      "text/plain": [
       "0         3699.810606\n",
       "1         4615.384615\n",
       "2         4305.555556\n",
       "3         6245.890861\n",
       "4         4250.000000\n",
       "             ...     \n",
       "13315     6689.834926\n",
       "13316    11111.111111\n",
       "13317     5258.545136\n",
       "13318    10407.336319\n",
       "13319     3090.909091\n",
       "Name: price_per_sqft, Length: 13320, dtype: float64"
      ]
     },
     "execution_count": 45,
     "metadata": {},
     "output_type": "execute_result"
    }
   ],
   "source": [
    "df['price_per_sqft']"
   ]
  },
  {
   "cell_type": "code",
   "execution_count": 46,
   "id": "dd2c9014",
   "metadata": {
    "execution": {
     "iopub.execute_input": "2025-02-28T23:28:32.490855Z",
     "iopub.status.busy": "2025-02-28T23:28:32.490492Z",
     "iopub.status.idle": "2025-02-28T23:28:32.517154Z",
     "shell.execute_reply": "2025-02-28T23:28:32.515815Z"
    },
    "papermill": {
     "duration": 0.054703,
     "end_time": "2025-02-28T23:28:32.519090",
     "exception": false,
     "start_time": "2025-02-28T23:28:32.464387",
     "status": "completed"
    },
    "tags": []
   },
   "outputs": [
    {
     "data": {
      "text/html": [
       "<div>\n",
       "<style scoped>\n",
       "    .dataframe tbody tr th:only-of-type {\n",
       "        vertical-align: middle;\n",
       "    }\n",
       "\n",
       "    .dataframe tbody tr th {\n",
       "        vertical-align: top;\n",
       "    }\n",
       "\n",
       "    .dataframe thead th {\n",
       "        text-align: right;\n",
       "    }\n",
       "</style>\n",
       "<table border=\"1\" class=\"dataframe\">\n",
       "  <thead>\n",
       "    <tr style=\"text-align: right;\">\n",
       "      <th></th>\n",
       "      <th>total_sqft</th>\n",
       "      <th>bath</th>\n",
       "      <th>balcony</th>\n",
       "      <th>price</th>\n",
       "      <th>BHK</th>\n",
       "      <th>price_per_sqft</th>\n",
       "    </tr>\n",
       "  </thead>\n",
       "  <tbody>\n",
       "    <tr>\n",
       "      <th>count</th>\n",
       "      <td>13274.000000</td>\n",
       "      <td>13247.000000</td>\n",
       "      <td>12711.000000</td>\n",
       "      <td>13320.000000</td>\n",
       "      <td>13320.000000</td>\n",
       "      <td>1.327400e+04</td>\n",
       "    </tr>\n",
       "    <tr>\n",
       "      <th>mean</th>\n",
       "      <td>1559.626694</td>\n",
       "      <td>2.692610</td>\n",
       "      <td>1.584376</td>\n",
       "      <td>112.565627</td>\n",
       "      <td>2.802778</td>\n",
       "      <td>7.907501e+03</td>\n",
       "    </tr>\n",
       "    <tr>\n",
       "      <th>std</th>\n",
       "      <td>1238.405258</td>\n",
       "      <td>1.341458</td>\n",
       "      <td>0.817263</td>\n",
       "      <td>148.971674</td>\n",
       "      <td>1.294496</td>\n",
       "      <td>1.064296e+05</td>\n",
       "    </tr>\n",
       "    <tr>\n",
       "      <th>min</th>\n",
       "      <td>1.000000</td>\n",
       "      <td>1.000000</td>\n",
       "      <td>0.000000</td>\n",
       "      <td>8.000000</td>\n",
       "      <td>1.000000</td>\n",
       "      <td>2.678298e+02</td>\n",
       "    </tr>\n",
       "    <tr>\n",
       "      <th>25%</th>\n",
       "      <td>1100.000000</td>\n",
       "      <td>2.000000</td>\n",
       "      <td>1.000000</td>\n",
       "      <td>50.000000</td>\n",
       "      <td>2.000000</td>\n",
       "      <td>4.266865e+03</td>\n",
       "    </tr>\n",
       "    <tr>\n",
       "      <th>50%</th>\n",
       "      <td>1276.000000</td>\n",
       "      <td>2.000000</td>\n",
       "      <td>2.000000</td>\n",
       "      <td>72.000000</td>\n",
       "      <td>3.000000</td>\n",
       "      <td>5.434306e+03</td>\n",
       "    </tr>\n",
       "    <tr>\n",
       "      <th>75%</th>\n",
       "      <td>1680.000000</td>\n",
       "      <td>3.000000</td>\n",
       "      <td>2.000000</td>\n",
       "      <td>120.000000</td>\n",
       "      <td>3.000000</td>\n",
       "      <td>7.311746e+03</td>\n",
       "    </tr>\n",
       "    <tr>\n",
       "      <th>max</th>\n",
       "      <td>52272.000000</td>\n",
       "      <td>40.000000</td>\n",
       "      <td>3.000000</td>\n",
       "      <td>3600.000000</td>\n",
       "      <td>43.000000</td>\n",
       "      <td>1.200000e+07</td>\n",
       "    </tr>\n",
       "  </tbody>\n",
       "</table>\n",
       "</div>"
      ],
      "text/plain": [
       "         total_sqft          bath       balcony         price           BHK  \\\n",
       "count  13274.000000  13247.000000  12711.000000  13320.000000  13320.000000   \n",
       "mean    1559.626694      2.692610      1.584376    112.565627      2.802778   \n",
       "std     1238.405258      1.341458      0.817263    148.971674      1.294496   \n",
       "min        1.000000      1.000000      0.000000      8.000000      1.000000   \n",
       "25%     1100.000000      2.000000      1.000000     50.000000      2.000000   \n",
       "50%     1276.000000      2.000000      2.000000     72.000000      3.000000   \n",
       "75%     1680.000000      3.000000      2.000000    120.000000      3.000000   \n",
       "max    52272.000000     40.000000      3.000000   3600.000000     43.000000   \n",
       "\n",
       "       price_per_sqft  \n",
       "count    1.327400e+04  \n",
       "mean     7.907501e+03  \n",
       "std      1.064296e+05  \n",
       "min      2.678298e+02  \n",
       "25%      4.266865e+03  \n",
       "50%      5.434306e+03  \n",
       "75%      7.311746e+03  \n",
       "max      1.200000e+07  "
      ]
     },
     "execution_count": 46,
     "metadata": {},
     "output_type": "execute_result"
    }
   ],
   "source": [
    "df.describe()"
   ]
  },
  {
   "cell_type": "code",
   "execution_count": 47,
   "id": "86b303f4",
   "metadata": {
    "execution": {
     "iopub.execute_input": "2025-02-28T23:28:32.572680Z",
     "iopub.status.busy": "2025-02-28T23:28:32.572232Z",
     "iopub.status.idle": "2025-02-28T23:28:32.585911Z",
     "shell.execute_reply": "2025-02-28T23:28:32.584840Z"
    },
    "papermill": {
     "duration": 0.043195,
     "end_time": "2025-02-28T23:28:32.587588",
     "exception": false,
     "start_time": "2025-02-28T23:28:32.544393",
     "status": "completed"
    },
    "tags": []
   },
   "outputs": [
    {
     "data": {
      "text/html": [
       "<div>\n",
       "<style scoped>\n",
       "    .dataframe tbody tr th:only-of-type {\n",
       "        vertical-align: middle;\n",
       "    }\n",
       "\n",
       "    .dataframe tbody tr th {\n",
       "        vertical-align: top;\n",
       "    }\n",
       "\n",
       "    .dataframe thead th {\n",
       "        text-align: right;\n",
       "    }\n",
       "</style>\n",
       "<table border=\"1\" class=\"dataframe\">\n",
       "  <thead>\n",
       "    <tr style=\"text-align: right;\">\n",
       "      <th></th>\n",
       "      <th>location</th>\n",
       "      <th>total_sqft</th>\n",
       "      <th>bath</th>\n",
       "      <th>balcony</th>\n",
       "      <th>price</th>\n",
       "      <th>BHK</th>\n",
       "      <th>price_per_sqft</th>\n",
       "    </tr>\n",
       "  </thead>\n",
       "  <tbody>\n",
       "    <tr>\n",
       "      <th>9604</th>\n",
       "      <td>Banashankari</td>\n",
       "      <td>1020.0</td>\n",
       "      <td>2.0</td>\n",
       "      <td>1.0</td>\n",
       "      <td>42.83</td>\n",
       "      <td>2</td>\n",
       "      <td>4199.019608</td>\n",
       "    </tr>\n",
       "    <tr>\n",
       "      <th>6586</th>\n",
       "      <td>Electronics City Phase 1</td>\n",
       "      <td>360.0</td>\n",
       "      <td>1.0</td>\n",
       "      <td>0.0</td>\n",
       "      <td>16.90</td>\n",
       "      <td>1</td>\n",
       "      <td>4694.444444</td>\n",
       "    </tr>\n",
       "    <tr>\n",
       "      <th>1308</th>\n",
       "      <td>KR Puram</td>\n",
       "      <td>1100.0</td>\n",
       "      <td>2.0</td>\n",
       "      <td>1.0</td>\n",
       "      <td>47.00</td>\n",
       "      <td>2</td>\n",
       "      <td>4272.727273</td>\n",
       "    </tr>\n",
       "  </tbody>\n",
       "</table>\n",
       "</div>"
      ],
      "text/plain": [
       "                      location  total_sqft  bath  balcony  price  BHK  \\\n",
       "9604              Banashankari      1020.0   2.0      1.0  42.83    2   \n",
       "6586  Electronics City Phase 1       360.0   1.0      0.0  16.90    1   \n",
       "1308                  KR Puram      1100.0   2.0      1.0  47.00    2   \n",
       "\n",
       "      price_per_sqft  \n",
       "9604     4199.019608  \n",
       "6586     4694.444444  \n",
       "1308     4272.727273  "
      ]
     },
     "execution_count": 47,
     "metadata": {},
     "output_type": "execute_result"
    }
   ],
   "source": [
    "df.sample(3)"
   ]
  },
  {
   "cell_type": "markdown",
   "id": "169dc78a",
   "metadata": {
    "papermill": {
     "duration": 0.025792,
     "end_time": "2025-02-28T23:28:32.639659",
     "exception": false,
     "start_time": "2025-02-28T23:28:32.613867",
     "status": "completed"
    },
    "tags": []
   },
   "source": [
    "<h2>Analysis of bath column:</h2>"
   ]
  },
  {
   "cell_type": "code",
   "execution_count": 48,
   "id": "dd10894d",
   "metadata": {
    "execution": {
     "iopub.execute_input": "2025-02-28T23:28:32.691675Z",
     "iopub.status.busy": "2025-02-28T23:28:32.691299Z",
     "iopub.status.idle": "2025-02-28T23:28:32.697448Z",
     "shell.execute_reply": "2025-02-28T23:28:32.696610Z"
    },
    "papermill": {
     "duration": 0.034187,
     "end_time": "2025-02-28T23:28:32.699209",
     "exception": false,
     "start_time": "2025-02-28T23:28:32.665022",
     "status": "completed"
    },
    "tags": []
   },
   "outputs": [
    {
     "data": {
      "text/plain": [
       "19"
      ]
     },
     "execution_count": 48,
     "metadata": {},
     "output_type": "execute_result"
    }
   ],
   "source": [
    "df['bath'].nunique()"
   ]
  },
  {
   "cell_type": "code",
   "execution_count": 49,
   "id": "f3a247ee",
   "metadata": {
    "execution": {
     "iopub.execute_input": "2025-02-28T23:28:32.752595Z",
     "iopub.status.busy": "2025-02-28T23:28:32.752109Z",
     "iopub.status.idle": "2025-02-28T23:28:32.761550Z",
     "shell.execute_reply": "2025-02-28T23:28:32.760299Z"
    },
    "papermill": {
     "duration": 0.037753,
     "end_time": "2025-02-28T23:28:32.763291",
     "exception": false,
     "start_time": "2025-02-28T23:28:32.725538",
     "status": "completed"
    },
    "scrolled": true,
    "tags": []
   },
   "outputs": [
    {
     "data": {
      "text/plain": [
       "bath\n",
       "2.0     6908\n",
       "3.0     3286\n",
       "4.0     1226\n",
       "1.0      788\n",
       "5.0      524\n",
       "6.0      273\n",
       "7.0      102\n",
       "8.0       64\n",
       "9.0       43\n",
       "10.0      13\n",
       "12.0       7\n",
       "11.0       3\n",
       "13.0       3\n",
       "16.0       2\n",
       "27.0       1\n",
       "14.0       1\n",
       "40.0       1\n",
       "15.0       1\n",
       "18.0       1\n",
       "Name: count, dtype: int64"
      ]
     },
     "execution_count": 49,
     "metadata": {},
     "output_type": "execute_result"
    }
   ],
   "source": [
    "df['bath'].value_counts()"
   ]
  },
  {
   "cell_type": "code",
   "execution_count": 50,
   "id": "c4e60a0e",
   "metadata": {
    "execution": {
     "iopub.execute_input": "2025-02-28T23:28:32.817491Z",
     "iopub.status.busy": "2025-02-28T23:28:32.817079Z",
     "iopub.status.idle": "2025-02-28T23:28:32.824033Z",
     "shell.execute_reply": "2025-02-28T23:28:32.822979Z"
    },
    "papermill": {
     "duration": 0.036498,
     "end_time": "2025-02-28T23:28:32.825820",
     "exception": false,
     "start_time": "2025-02-28T23:28:32.789322",
     "status": "completed"
    },
    "tags": []
   },
   "outputs": [
    {
     "data": {
      "text/plain": [
       "array([ 2.,  5.,  3.,  4.,  6.,  1.,  9., nan,  8.,  7., 11., 10., 14.,\n",
       "       27., 12., 16., 40., 15., 13., 18.])"
      ]
     },
     "execution_count": 50,
     "metadata": {},
     "output_type": "execute_result"
    }
   ],
   "source": [
    "df['bath'].unique()"
   ]
  },
  {
   "cell_type": "code",
   "execution_count": 51,
   "id": "25958fad",
   "metadata": {
    "execution": {
     "iopub.execute_input": "2025-02-28T23:28:32.879246Z",
     "iopub.status.busy": "2025-02-28T23:28:32.878833Z",
     "iopub.status.idle": "2025-02-28T23:28:32.885523Z",
     "shell.execute_reply": "2025-02-28T23:28:32.884483Z"
    },
    "papermill": {
     "duration": 0.035434,
     "end_time": "2025-02-28T23:28:32.887167",
     "exception": false,
     "start_time": "2025-02-28T23:28:32.851733",
     "status": "completed"
    },
    "tags": []
   },
   "outputs": [
    {
     "data": {
      "text/plain": [
       "np.int64(73)"
      ]
     },
     "execution_count": 51,
     "metadata": {},
     "output_type": "execute_result"
    }
   ],
   "source": [
    "df['bath'].isnull().sum()"
   ]
  },
  {
   "cell_type": "code",
   "execution_count": 52,
   "id": "95ebcb60",
   "metadata": {
    "execution": {
     "iopub.execute_input": "2025-02-28T23:28:32.940102Z",
     "iopub.status.busy": "2025-02-28T23:28:32.939686Z",
     "iopub.status.idle": "2025-02-28T23:28:32.945332Z",
     "shell.execute_reply": "2025-02-28T23:28:32.944428Z"
    },
    "papermill": {
     "duration": 0.033813,
     "end_time": "2025-02-28T23:28:32.946921",
     "exception": false,
     "start_time": "2025-02-28T23:28:32.913108",
     "status": "completed"
    },
    "tags": []
   },
   "outputs": [],
   "source": [
    "#filling missing value with median\n",
    "df['bath'] = df['bath'].fillna(df['bath'].median())"
   ]
  },
  {
   "cell_type": "code",
   "execution_count": 53,
   "id": "2ce2e15a",
   "metadata": {
    "execution": {
     "iopub.execute_input": "2025-02-28T23:28:32.999326Z",
     "iopub.status.busy": "2025-02-28T23:28:32.998956Z",
     "iopub.status.idle": "2025-02-28T23:28:33.288479Z",
     "shell.execute_reply": "2025-02-28T23:28:33.287333Z"
    },
    "papermill": {
     "duration": 0.317677,
     "end_time": "2025-02-28T23:28:33.290269",
     "exception": false,
     "start_time": "2025-02-28T23:28:32.972592",
     "status": "completed"
    },
    "tags": []
   },
   "outputs": [
    {
     "data": {
      "text/plain": [
       "<Axes: xlabel='bath', ylabel='count'>"
      ]
     },
     "execution_count": 53,
     "metadata": {},
     "output_type": "execute_result"
    },
    {
     "data": {
      "image/png": "[encoded data removed]",
      "text/plain": [
       "<Figure size 640x480 with 1 Axes>"
      ]
     },
     "metadata": {},
     "output_type": "display_data"
    }
   ],
   "source": [
    "sns.countplot(x=df['bath'])"
   ]
  },
  {
   "cell_type": "code",
   "execution_count": 54,
   "id": "1d8e2ed1",
   "metadata": {},
   "outputs": [
    {
     "data": {
      "text/plain": [
       "location            0\n",
       "total_sqft         46\n",
       "bath                0\n",
       "balcony           609\n",
       "price               0\n",
       "BHK                 0\n",
       "price_per_sqft     46\n",
       "dtype: int64"
      ]
     },
     "execution_count": 54,
     "metadata": {},
     "output_type": "execute_result"
    }
   ],
   "source": [
    "df.isnull().sum()"
   ]
  },
  {
   "cell_type": "markdown",
   "id": "2dede5f3",
   "metadata": {
    "papermill": {
     "duration": 0.026257,
     "end_time": "2025-02-28T23:28:33.343988",
     "exception": false,
     "start_time": "2025-02-28T23:28:33.317731",
     "status": "completed"
    },
    "tags": []
   },
   "source": [
    "This column contains outliers, which will be handled later."
   ]
  },
  {
   "cell_type": "code",
   "execution_count": 55,
   "id": "2ecaaa6c",
   "metadata": {
    "execution": {
     "iopub.execute_input": "2025-02-28T23:28:33.400041Z",
     "iopub.status.busy": "2025-02-28T23:28:33.399642Z",
     "iopub.status.idle": "2025-02-28T23:28:33.413046Z",
     "shell.execute_reply": "2025-02-28T23:28:33.411953Z"
    },
    "papermill": {
     "duration": 0.042487,
     "end_time": "2025-02-28T23:28:33.414653",
     "exception": false,
     "start_time": "2025-02-28T23:28:33.372166",
     "status": "completed"
    },
    "tags": []
   },
   "outputs": [
    {
     "data": {
      "text/html": [
       "<div>\n",
       "<style scoped>\n",
       "    .dataframe tbody tr th:only-of-type {\n",
       "        vertical-align: middle;\n",
       "    }\n",
       "\n",
       "    .dataframe tbody tr th {\n",
       "        vertical-align: top;\n",
       "    }\n",
       "\n",
       "    .dataframe thead th {\n",
       "        text-align: right;\n",
       "    }\n",
       "</style>\n",
       "<table border=\"1\" class=\"dataframe\">\n",
       "  <thead>\n",
       "    <tr style=\"text-align: right;\">\n",
       "      <th></th>\n",
       "      <th>location</th>\n",
       "      <th>total_sqft</th>\n",
       "      <th>bath</th>\n",
       "      <th>balcony</th>\n",
       "      <th>price</th>\n",
       "      <th>BHK</th>\n",
       "      <th>price_per_sqft</th>\n",
       "    </tr>\n",
       "  </thead>\n",
       "  <tbody>\n",
       "    <tr>\n",
       "      <th>7724</th>\n",
       "      <td>other</td>\n",
       "      <td>375.0</td>\n",
       "      <td>1.0</td>\n",
       "      <td>0.0</td>\n",
       "      <td>26.0</td>\n",
       "      <td>1</td>\n",
       "      <td>6933.333333</td>\n",
       "    </tr>\n",
       "    <tr>\n",
       "      <th>10951</th>\n",
       "      <td>Bannerghatta Road</td>\n",
       "      <td>1154.0</td>\n",
       "      <td>2.0</td>\n",
       "      <td>2.0</td>\n",
       "      <td>47.0</td>\n",
       "      <td>2</td>\n",
       "      <td>4072.790295</td>\n",
       "    </tr>\n",
       "    <tr>\n",
       "      <th>6305</th>\n",
       "      <td>Electronic City</td>\n",
       "      <td>1070.0</td>\n",
       "      <td>2.0</td>\n",
       "      <td>1.0</td>\n",
       "      <td>47.0</td>\n",
       "      <td>2</td>\n",
       "      <td>4392.523364</td>\n",
       "    </tr>\n",
       "  </tbody>\n",
       "</table>\n",
       "</div>"
      ],
      "text/plain": [
       "                location  total_sqft  bath  balcony  price  BHK  \\\n",
       "7724               other       375.0   1.0      0.0   26.0    1   \n",
       "10951  Bannerghatta Road      1154.0   2.0      2.0   47.0    2   \n",
       "6305     Electronic City      1070.0   2.0      1.0   47.0    2   \n",
       "\n",
       "       price_per_sqft  \n",
       "7724      6933.333333  \n",
       "10951     4072.790295  \n",
       "6305      4392.523364  "
      ]
     },
     "execution_count": 55,
     "metadata": {},
     "output_type": "execute_result"
    }
   ],
   "source": [
    "df.sample(3)"
   ]
  },
  {
   "cell_type": "markdown",
   "id": "ead0507f",
   "metadata": {
    "papermill": {
     "duration": 0.025838,
     "end_time": "2025-02-28T23:28:33.467062",
     "exception": false,
     "start_time": "2025-02-28T23:28:33.441224",
     "status": "completed"
    },
    "tags": []
   },
   "source": [
    "<h2>Analysis of balcony column:</h2>"
   ]
  },
  {
   "cell_type": "code",
   "execution_count": 56,
   "id": "06a6b0fd",
   "metadata": {
    "execution": {
     "iopub.execute_input": "2025-02-28T23:28:33.520455Z",
     "iopub.status.busy": "2025-02-28T23:28:33.520064Z",
     "iopub.status.idle": "2025-02-28T23:28:33.526415Z",
     "shell.execute_reply": "2025-02-28T23:28:33.525340Z"
    },
    "papermill": {
     "duration": 0.035,
     "end_time": "2025-02-28T23:28:33.528053",
     "exception": false,
     "start_time": "2025-02-28T23:28:33.493053",
     "status": "completed"
    },
    "tags": []
   },
   "outputs": [
    {
     "data": {
      "text/plain": [
       "4"
      ]
     },
     "execution_count": 56,
     "metadata": {},
     "output_type": "execute_result"
    }
   ],
   "source": [
    "df['balcony'].nunique()"
   ]
  },
  {
   "cell_type": "code",
   "execution_count": 57,
   "id": "f9066d68",
   "metadata": {
    "execution": {
     "iopub.execute_input": "2025-02-28T23:28:33.583743Z",
     "iopub.status.busy": "2025-02-28T23:28:33.583238Z",
     "iopub.status.idle": "2025-02-28T23:28:33.591102Z",
     "shell.execute_reply": "2025-02-28T23:28:33.590003Z"
    },
    "papermill": {
     "duration": 0.037813,
     "end_time": "2025-02-28T23:28:33.592932",
     "exception": false,
     "start_time": "2025-02-28T23:28:33.555119",
     "status": "completed"
    },
    "tags": []
   },
   "outputs": [
    {
     "data": {
      "text/plain": [
       "balcony\n",
       "2.0    5113\n",
       "1.0    4897\n",
       "3.0    1672\n",
       "0.0    1029\n",
       "Name: count, dtype: int64"
      ]
     },
     "execution_count": 57,
     "metadata": {},
     "output_type": "execute_result"
    }
   ],
   "source": [
    "df['balcony'].value_counts()"
   ]
  },
  {
   "cell_type": "code",
   "execution_count": 58,
   "id": "59ef8dad",
   "metadata": {
    "execution": {
     "iopub.execute_input": "2025-02-28T23:28:33.648879Z",
     "iopub.status.busy": "2025-02-28T23:28:33.648531Z",
     "iopub.status.idle": "2025-02-28T23:28:33.655278Z",
     "shell.execute_reply": "2025-02-28T23:28:33.654119Z"
    },
    "papermill": {
     "duration": 0.036969,
     "end_time": "2025-02-28T23:28:33.657081",
     "exception": false,
     "start_time": "2025-02-28T23:28:33.620112",
     "status": "completed"
    },
    "tags": []
   },
   "outputs": [
    {
     "data": {
      "text/plain": [
       "np.int64(609)"
      ]
     },
     "execution_count": 58,
     "metadata": {},
     "output_type": "execute_result"
    }
   ],
   "source": [
    "df['balcony'].isnull().sum()"
   ]
  },
  {
   "cell_type": "code",
   "execution_count": 59,
   "id": "b37872d4",
   "metadata": {
    "execution": {
     "iopub.execute_input": "2025-02-28T23:28:33.712180Z",
     "iopub.status.busy": "2025-02-28T23:28:33.711772Z",
     "iopub.status.idle": "2025-02-28T23:28:33.843174Z",
     "shell.execute_reply": "2025-02-28T23:28:33.841686Z"
    },
    "papermill": {
     "duration": 0.161245,
     "end_time": "2025-02-28T23:28:33.845028",
     "exception": false,
     "start_time": "2025-02-28T23:28:33.683783",
     "status": "completed"
    },
    "tags": []
   },
   "outputs": [
    {
     "data": {
      "image/png": "[encoded data removed]",
      "text/plain": [
       "<Figure size 640x480 with 1 Axes>"
      ]
     },
     "metadata": {},
     "output_type": "display_data"
    }
   ],
   "source": [
    "df['balcony'].value_counts().plot.pie(autopct='%.2f',shadow=True,startangle=90,wedgeprops={'edgecolor':'black'},rotatelabels=True)\n",
    "plt.show()"
   ]
  },
  {
   "cell_type": "code",
   "execution_count": 60,
   "id": "96d2154f",
   "metadata": {
    "execution": {
     "iopub.execute_input": "2025-02-28T23:28:38.070467Z",
     "iopub.status.busy": "2025-02-28T23:28:38.070038Z",
     "iopub.status.idle": "2025-02-28T23:28:38.076691Z",
     "shell.execute_reply": "2025-02-28T23:28:38.075585Z"
    },
    "papermill": {
     "duration": 0.042626,
     "end_time": "2025-02-28T23:28:38.078716",
     "exception": false,
     "start_time": "2025-02-28T23:28:38.036090",
     "status": "completed"
    },
    "scrolled": true,
    "tags": []
   },
   "outputs": [],
   "source": [
    "df.drop(columns=['balcony'],inplace=True)"
   ]
  },
  {
   "cell_type": "code",
   "execution_count": 61,
   "id": "54a0785d",
   "metadata": {
    "execution": {
     "iopub.execute_input": "2025-02-28T23:28:38.137129Z",
     "iopub.status.busy": "2025-02-28T23:28:38.136804Z",
     "iopub.status.idle": "2025-02-28T23:28:38.149726Z",
     "shell.execute_reply": "2025-02-28T23:28:38.148723Z"
    },
    "papermill": {
     "duration": 0.044035,
     "end_time": "2025-02-28T23:28:38.151573",
     "exception": false,
     "start_time": "2025-02-28T23:28:38.107538",
     "status": "completed"
    },
    "tags": []
   },
   "outputs": [
    {
     "data": {
      "text/html": [
       "<div>\n",
       "<style scoped>\n",
       "    .dataframe tbody tr th:only-of-type {\n",
       "        vertical-align: middle;\n",
       "    }\n",
       "\n",
       "    .dataframe tbody tr th {\n",
       "        vertical-align: top;\n",
       "    }\n",
       "\n",
       "    .dataframe thead th {\n",
       "        text-align: right;\n",
       "    }\n",
       "</style>\n",
       "<table border=\"1\" class=\"dataframe\">\n",
       "  <thead>\n",
       "    <tr style=\"text-align: right;\">\n",
       "      <th></th>\n",
       "      <th>location</th>\n",
       "      <th>total_sqft</th>\n",
       "      <th>bath</th>\n",
       "      <th>price</th>\n",
       "      <th>BHK</th>\n",
       "      <th>price_per_sqft</th>\n",
       "    </tr>\n",
       "  </thead>\n",
       "  <tbody>\n",
       "    <tr>\n",
       "      <th>5469</th>\n",
       "      <td>Ulsoor</td>\n",
       "      <td>36000.0</td>\n",
       "      <td>4.0</td>\n",
       "      <td>450.0</td>\n",
       "      <td>4</td>\n",
       "      <td>1250.000000</td>\n",
       "    </tr>\n",
       "    <tr>\n",
       "      <th>8613</th>\n",
       "      <td>other</td>\n",
       "      <td>900.0</td>\n",
       "      <td>2.0</td>\n",
       "      <td>45.0</td>\n",
       "      <td>2</td>\n",
       "      <td>5000.000000</td>\n",
       "    </tr>\n",
       "    <tr>\n",
       "      <th>8376</th>\n",
       "      <td>Sarjapur  Road</td>\n",
       "      <td>1262.0</td>\n",
       "      <td>2.0</td>\n",
       "      <td>67.0</td>\n",
       "      <td>2</td>\n",
       "      <td>5309.033281</td>\n",
       "    </tr>\n",
       "  </tbody>\n",
       "</table>\n",
       "</div>"
      ],
      "text/plain": [
       "            location  total_sqft  bath  price  BHK  price_per_sqft\n",
       "5469          Ulsoor     36000.0   4.0  450.0    4     1250.000000\n",
       "8613           other       900.0   2.0   45.0    2     5000.000000\n",
       "8376  Sarjapur  Road      1262.0   2.0   67.0    2     5309.033281"
      ]
     },
     "execution_count": 61,
     "metadata": {},
     "output_type": "execute_result"
    }
   ],
   "source": [
    "df.sample(3)"
   ]
  },
  {
   "cell_type": "markdown",
   "id": "a687fd12",
   "metadata": {
    "papermill": {
     "duration": 0.028525,
     "end_time": "2025-02-28T23:28:38.209059",
     "exception": false,
     "start_time": "2025-02-28T23:28:38.180534",
     "status": "completed"
    },
    "tags": []
   },
   "source": [
    "<h4># The analysis of all columns is complete. Next, the focus will be on detecting and removing outliers.\n",
    "</h4>"
   ]
  },
  {
   "cell_type": "markdown",
   "id": "1942ac62",
   "metadata": {
    "papermill": {
     "duration": 0.029676,
     "end_time": "2025-02-28T23:28:38.268353",
     "exception": false,
     "start_time": "2025-02-28T23:28:38.238677",
     "status": "completed"
    },
    "tags": []
   },
   "source": [
    "<h1>Outlier's detection and removal</h1>"
   ]
  },
  {
   "cell_type": "code",
   "execution_count": 62,
   "id": "4b8f72c3",
   "metadata": {
    "execution": {
     "iopub.execute_input": "2025-02-28T23:28:38.328191Z",
     "iopub.status.busy": "2025-02-28T23:28:38.327817Z",
     "iopub.status.idle": "2025-02-28T23:28:38.340518Z",
     "shell.execute_reply": "2025-02-28T23:28:38.339523Z"
    },
    "papermill": {
     "duration": 0.044162,
     "end_time": "2025-02-28T23:28:38.342075",
     "exception": false,
     "start_time": "2025-02-28T23:28:38.297913",
     "status": "completed"
    },
    "tags": []
   },
   "outputs": [
    {
     "data": {
      "text/html": [
       "<div>\n",
       "<style scoped>\n",
       "    .dataframe tbody tr th:only-of-type {\n",
       "        vertical-align: middle;\n",
       "    }\n",
       "\n",
       "    .dataframe tbody tr th {\n",
       "        vertical-align: top;\n",
       "    }\n",
       "\n",
       "    .dataframe thead th {\n",
       "        text-align: right;\n",
       "    }\n",
       "</style>\n",
       "<table border=\"1\" class=\"dataframe\">\n",
       "  <thead>\n",
       "    <tr style=\"text-align: right;\">\n",
       "      <th></th>\n",
       "      <th>location</th>\n",
       "      <th>total_sqft</th>\n",
       "      <th>bath</th>\n",
       "      <th>price</th>\n",
       "      <th>BHK</th>\n",
       "      <th>price_per_sqft</th>\n",
       "    </tr>\n",
       "  </thead>\n",
       "  <tbody>\n",
       "    <tr>\n",
       "      <th>10220</th>\n",
       "      <td>other</td>\n",
       "      <td>1220.0</td>\n",
       "      <td>2.0</td>\n",
       "      <td>56.0</td>\n",
       "      <td>2</td>\n",
       "      <td>4590.163934</td>\n",
       "    </tr>\n",
       "    <tr>\n",
       "      <th>2789</th>\n",
       "      <td>Kanakpura Road</td>\n",
       "      <td>1500.0</td>\n",
       "      <td>3.0</td>\n",
       "      <td>97.0</td>\n",
       "      <td>3</td>\n",
       "      <td>6466.666667</td>\n",
       "    </tr>\n",
       "    <tr>\n",
       "      <th>11923</th>\n",
       "      <td>other</td>\n",
       "      <td>2200.0</td>\n",
       "      <td>2.0</td>\n",
       "      <td>190.0</td>\n",
       "      <td>3</td>\n",
       "      <td>8636.363636</td>\n",
       "    </tr>\n",
       "  </tbody>\n",
       "</table>\n",
       "</div>"
      ],
      "text/plain": [
       "             location  total_sqft  bath  price  BHK  price_per_sqft\n",
       "10220           other      1220.0   2.0   56.0    2     4590.163934\n",
       "2789   Kanakpura Road      1500.0   3.0   97.0    3     6466.666667\n",
       "11923           other      2200.0   2.0  190.0    3     8636.363636"
      ]
     },
     "execution_count": 62,
     "metadata": {},
     "output_type": "execute_result"
    }
   ],
   "source": [
    "df.sample(3)"
   ]
  },
  {
   "cell_type": "code",
   "execution_count": 63,
   "id": "27843942",
   "metadata": {
    "execution": {
     "iopub.execute_input": "2025-02-28T23:28:38.401788Z",
     "iopub.status.busy": "2025-02-28T23:28:38.401330Z",
     "iopub.status.idle": "2025-02-28T23:28:38.424842Z",
     "shell.execute_reply": "2025-02-28T23:28:38.423807Z"
    },
    "papermill": {
     "duration": 0.054719,
     "end_time": "2025-02-28T23:28:38.426592",
     "exception": false,
     "start_time": "2025-02-28T23:28:38.371873",
     "status": "completed"
    },
    "tags": []
   },
   "outputs": [
    {
     "data": {
      "text/html": [
       "<div>\n",
       "<style scoped>\n",
       "    .dataframe tbody tr th:only-of-type {\n",
       "        vertical-align: middle;\n",
       "    }\n",
       "\n",
       "    .dataframe tbody tr th {\n",
       "        vertical-align: top;\n",
       "    }\n",
       "\n",
       "    .dataframe thead th {\n",
       "        text-align: right;\n",
       "    }\n",
       "</style>\n",
       "<table border=\"1\" class=\"dataframe\">\n",
       "  <thead>\n",
       "    <tr style=\"text-align: right;\">\n",
       "      <th></th>\n",
       "      <th>total_sqft</th>\n",
       "      <th>bath</th>\n",
       "      <th>price</th>\n",
       "      <th>BHK</th>\n",
       "      <th>price_per_sqft</th>\n",
       "    </tr>\n",
       "  </thead>\n",
       "  <tbody>\n",
       "    <tr>\n",
       "      <th>count</th>\n",
       "      <td>13274.000000</td>\n",
       "      <td>13320.000000</td>\n",
       "      <td>13320.000000</td>\n",
       "      <td>13320.000000</td>\n",
       "      <td>1.327400e+04</td>\n",
       "    </tr>\n",
       "    <tr>\n",
       "      <th>mean</th>\n",
       "      <td>1559.626694</td>\n",
       "      <td>2.688814</td>\n",
       "      <td>112.565627</td>\n",
       "      <td>2.802778</td>\n",
       "      <td>7.907501e+03</td>\n",
       "    </tr>\n",
       "    <tr>\n",
       "      <th>std</th>\n",
       "      <td>1238.405258</td>\n",
       "      <td>1.338754</td>\n",
       "      <td>148.971674</td>\n",
       "      <td>1.294496</td>\n",
       "      <td>1.064296e+05</td>\n",
       "    </tr>\n",
       "    <tr>\n",
       "      <th>min</th>\n",
       "      <td>1.000000</td>\n",
       "      <td>1.000000</td>\n",
       "      <td>8.000000</td>\n",
       "      <td>1.000000</td>\n",
       "      <td>2.678298e+02</td>\n",
       "    </tr>\n",
       "    <tr>\n",
       "      <th>25%</th>\n",
       "      <td>1100.000000</td>\n",
       "      <td>2.000000</td>\n",
       "      <td>50.000000</td>\n",
       "      <td>2.000000</td>\n",
       "      <td>4.266865e+03</td>\n",
       "    </tr>\n",
       "    <tr>\n",
       "      <th>50%</th>\n",
       "      <td>1276.000000</td>\n",
       "      <td>2.000000</td>\n",
       "      <td>72.000000</td>\n",
       "      <td>3.000000</td>\n",
       "      <td>5.434306e+03</td>\n",
       "    </tr>\n",
       "    <tr>\n",
       "      <th>75%</th>\n",
       "      <td>1680.000000</td>\n",
       "      <td>3.000000</td>\n",
       "      <td>120.000000</td>\n",
       "      <td>3.000000</td>\n",
       "      <td>7.311746e+03</td>\n",
       "    </tr>\n",
       "    <tr>\n",
       "      <th>max</th>\n",
       "      <td>52272.000000</td>\n",
       "      <td>40.000000</td>\n",
       "      <td>3600.000000</td>\n",
       "      <td>43.000000</td>\n",
       "      <td>1.200000e+07</td>\n",
       "    </tr>\n",
       "  </tbody>\n",
       "</table>\n",
       "</div>"
      ],
      "text/plain": [
       "         total_sqft          bath         price           BHK  price_per_sqft\n",
       "count  13274.000000  13320.000000  13320.000000  13320.000000    1.327400e+04\n",
       "mean    1559.626694      2.688814    112.565627      2.802778    7.907501e+03\n",
       "std     1238.405258      1.338754    148.971674      1.294496    1.064296e+05\n",
       "min        1.000000      1.000000      8.000000      1.000000    2.678298e+02\n",
       "25%     1100.000000      2.000000     50.000000      2.000000    4.266865e+03\n",
       "50%     1276.000000      2.000000     72.000000      3.000000    5.434306e+03\n",
       "75%     1680.000000      3.000000    120.000000      3.000000    7.311746e+03\n",
       "max    52272.000000     40.000000   3600.000000     43.000000    1.200000e+07"
      ]
     },
     "execution_count": 63,
     "metadata": {},
     "output_type": "execute_result"
    }
   ],
   "source": [
    "df.describe()"
   ]
  },
  {
   "cell_type": "markdown",
   "id": "343f73f1",
   "metadata": {
    "papermill": {
     "duration": 0.029331,
     "end_time": "2025-02-28T23:28:38.484631",
     "exception": false,
     "start_time": "2025-02-28T23:28:38.455300",
     "status": "completed"
    },
    "tags": []
   },
   "source": [
    "<h2>outlier's of total_sqft column :</h2>"
   ]
  },
  {
   "cell_type": "markdown",
   "id": "30a9656d",
   "metadata": {
    "papermill": {
     "duration": 0.028814,
     "end_time": "2025-02-28T23:28:38.543161",
     "exception": false,
     "start_time": "2025-02-28T23:28:38.514347",
     "status": "completed"
    },
    "tags": []
   },
   "source": [
    "let's see area per BHK:"
   ]
  },
  {
   "cell_type": "code",
   "execution_count": 64,
   "id": "b37d23e9",
   "metadata": {
    "execution": {
     "iopub.execute_input": "2025-02-28T23:28:38.601995Z",
     "iopub.status.busy": "2025-02-28T23:28:38.601621Z",
     "iopub.status.idle": "2025-02-28T23:28:38.612116Z",
     "shell.execute_reply": "2025-02-28T23:28:38.611077Z"
    },
    "papermill": {
     "duration": 0.042197,
     "end_time": "2025-02-28T23:28:38.613935",
     "exception": false,
     "start_time": "2025-02-28T23:28:38.571738",
     "status": "completed"
    },
    "tags": []
   },
   "outputs": [
    {
     "data": {
      "text/plain": [
       "count    13274.000000\n",
       "mean       575.074878\n",
       "std        388.205175\n",
       "min          0.250000\n",
       "25%        473.333333\n",
       "50%        552.500000\n",
       "75%        625.000000\n",
       "max      26136.000000\n",
       "dtype: float64"
      ]
     },
     "execution_count": 64,
     "metadata": {},
     "output_type": "execute_result"
    }
   ],
   "source": [
    "(df['total_sqft']/df['BHK']).describe()"
   ]
  },
  {
   "cell_type": "code",
   "execution_count": 65,
   "id": "256563ac",
   "metadata": {
    "execution": {
     "iopub.execute_input": "2025-02-28T23:28:38.673569Z",
     "iopub.status.busy": "2025-02-28T23:28:38.673137Z",
     "iopub.status.idle": "2025-02-28T23:28:38.680182Z",
     "shell.execute_reply": "2025-02-28T23:28:38.679019Z"
    },
    "papermill": {
     "duration": 0.039009,
     "end_time": "2025-02-28T23:28:38.682153",
     "exception": false,
     "start_time": "2025-02-28T23:28:38.643144",
     "status": "completed"
    },
    "tags": []
   },
   "outputs": [],
   "source": [
    "# in 1BHK area should be >= 300 so removing rows in area per BHK is less than 300\n",
    "df = df[(df['total_sqft']/df['BHK']) >= 300]"
   ]
  },
  {
   "cell_type": "code",
   "execution_count": 66,
   "id": "ed261747",
   "metadata": {
    "execution": {
     "iopub.execute_input": "2025-02-28T23:28:38.743012Z",
     "iopub.status.busy": "2025-02-28T23:28:38.742624Z",
     "iopub.status.idle": "2025-02-28T23:28:38.748624Z",
     "shell.execute_reply": "2025-02-28T23:28:38.747509Z"
    },
    "papermill": {
     "duration": 0.038304,
     "end_time": "2025-02-28T23:28:38.750254",
     "exception": false,
     "start_time": "2025-02-28T23:28:38.711950",
     "status": "completed"
    },
    "tags": []
   },
   "outputs": [
    {
     "data": {
      "text/plain": [
       "(12530, 6)"
      ]
     },
     "execution_count": 66,
     "metadata": {},
     "output_type": "execute_result"
    }
   ],
   "source": [
    "df.shape"
   ]
  },
  {
   "cell_type": "code",
   "execution_count": 67,
   "id": "9abc9f5c",
   "metadata": {
    "execution": {
     "iopub.execute_input": "2025-02-28T23:28:38.810538Z",
     "iopub.status.busy": "2025-02-28T23:28:38.810153Z",
     "iopub.status.idle": "2025-02-28T23:28:38.833413Z",
     "shell.execute_reply": "2025-02-28T23:28:38.832206Z"
    },
    "papermill": {
     "duration": 0.055345,
     "end_time": "2025-02-28T23:28:38.835249",
     "exception": false,
     "start_time": "2025-02-28T23:28:38.779904",
     "status": "completed"
    },
    "tags": []
   },
   "outputs": [
    {
     "data": {
      "text/html": [
       "<div>\n",
       "<style scoped>\n",
       "    .dataframe tbody tr th:only-of-type {\n",
       "        vertical-align: middle;\n",
       "    }\n",
       "\n",
       "    .dataframe tbody tr th {\n",
       "        vertical-align: top;\n",
       "    }\n",
       "\n",
       "    .dataframe thead th {\n",
       "        text-align: right;\n",
       "    }\n",
       "</style>\n",
       "<table border=\"1\" class=\"dataframe\">\n",
       "  <thead>\n",
       "    <tr style=\"text-align: right;\">\n",
       "      <th></th>\n",
       "      <th>total_sqft</th>\n",
       "      <th>bath</th>\n",
       "      <th>price</th>\n",
       "      <th>BHK</th>\n",
       "      <th>price_per_sqft</th>\n",
       "    </tr>\n",
       "  </thead>\n",
       "  <tbody>\n",
       "    <tr>\n",
       "      <th>count</th>\n",
       "      <td>12530.000000</td>\n",
       "      <td>12530.000000</td>\n",
       "      <td>12530.000000</td>\n",
       "      <td>12530.000000</td>\n",
       "      <td>12530.000000</td>\n",
       "    </tr>\n",
       "    <tr>\n",
       "      <th>mean</th>\n",
       "      <td>1594.564544</td>\n",
       "      <td>2.559537</td>\n",
       "      <td>111.382401</td>\n",
       "      <td>2.650838</td>\n",
       "      <td>6303.979357</td>\n",
       "    </tr>\n",
       "    <tr>\n",
       "      <th>std</th>\n",
       "      <td>1261.271296</td>\n",
       "      <td>1.077938</td>\n",
       "      <td>152.077329</td>\n",
       "      <td>0.976678</td>\n",
       "      <td>4162.237981</td>\n",
       "    </tr>\n",
       "    <tr>\n",
       "      <th>min</th>\n",
       "      <td>300.000000</td>\n",
       "      <td>1.000000</td>\n",
       "      <td>8.440000</td>\n",
       "      <td>1.000000</td>\n",
       "      <td>267.829813</td>\n",
       "    </tr>\n",
       "    <tr>\n",
       "      <th>25%</th>\n",
       "      <td>1116.000000</td>\n",
       "      <td>2.000000</td>\n",
       "      <td>49.000000</td>\n",
       "      <td>2.000000</td>\n",
       "      <td>4210.526316</td>\n",
       "    </tr>\n",
       "    <tr>\n",
       "      <th>50%</th>\n",
       "      <td>1300.000000</td>\n",
       "      <td>2.000000</td>\n",
       "      <td>70.000000</td>\n",
       "      <td>3.000000</td>\n",
       "      <td>5294.117647</td>\n",
       "    </tr>\n",
       "    <tr>\n",
       "      <th>75%</th>\n",
       "      <td>1700.000000</td>\n",
       "      <td>3.000000</td>\n",
       "      <td>115.000000</td>\n",
       "      <td>3.000000</td>\n",
       "      <td>6916.666667</td>\n",
       "    </tr>\n",
       "    <tr>\n",
       "      <th>max</th>\n",
       "      <td>52272.000000</td>\n",
       "      <td>16.000000</td>\n",
       "      <td>3600.000000</td>\n",
       "      <td>16.000000</td>\n",
       "      <td>176470.588235</td>\n",
       "    </tr>\n",
       "  </tbody>\n",
       "</table>\n",
       "</div>"
      ],
      "text/plain": [
       "         total_sqft          bath         price           BHK  price_per_sqft\n",
       "count  12530.000000  12530.000000  12530.000000  12530.000000    12530.000000\n",
       "mean    1594.564544      2.559537    111.382401      2.650838     6303.979357\n",
       "std     1261.271296      1.077938    152.077329      0.976678     4162.237981\n",
       "min      300.000000      1.000000      8.440000      1.000000      267.829813\n",
       "25%     1116.000000      2.000000     49.000000      2.000000     4210.526316\n",
       "50%     1300.000000      2.000000     70.000000      3.000000     5294.117647\n",
       "75%     1700.000000      3.000000    115.000000      3.000000     6916.666667\n",
       "max    52272.000000     16.000000   3600.000000     16.000000   176470.588235"
      ]
     },
     "execution_count": 67,
     "metadata": {},
     "output_type": "execute_result"
    }
   ],
   "source": [
    "df.describe()"
   ]
  },
  {
   "cell_type": "code",
   "execution_count": 68,
   "id": "f67973b3",
   "metadata": {
    "execution": {
     "iopub.execute_input": "2025-02-28T23:28:38.895298Z",
     "iopub.status.busy": "2025-02-28T23:28:38.894965Z",
     "iopub.status.idle": "2025-02-28T23:28:40.796926Z",
     "shell.execute_reply": "2025-02-28T23:28:40.795721Z"
    },
    "papermill": {
     "duration": 1.934007,
     "end_time": "2025-02-28T23:28:40.798912",
     "exception": false,
     "start_time": "2025-02-28T23:28:38.864905",
     "status": "completed"
    },
    "tags": []
   },
   "outputs": [
    {
     "data": {
      "text/plain": [
       "<seaborn.axisgrid.FacetGrid at 0x1816fc81cd0>"
      ]
     },
     "execution_count": 68,
     "metadata": {},
     "output_type": "execute_result"
    },
    {
     "data": {
      "image/png": "[encoded data removed]",
      "text/plain": [
       "<Figure size 500x500 with 1 Axes>"
      ]
     },
     "metadata": {},
     "output_type": "display_data"
    }
   ],
   "source": [
    "sns.displot(x=df['total_sqft'])"
   ]
  },
  {
   "cell_type": "code",
   "execution_count": 69,
   "id": "e86e99f2",
   "metadata": {
    "execution": {
     "iopub.execute_input": "2025-02-28T23:28:40.861594Z",
     "iopub.status.busy": "2025-02-28T23:28:40.861143Z",
     "iopub.status.idle": "2025-02-28T23:28:40.874714Z",
     "shell.execute_reply": "2025-02-28T23:28:40.873518Z"
    },
    "papermill": {
     "duration": 0.046357,
     "end_time": "2025-02-28T23:28:40.876643",
     "exception": false,
     "start_time": "2025-02-28T23:28:40.830286",
     "status": "completed"
    },
    "tags": []
   },
   "outputs": [
    {
     "data": {
      "text/html": [
       "<div>\n",
       "<style scoped>\n",
       "    .dataframe tbody tr th:only-of-type {\n",
       "        vertical-align: middle;\n",
       "    }\n",
       "\n",
       "    .dataframe tbody tr th {\n",
       "        vertical-align: top;\n",
       "    }\n",
       "\n",
       "    .dataframe thead th {\n",
       "        text-align: right;\n",
       "    }\n",
       "</style>\n",
       "<table border=\"1\" class=\"dataframe\">\n",
       "  <thead>\n",
       "    <tr style=\"text-align: right;\">\n",
       "      <th></th>\n",
       "      <th>location</th>\n",
       "      <th>total_sqft</th>\n",
       "      <th>bath</th>\n",
       "      <th>price</th>\n",
       "      <th>BHK</th>\n",
       "      <th>price_per_sqft</th>\n",
       "    </tr>\n",
       "  </thead>\n",
       "  <tbody>\n",
       "    <tr>\n",
       "      <th>5040</th>\n",
       "      <td>Budigere</td>\n",
       "      <td>1139.0</td>\n",
       "      <td>2.0</td>\n",
       "      <td>60.0</td>\n",
       "      <td>2</td>\n",
       "      <td>5267.778753</td>\n",
       "    </tr>\n",
       "    <tr>\n",
       "      <th>13307</th>\n",
       "      <td>Billekahalli</td>\n",
       "      <td>1805.0</td>\n",
       "      <td>3.0</td>\n",
       "      <td>134.0</td>\n",
       "      <td>3</td>\n",
       "      <td>7423.822715</td>\n",
       "    </tr>\n",
       "    <tr>\n",
       "      <th>8396</th>\n",
       "      <td>Hosur Road</td>\n",
       "      <td>1689.0</td>\n",
       "      <td>3.0</td>\n",
       "      <td>103.0</td>\n",
       "      <td>3</td>\n",
       "      <td>6098.283008</td>\n",
       "    </tr>\n",
       "  </tbody>\n",
       "</table>\n",
       "</div>"
      ],
      "text/plain": [
       "           location  total_sqft  bath  price  BHK  price_per_sqft\n",
       "5040       Budigere      1139.0   2.0   60.0    2     5267.778753\n",
       "13307  Billekahalli      1805.0   3.0  134.0    3     7423.822715\n",
       "8396     Hosur Road      1689.0   3.0  103.0    3     6098.283008"
      ]
     },
     "execution_count": 69,
     "metadata": {},
     "output_type": "execute_result"
    }
   ],
   "source": [
    "df.sample(3)"
   ]
  },
  {
   "cell_type": "markdown",
   "id": "ad83fe7e",
   "metadata": {
    "papermill": {
     "duration": 0.029535,
     "end_time": "2025-02-28T23:28:40.936393",
     "exception": false,
     "start_time": "2025-02-28T23:28:40.906858",
     "status": "completed"
    },
    "tags": []
   },
   "source": [
    "<h2>Outlier's of price_per_sqft:</h2>"
   ]
  },
  {
   "cell_type": "code",
   "execution_count": 70,
   "id": "d7bd2cd7",
   "metadata": {
    "execution": {
     "iopub.execute_input": "2025-02-28T23:28:40.998250Z",
     "iopub.status.busy": "2025-02-28T23:28:40.997847Z",
     "iopub.status.idle": "2025-02-28T23:28:41.007988Z",
     "shell.execute_reply": "2025-02-28T23:28:41.006900Z"
    },
    "papermill": {
     "duration": 0.04368,
     "end_time": "2025-02-28T23:28:41.009847",
     "exception": false,
     "start_time": "2025-02-28T23:28:40.966167",
     "status": "completed"
    },
    "tags": []
   },
   "outputs": [
    {
     "data": {
      "text/plain": [
       "count     12530.000000\n",
       "mean       6303.979357\n",
       "std        4162.237981\n",
       "min         267.829813\n",
       "25%        4210.526316\n",
       "50%        5294.117647\n",
       "75%        6916.666667\n",
       "max      176470.588235\n",
       "Name: price_per_sqft, dtype: float64"
      ]
     },
     "execution_count": 70,
     "metadata": {},
     "output_type": "execute_result"
    }
   ],
   "source": [
    "df['price_per_sqft'].describe()"
   ]
  },
  {
   "cell_type": "code",
   "execution_count": 71,
   "id": "64cc8e43",
   "metadata": {
    "execution": {
     "iopub.execute_input": "2025-02-28T23:28:41.071060Z",
     "iopub.status.busy": "2025-02-28T23:28:41.070644Z",
     "iopub.status.idle": "2025-02-28T23:28:41.390624Z",
     "shell.execute_reply": "2025-02-28T23:28:41.389271Z"
    },
    "papermill": {
     "duration": 0.352445,
     "end_time": "2025-02-28T23:28:41.392370",
     "exception": false,
     "start_time": "2025-02-28T23:28:41.039925",
     "status": "completed"
    },
    "tags": []
   },
   "outputs": [
    {
     "data": {
      "text/html": [
       "<div>\n",
       "<style scoped>\n",
       "    .dataframe tbody tr th:only-of-type {\n",
       "        vertical-align: middle;\n",
       "    }\n",
       "\n",
       "    .dataframe tbody tr th {\n",
       "        vertical-align: top;\n",
       "    }\n",
       "\n",
       "    .dataframe thead th {\n",
       "        text-align: right;\n",
       "    }\n",
       "</style>\n",
       "<table border=\"1\" class=\"dataframe\">\n",
       "  <thead>\n",
       "    <tr style=\"text-align: right;\">\n",
       "      <th></th>\n",
       "      <th>count</th>\n",
       "      <th>mean</th>\n",
       "      <th>std</th>\n",
       "      <th>min</th>\n",
       "      <th>25%</th>\n",
       "      <th>50%</th>\n",
       "      <th>75%</th>\n",
       "      <th>max</th>\n",
       "    </tr>\n",
       "    <tr>\n",
       "      <th>location</th>\n",
       "      <th></th>\n",
       "      <th></th>\n",
       "      <th></th>\n",
       "      <th></th>\n",
       "      <th></th>\n",
       "      <th></th>\n",
       "      <th></th>\n",
       "      <th></th>\n",
       "    </tr>\n",
       "  </thead>\n",
       "  <tbody>\n",
       "    <tr>\n",
       "      <th>Devarachikkanahalli</th>\n",
       "      <td>14.0</td>\n",
       "      <td>4969.906245</td>\n",
       "      <td>2594.870914</td>\n",
       "      <td>3185.840708</td>\n",
       "      <td>3649.081736</td>\n",
       "      <td>4305.148257</td>\n",
       "      <td>4676.936243</td>\n",
       "      <td>13333.333333</td>\n",
       "    </tr>\n",
       "    <tr>\n",
       "      <th>1st Block Jayanagar</th>\n",
       "      <td>10.0</td>\n",
       "      <td>12359.253758</td>\n",
       "      <td>3931.939592</td>\n",
       "      <td>6000.000000</td>\n",
       "      <td>11100.460123</td>\n",
       "      <td>12258.569501</td>\n",
       "      <td>15018.022329</td>\n",
       "      <td>18750.000000</td>\n",
       "    </tr>\n",
       "    <tr>\n",
       "      <th>1st Phase JP Nagar</th>\n",
       "      <td>23.0</td>\n",
       "      <td>9726.405918</td>\n",
       "      <td>4802.127570</td>\n",
       "      <td>5274.725275</td>\n",
       "      <td>7170.133907</td>\n",
       "      <td>8425.613866</td>\n",
       "      <td>9901.259524</td>\n",
       "      <td>25000.000000</td>\n",
       "    </tr>\n",
       "    <tr>\n",
       "      <th>2nd Phase Judicial Layout</th>\n",
       "      <td>11.0</td>\n",
       "      <td>4048.701183</td>\n",
       "      <td>674.730658</td>\n",
       "      <td>3500.000000</td>\n",
       "      <td>3500.000000</td>\n",
       "      <td>3500.000000</td>\n",
       "      <td>4739.316239</td>\n",
       "      <td>5000.000000</td>\n",
       "    </tr>\n",
       "    <tr>\n",
       "      <th>2nd Stage Nagarbhavi</th>\n",
       "      <td>9.0</td>\n",
       "      <td>14381.275720</td>\n",
       "      <td>5272.435848</td>\n",
       "      <td>5666.666667</td>\n",
       "      <td>14666.666667</td>\n",
       "      <td>15033.333333</td>\n",
       "      <td>18750.000000</td>\n",
       "      <td>20416.666667</td>\n",
       "    </tr>\n",
       "    <tr>\n",
       "      <th>...</th>\n",
       "      <td>...</td>\n",
       "      <td>...</td>\n",
       "      <td>...</td>\n",
       "      <td>...</td>\n",
       "      <td>...</td>\n",
       "      <td>...</td>\n",
       "      <td>...</td>\n",
       "      <td>...</td>\n",
       "    </tr>\n",
       "    <tr>\n",
       "      <th>Yelahanka</th>\n",
       "      <td>208.0</td>\n",
       "      <td>5177.606819</td>\n",
       "      <td>1761.479589</td>\n",
       "      <td>371.428571</td>\n",
       "      <td>4290.940767</td>\n",
       "      <td>5012.513762</td>\n",
       "      <td>5859.524889</td>\n",
       "      <td>19875.776398</td>\n",
       "    </tr>\n",
       "    <tr>\n",
       "      <th>Yelahanka New Town</th>\n",
       "      <td>38.0</td>\n",
       "      <td>5860.659870</td>\n",
       "      <td>3889.233175</td>\n",
       "      <td>1875.000000</td>\n",
       "      <td>3776.785714</td>\n",
       "      <td>5040.025016</td>\n",
       "      <td>5413.853463</td>\n",
       "      <td>22475.000000</td>\n",
       "    </tr>\n",
       "    <tr>\n",
       "      <th>Yelenahalli</th>\n",
       "      <td>13.0</td>\n",
       "      <td>4012.550871</td>\n",
       "      <td>533.259531</td>\n",
       "      <td>3125.000000</td>\n",
       "      <td>3800.000000</td>\n",
       "      <td>3835.625000</td>\n",
       "      <td>4121.212121</td>\n",
       "      <td>5176.876618</td>\n",
       "    </tr>\n",
       "    <tr>\n",
       "      <th>Yeshwanthpur</th>\n",
       "      <td>80.0</td>\n",
       "      <td>6620.544179</td>\n",
       "      <td>2028.990461</td>\n",
       "      <td>3200.000000</td>\n",
       "      <td>5500.345385</td>\n",
       "      <td>5524.437781</td>\n",
       "      <td>7319.161262</td>\n",
       "      <td>17647.058824</td>\n",
       "    </tr>\n",
       "    <tr>\n",
       "      <th>other</th>\n",
       "      <td>2567.0</td>\n",
       "      <td>7457.930400</td>\n",
       "      <td>6399.741696</td>\n",
       "      <td>267.829813</td>\n",
       "      <td>4349.116296</td>\n",
       "      <td>5533.596838</td>\n",
       "      <td>8333.333333</td>\n",
       "      <td>176470.588235</td>\n",
       "    </tr>\n",
       "  </tbody>\n",
       "</table>\n",
       "<p>242 rows × 8 columns</p>\n",
       "</div>"
      ],
      "text/plain": [
       "                            count          mean          std          min  \\\n",
       "location                                                                    \n",
       " Devarachikkanahalli         14.0   4969.906245  2594.870914  3185.840708   \n",
       "1st Block Jayanagar          10.0  12359.253758  3931.939592  6000.000000   \n",
       "1st Phase JP Nagar           23.0   9726.405918  4802.127570  5274.725275   \n",
       "2nd Phase Judicial Layout    11.0   4048.701183   674.730658  3500.000000   \n",
       "2nd Stage Nagarbhavi          9.0  14381.275720  5272.435848  5666.666667   \n",
       "...                           ...           ...          ...          ...   \n",
       "Yelahanka                   208.0   5177.606819  1761.479589   371.428571   \n",
       "Yelahanka New Town           38.0   5860.659870  3889.233175  1875.000000   \n",
       "Yelenahalli                  13.0   4012.550871   533.259531  3125.000000   \n",
       "Yeshwanthpur                 80.0   6620.544179  2028.990461  3200.000000   \n",
       "other                      2567.0   7457.930400  6399.741696   267.829813   \n",
       "\n",
       "                                    25%           50%           75%  \\\n",
       "location                                                              \n",
       " Devarachikkanahalli        3649.081736   4305.148257   4676.936243   \n",
       "1st Block Jayanagar        11100.460123  12258.569501  15018.022329   \n",
       "1st Phase JP Nagar          7170.133907   8425.613866   9901.259524   \n",
       "2nd Phase Judicial Layout   3500.000000   3500.000000   4739.316239   \n",
       "2nd Stage Nagarbhavi       14666.666667  15033.333333  18750.000000   \n",
       "...                                 ...           ...           ...   \n",
       "Yelahanka                   4290.940767   5012.513762   5859.524889   \n",
       "Yelahanka New Town          3776.785714   5040.025016   5413.853463   \n",
       "Yelenahalli                 3800.000000   3835.625000   4121.212121   \n",
       "Yeshwanthpur                5500.345385   5524.437781   7319.161262   \n",
       "other                       4349.116296   5533.596838   8333.333333   \n",
       "\n",
       "                                     max  \n",
       "location                                  \n",
       " Devarachikkanahalli        13333.333333  \n",
       "1st Block Jayanagar         18750.000000  \n",
       "1st Phase JP Nagar          25000.000000  \n",
       "2nd Phase Judicial Layout    5000.000000  \n",
       "2nd Stage Nagarbhavi        20416.666667  \n",
       "...                                  ...  \n",
       "Yelahanka                   19875.776398  \n",
       "Yelahanka New Town          22475.000000  \n",
       "Yelenahalli                  5176.876618  \n",
       "Yeshwanthpur                17647.058824  \n",
       "other                      176470.588235  \n",
       "\n",
       "[242 rows x 8 columns]"
      ]
     },
     "execution_count": 71,
     "metadata": {},
     "output_type": "execute_result"
    }
   ],
   "source": [
    "#seeing price_per_sqft location wise\n",
    "df.groupby('location')['price_per_sqft'].describe()"
   ]
  },
  {
   "cell_type": "markdown",
   "id": "ef3d3ac0",
   "metadata": {
    "papermill": {
     "duration": 0.029941,
     "end_time": "2025-02-28T23:28:41.452827",
     "exception": false,
     "start_time": "2025-02-28T23:28:41.422886",
     "status": "completed"
    },
    "tags": []
   },
   "source": [
    "For each location group, price_per_sqft will be kept within the range [mean - standard deviation, mean + standard deviation]."
   ]
  },
  {
   "cell_type": "code",
   "execution_count": 72,
   "id": "3c63da16",
   "metadata": {
    "execution": {
     "iopub.execute_input": "2025-02-28T23:28:41.516326Z",
     "iopub.status.busy": "2025-02-28T23:28:41.515982Z",
     "iopub.status.idle": "2025-02-28T23:28:41.801187Z",
     "shell.execute_reply": "2025-02-28T23:28:41.800024Z"
    },
    "papermill": {
     "duration": 0.319315,
     "end_time": "2025-02-28T23:28:41.803159",
     "exception": false,
     "start_time": "2025-02-28T23:28:41.483844",
     "status": "completed"
    },
    "tags": []
   },
   "outputs": [],
   "source": [
    "#function to kept price_per_sqft in range\n",
    "def remove_price_per_sqft_outliers(df):\n",
    "    temp_df = pd.DataFrame()\n",
    "    for location,sub_df in df.groupby('location'):\n",
    "        mean = sub_df['price_per_sqft'].mean()\n",
    "        std_dev = sub_df['price_per_sqft'].std()\n",
    "        \n",
    "        filtered_df = sub_df[(sub_df['price_per_sqft'] >= mean-std_dev) & (sub_df['price_per_sqft'] <= mean+std_dev)]\n",
    "        temp_df = pd.concat([temp_df,filtered_df],ignore_index=True)\n",
    "    return temp_df\n",
    "df = remove_price_per_sqft_outliers(df)"
   ]
  },
  {
   "cell_type": "code",
   "execution_count": 73,
   "id": "93e79619",
   "metadata": {
    "execution": {
     "iopub.execute_input": "2025-02-28T23:28:41.867958Z",
     "iopub.status.busy": "2025-02-28T23:28:41.867568Z",
     "iopub.status.idle": "2025-02-28T23:28:41.877840Z",
     "shell.execute_reply": "2025-02-28T23:28:41.876715Z"
    },
    "papermill": {
     "duration": 0.044159,
     "end_time": "2025-02-28T23:28:41.879404",
     "exception": false,
     "start_time": "2025-02-28T23:28:41.835245",
     "status": "completed"
    },
    "tags": []
   },
   "outputs": [
    {
     "data": {
      "text/plain": [
       "count    10353.000000\n",
       "mean      5660.848288\n",
       "std       2270.910791\n",
       "min       1250.000000\n",
       "25%       4239.631336\n",
       "50%       5175.600739\n",
       "75%       6432.748538\n",
       "max      24509.803922\n",
       "Name: price_per_sqft, dtype: float64"
      ]
     },
     "execution_count": 73,
     "metadata": {},
     "output_type": "execute_result"
    }
   ],
   "source": [
    "df['price_per_sqft'].describe()"
   ]
  },
  {
   "cell_type": "code",
   "execution_count": 74,
   "id": "390d7223",
   "metadata": {
    "execution": {
     "iopub.execute_input": "2025-02-28T23:28:41.941546Z",
     "iopub.status.busy": "2025-02-28T23:28:41.941146Z",
     "iopub.status.idle": "2025-02-28T23:28:41.953344Z",
     "shell.execute_reply": "2025-02-28T23:28:41.952302Z"
    },
    "papermill": {
     "duration": 0.045131,
     "end_time": "2025-02-28T23:28:41.955019",
     "exception": false,
     "start_time": "2025-02-28T23:28:41.909888",
     "status": "completed"
    },
    "tags": []
   },
   "outputs": [
    {
     "data": {
      "text/html": [
       "<div>\n",
       "<style scoped>\n",
       "    .dataframe tbody tr th:only-of-type {\n",
       "        vertical-align: middle;\n",
       "    }\n",
       "\n",
       "    .dataframe tbody tr th {\n",
       "        vertical-align: top;\n",
       "    }\n",
       "\n",
       "    .dataframe thead th {\n",
       "        text-align: right;\n",
       "    }\n",
       "</style>\n",
       "<table border=\"1\" class=\"dataframe\">\n",
       "  <thead>\n",
       "    <tr style=\"text-align: right;\">\n",
       "      <th></th>\n",
       "      <th>location</th>\n",
       "      <th>total_sqft</th>\n",
       "      <th>bath</th>\n",
       "      <th>price</th>\n",
       "      <th>BHK</th>\n",
       "      <th>price_per_sqft</th>\n",
       "    </tr>\n",
       "  </thead>\n",
       "  <tbody>\n",
       "    <tr>\n",
       "      <th>3805</th>\n",
       "      <td>KR Puram</td>\n",
       "      <td>1200.0</td>\n",
       "      <td>2.0</td>\n",
       "      <td>47.00</td>\n",
       "      <td>2</td>\n",
       "      <td>3916.666667</td>\n",
       "    </tr>\n",
       "    <tr>\n",
       "      <th>8010</th>\n",
       "      <td>Yeshwanthpur</td>\n",
       "      <td>1384.0</td>\n",
       "      <td>2.0</td>\n",
       "      <td>76.18</td>\n",
       "      <td>3</td>\n",
       "      <td>5504.335260</td>\n",
       "    </tr>\n",
       "  </tbody>\n",
       "</table>\n",
       "</div>"
      ],
      "text/plain": [
       "          location  total_sqft  bath  price  BHK  price_per_sqft\n",
       "3805      KR Puram      1200.0   2.0  47.00    2     3916.666667\n",
       "8010  Yeshwanthpur      1384.0   2.0  76.18    3     5504.335260"
      ]
     },
     "execution_count": 74,
     "metadata": {},
     "output_type": "execute_result"
    }
   ],
   "source": [
    "df.sample(2)"
   ]
  },
  {
   "cell_type": "markdown",
   "id": "5e6b59a4",
   "metadata": {
    "papermill": {
     "duration": 0.030491,
     "end_time": "2025-02-28T23:28:42.016731",
     "exception": false,
     "start_time": "2025-02-28T23:28:41.986240",
     "status": "completed"
    },
    "tags": []
   },
   "source": [
    "<h2>Outlier's of BHK column:</h2>"
   ]
  },
  {
   "cell_type": "code",
   "execution_count": 75,
   "id": "a5849958",
   "metadata": {
    "execution": {
     "iopub.execute_input": "2025-02-28T23:28:42.080252Z",
     "iopub.status.busy": "2025-02-28T23:28:42.079912Z",
     "iopub.status.idle": "2025-02-28T23:28:42.296405Z",
     "shell.execute_reply": "2025-02-28T23:28:42.295184Z"
    },
    "papermill": {
     "duration": 0.250812,
     "end_time": "2025-02-28T23:28:42.298279",
     "exception": false,
     "start_time": "2025-02-28T23:28:42.047467",
     "status": "completed"
    },
    "tags": []
   },
   "outputs": [
    {
     "data": {
      "text/plain": [
       "<Axes: xlabel='BHK', ylabel='count'>"
      ]
     },
     "execution_count": 75,
     "metadata": {},
     "output_type": "execute_result"
    },
    {
     "data": {
      "image/png": "[encoded data removed]",
      "text/plain": [
       "<Figure size 640x480 with 1 Axes>"
      ]
     },
     "metadata": {},
     "output_type": "display_data"
    }
   ],
   "source": [
    "sns.countplot(x=df['BHK'])"
   ]
  },
  {
   "cell_type": "code",
   "execution_count": 76,
   "id": "337d7bf1",
   "metadata": {
    "execution": {
     "iopub.execute_input": "2025-02-28T23:28:42.362838Z",
     "iopub.status.busy": "2025-02-28T23:28:42.362407Z",
     "iopub.status.idle": "2025-02-28T23:28:42.509214Z",
     "shell.execute_reply": "2025-02-28T23:28:42.508071Z"
    },
    "papermill": {
     "duration": 0.181119,
     "end_time": "2025-02-28T23:28:42.511074",
     "exception": false,
     "start_time": "2025-02-28T23:28:42.329955",
     "status": "completed"
    },
    "tags": []
   },
   "outputs": [
    {
     "data": {
      "text/plain": [
       "<Axes: xlabel='BHK'>"
      ]
     },
     "execution_count": 76,
     "metadata": {},
     "output_type": "execute_result"
    },
    {
     "data": {
      "image/png": "[encoded data removed]",
      "text/plain": [
       "<Figure size 640x480 with 1 Axes>"
      ]
     },
     "metadata": {},
     "output_type": "display_data"
    }
   ],
   "source": [
    "sns.boxplot(x=df['BHK'])"
   ]
  },
  {
   "cell_type": "markdown",
   "id": "ccd78690",
   "metadata": {
    "papermill": {
     "duration": 0.031189,
     "end_time": "2025-02-28T23:28:42.574568",
     "exception": false,
     "start_time": "2025-02-28T23:28:42.543379",
     "status": "completed"
    },
    "tags": []
   },
   "source": [
    "Houses with more than 7 BHK are uncommon, so they will be removed from the dataset."
   ]
  },
  {
   "cell_type": "code",
   "execution_count": 77,
   "id": "ee9fd62b",
   "metadata": {
    "execution": {
     "iopub.execute_input": "2025-02-28T23:28:42.640812Z",
     "iopub.status.busy": "2025-02-28T23:28:42.640387Z",
     "iopub.status.idle": "2025-02-28T23:28:42.647324Z",
     "shell.execute_reply": "2025-02-28T23:28:42.646392Z"
    },
    "papermill": {
     "duration": 0.041334,
     "end_time": "2025-02-28T23:28:42.649167",
     "exception": false,
     "start_time": "2025-02-28T23:28:42.607833",
     "status": "completed"
    },
    "tags": []
   },
   "outputs": [],
   "source": [
    "df = df[df['BHK'] <= 7].copy()"
   ]
  },
  {
   "cell_type": "code",
   "execution_count": 78,
   "id": "34c98aed",
   "metadata": {
    "execution": {
     "iopub.execute_input": "2025-02-28T23:28:42.714981Z",
     "iopub.status.busy": "2025-02-28T23:28:42.714619Z",
     "iopub.status.idle": "2025-02-28T23:28:42.828224Z",
     "shell.execute_reply": "2025-02-28T23:28:42.827105Z"
    },
    "papermill": {
     "duration": 0.148509,
     "end_time": "2025-02-28T23:28:42.830053",
     "exception": false,
     "start_time": "2025-02-28T23:28:42.681544",
     "status": "completed"
    },
    "tags": []
   },
   "outputs": [
    {
     "data": {
      "image/png": "[encoded data removed]",
      "text/plain": [
       "<Figure size 640x480 with 1 Axes>"
      ]
     },
     "metadata": {},
     "output_type": "display_data"
    }
   ],
   "source": [
    "sns.boxplot(x=df['BHK'])\n",
    "plt.show()"
   ]
  },
  {
   "cell_type": "code",
   "execution_count": 79,
   "id": "96ae680d",
   "metadata": {
    "execution": {
     "iopub.execute_input": "2025-02-28T23:28:42.897697Z",
     "iopub.status.busy": "2025-02-28T23:28:42.897269Z",
     "iopub.status.idle": "2025-02-28T23:28:42.909657Z",
     "shell.execute_reply": "2025-02-28T23:28:42.908589Z"
    },
    "papermill": {
     "duration": 0.047377,
     "end_time": "2025-02-28T23:28:42.911276",
     "exception": false,
     "start_time": "2025-02-28T23:28:42.863899",
     "status": "completed"
    },
    "tags": []
   },
   "outputs": [
    {
     "data": {
      "text/html": [
       "<div>\n",
       "<style scoped>\n",
       "    .dataframe tbody tr th:only-of-type {\n",
       "        vertical-align: middle;\n",
       "    }\n",
       "\n",
       "    .dataframe tbody tr th {\n",
       "        vertical-align: top;\n",
       "    }\n",
       "\n",
       "    .dataframe thead th {\n",
       "        text-align: right;\n",
       "    }\n",
       "</style>\n",
       "<table border=\"1\" class=\"dataframe\">\n",
       "  <thead>\n",
       "    <tr style=\"text-align: right;\">\n",
       "      <th></th>\n",
       "      <th>location</th>\n",
       "      <th>total_sqft</th>\n",
       "      <th>bath</th>\n",
       "      <th>price</th>\n",
       "      <th>BHK</th>\n",
       "      <th>price_per_sqft</th>\n",
       "    </tr>\n",
       "  </thead>\n",
       "  <tbody>\n",
       "    <tr>\n",
       "      <th>9921</th>\n",
       "      <td>other</td>\n",
       "      <td>1798.0</td>\n",
       "      <td>3.0</td>\n",
       "      <td>73.0</td>\n",
       "      <td>3</td>\n",
       "      <td>4060.066741</td>\n",
       "    </tr>\n",
       "    <tr>\n",
       "      <th>1930</th>\n",
       "      <td>Electronic City</td>\n",
       "      <td>1128.0</td>\n",
       "      <td>2.0</td>\n",
       "      <td>65.0</td>\n",
       "      <td>2</td>\n",
       "      <td>5762.411348</td>\n",
       "    </tr>\n",
       "  </tbody>\n",
       "</table>\n",
       "</div>"
      ],
      "text/plain": [
       "             location  total_sqft  bath  price  BHK  price_per_sqft\n",
       "9921            other      1798.0   3.0   73.0    3     4060.066741\n",
       "1930  Electronic City      1128.0   2.0   65.0    2     5762.411348"
      ]
     },
     "execution_count": 79,
     "metadata": {},
     "output_type": "execute_result"
    }
   ],
   "source": [
    "df.sample(2)"
   ]
  },
  {
   "cell_type": "markdown",
   "id": "03982b7b",
   "metadata": {
    "papermill": {
     "duration": 0.031721,
     "end_time": "2025-02-28T23:28:42.974839",
     "exception": false,
     "start_time": "2025-02-28T23:28:42.943118",
     "status": "completed"
    },
    "tags": []
   },
   "source": [
    "<h2>Outlier's of bath column:</h2>"
   ]
  },
  {
   "cell_type": "code",
   "execution_count": 80,
   "id": "fd830690",
   "metadata": {
    "execution": {
     "iopub.execute_input": "2025-02-28T23:28:43.048250Z",
     "iopub.status.busy": "2025-02-28T23:28:43.047881Z",
     "iopub.status.idle": "2025-02-28T23:28:43.217536Z",
     "shell.execute_reply": "2025-02-28T23:28:43.215625Z"
    },
    "papermill": {
     "duration": 0.211701,
     "end_time": "2025-02-28T23:28:43.219573",
     "exception": false,
     "start_time": "2025-02-28T23:28:43.007872",
     "status": "completed"
    },
    "tags": []
   },
   "outputs": [
    {
     "data": {
      "image/png": "[encoded data removed]",
      "text/plain": [
       "<Figure size 640x480 with 1 Axes>"
      ]
     },
     "metadata": {},
     "output_type": "display_data"
    }
   ],
   "source": [
    "sns.countplot(x=df['bath'])\n",
    "plt.show()"
   ]
  },
  {
   "cell_type": "code",
   "execution_count": 81,
   "id": "b7e39f4b",
   "metadata": {
    "execution": {
     "iopub.execute_input": "2025-02-28T23:28:43.285088Z",
     "iopub.status.busy": "2025-02-28T23:28:43.284755Z",
     "iopub.status.idle": "2025-02-28T23:28:43.290680Z",
     "shell.execute_reply": "2025-02-28T23:28:43.289774Z"
    },
    "papermill": {
     "duration": 0.040601,
     "end_time": "2025-02-28T23:28:43.292398",
     "exception": false,
     "start_time": "2025-02-28T23:28:43.251797",
     "status": "completed"
    },
    "tags": []
   },
   "outputs": [],
   "source": [
    "# Houses with more than 6 bathrooms are uncommon, so they will be removed from the dataset.\n",
    "df = df[df['bath'] <= 6].copy()"
   ]
  },
  {
   "cell_type": "code",
   "execution_count": 82,
   "id": "1531dd6c",
   "metadata": {
    "execution": {
     "iopub.execute_input": "2025-02-28T23:28:43.359170Z",
     "iopub.status.busy": "2025-02-28T23:28:43.358839Z",
     "iopub.status.idle": "2025-02-28T23:28:43.365842Z",
     "shell.execute_reply": "2025-02-28T23:28:43.364548Z"
    },
    "papermill": {
     "duration": 0.04287,
     "end_time": "2025-02-28T23:28:43.367733",
     "exception": false,
     "start_time": "2025-02-28T23:28:43.324863",
     "status": "completed"
    },
    "tags": []
   },
   "outputs": [],
   "source": [
    "# Ensuring that the number of bathrooms does not exceed BHK + 2\n",
    "df = df[df['bath'] <= df['BHK'] + 2].copy()"
   ]
  },
  {
   "cell_type": "code",
   "execution_count": 83,
   "id": "046a99ed",
   "metadata": {
    "execution": {
     "iopub.execute_input": "2025-02-28T23:28:43.435353Z",
     "iopub.status.busy": "2025-02-28T23:28:43.435022Z",
     "iopub.status.idle": "2025-02-28T23:28:43.543774Z",
     "shell.execute_reply": "2025-02-28T23:28:43.542707Z"
    },
    "papermill": {
     "duration": 0.143773,
     "end_time": "2025-02-28T23:28:43.545523",
     "exception": false,
     "start_time": "2025-02-28T23:28:43.401750",
     "status": "completed"
    },
    "tags": []
   },
   "outputs": [
    {
     "data": {
      "image/png": "[encoded data removed]",
      "text/plain": [
       "<Figure size 640x480 with 1 Axes>"
      ]
     },
     "metadata": {},
     "output_type": "display_data"
    }
   ],
   "source": [
    "sns.boxplot(x=df['bath'])\n",
    "plt.show()"
   ]
  },
  {
   "cell_type": "code",
   "execution_count": 84,
   "id": "78bfa46d",
   "metadata": {
    "execution": {
     "iopub.execute_input": "2025-02-28T23:28:43.612294Z",
     "iopub.status.busy": "2025-02-28T23:28:43.611960Z",
     "iopub.status.idle": "2025-02-28T23:28:43.635953Z",
     "shell.execute_reply": "2025-02-28T23:28:43.634829Z"
    },
    "papermill": {
     "duration": 0.059072,
     "end_time": "2025-02-28T23:28:43.637725",
     "exception": false,
     "start_time": "2025-02-28T23:28:43.578653",
     "status": "completed"
    },
    "tags": []
   },
   "outputs": [
    {
     "data": {
      "text/html": [
       "<div>\n",
       "<style scoped>\n",
       "    .dataframe tbody tr th:only-of-type {\n",
       "        vertical-align: middle;\n",
       "    }\n",
       "\n",
       "    .dataframe tbody tr th {\n",
       "        vertical-align: top;\n",
       "    }\n",
       "\n",
       "    .dataframe thead th {\n",
       "        text-align: right;\n",
       "    }\n",
       "</style>\n",
       "<table border=\"1\" class=\"dataframe\">\n",
       "  <thead>\n",
       "    <tr style=\"text-align: right;\">\n",
       "      <th></th>\n",
       "      <th>total_sqft</th>\n",
       "      <th>bath</th>\n",
       "      <th>price</th>\n",
       "      <th>BHK</th>\n",
       "      <th>price_per_sqft</th>\n",
       "    </tr>\n",
       "  </thead>\n",
       "  <tbody>\n",
       "    <tr>\n",
       "      <th>count</th>\n",
       "      <td>10287.000000</td>\n",
       "      <td>10287.000000</td>\n",
       "      <td>10287.000000</td>\n",
       "      <td>10287.000000</td>\n",
       "      <td>10287.000000</td>\n",
       "    </tr>\n",
       "    <tr>\n",
       "      <th>mean</th>\n",
       "      <td>1491.338360</td>\n",
       "      <td>2.437737</td>\n",
       "      <td>90.257877</td>\n",
       "      <td>2.543696</td>\n",
       "      <td>5658.463876</td>\n",
       "    </tr>\n",
       "    <tr>\n",
       "      <th>std</th>\n",
       "      <td>837.874008</td>\n",
       "      <td>0.871027</td>\n",
       "      <td>82.457900</td>\n",
       "      <td>0.793476</td>\n",
       "      <td>2258.106894</td>\n",
       "    </tr>\n",
       "    <tr>\n",
       "      <th>min</th>\n",
       "      <td>300.000000</td>\n",
       "      <td>1.000000</td>\n",
       "      <td>10.000000</td>\n",
       "      <td>1.000000</td>\n",
       "      <td>1250.000000</td>\n",
       "    </tr>\n",
       "    <tr>\n",
       "      <th>25%</th>\n",
       "      <td>1107.000000</td>\n",
       "      <td>2.000000</td>\n",
       "      <td>48.950000</td>\n",
       "      <td>2.000000</td>\n",
       "      <td>4242.179863</td>\n",
       "    </tr>\n",
       "    <tr>\n",
       "      <th>50%</th>\n",
       "      <td>1280.000000</td>\n",
       "      <td>2.000000</td>\n",
       "      <td>67.000000</td>\n",
       "      <td>2.000000</td>\n",
       "      <td>5176.565008</td>\n",
       "    </tr>\n",
       "    <tr>\n",
       "      <th>75%</th>\n",
       "      <td>1645.000000</td>\n",
       "      <td>3.000000</td>\n",
       "      <td>100.000000</td>\n",
       "      <td>3.000000</td>\n",
       "      <td>6428.780162</td>\n",
       "    </tr>\n",
       "    <tr>\n",
       "      <th>max</th>\n",
       "      <td>30400.000000</td>\n",
       "      <td>6.000000</td>\n",
       "      <td>2100.000000</td>\n",
       "      <td>7.000000</td>\n",
       "      <td>24509.803922</td>\n",
       "    </tr>\n",
       "  </tbody>\n",
       "</table>\n",
       "</div>"
      ],
      "text/plain": [
       "         total_sqft          bath         price           BHK  price_per_sqft\n",
       "count  10287.000000  10287.000000  10287.000000  10287.000000    10287.000000\n",
       "mean    1491.338360      2.437737     90.257877      2.543696     5658.463876\n",
       "std      837.874008      0.871027     82.457900      0.793476     2258.106894\n",
       "min      300.000000      1.000000     10.000000      1.000000     1250.000000\n",
       "25%     1107.000000      2.000000     48.950000      2.000000     4242.179863\n",
       "50%     1280.000000      2.000000     67.000000      2.000000     5176.565008\n",
       "75%     1645.000000      3.000000    100.000000      3.000000     6428.780162\n",
       "max    30400.000000      6.000000   2100.000000      7.000000    24509.803922"
      ]
     },
     "execution_count": 84,
     "metadata": {},
     "output_type": "execute_result"
    }
   ],
   "source": [
    "df.describe()"
   ]
  },
  {
   "cell_type": "code",
   "execution_count": 85,
   "id": "8d600c51",
   "metadata": {
    "execution": {
     "iopub.execute_input": "2025-02-28T23:28:43.707096Z",
     "iopub.status.busy": "2025-02-28T23:28:43.706728Z",
     "iopub.status.idle": "2025-02-28T23:28:43.720584Z",
     "shell.execute_reply": "2025-02-28T23:28:43.719366Z"
    },
    "papermill": {
     "duration": 0.050755,
     "end_time": "2025-02-28T23:28:43.722523",
     "exception": false,
     "start_time": "2025-02-28T23:28:43.671768",
     "status": "completed"
    },
    "tags": []
   },
   "outputs": [
    {
     "data": {
      "text/html": [
       "<div>\n",
       "<style scoped>\n",
       "    .dataframe tbody tr th:only-of-type {\n",
       "        vertical-align: middle;\n",
       "    }\n",
       "\n",
       "    .dataframe tbody tr th {\n",
       "        vertical-align: top;\n",
       "    }\n",
       "\n",
       "    .dataframe thead th {\n",
       "        text-align: right;\n",
       "    }\n",
       "</style>\n",
       "<table border=\"1\" class=\"dataframe\">\n",
       "  <thead>\n",
       "    <tr style=\"text-align: right;\">\n",
       "      <th></th>\n",
       "      <th>location</th>\n",
       "      <th>total_sqft</th>\n",
       "      <th>bath</th>\n",
       "      <th>price</th>\n",
       "      <th>BHK</th>\n",
       "      <th>price_per_sqft</th>\n",
       "    </tr>\n",
       "  </thead>\n",
       "  <tbody>\n",
       "    <tr>\n",
       "      <th>500</th>\n",
       "      <td>Anekal</td>\n",
       "      <td>420.0</td>\n",
       "      <td>1.0</td>\n",
       "      <td>12.5</td>\n",
       "      <td>1</td>\n",
       "      <td>2976.190476</td>\n",
       "    </tr>\n",
       "    <tr>\n",
       "      <th>1761</th>\n",
       "      <td>Dasarahalli</td>\n",
       "      <td>1160.0</td>\n",
       "      <td>2.0</td>\n",
       "      <td>49.0</td>\n",
       "      <td>2</td>\n",
       "      <td>4224.137931</td>\n",
       "    </tr>\n",
       "  </tbody>\n",
       "</table>\n",
       "</div>"
      ],
      "text/plain": [
       "         location  total_sqft  bath  price  BHK  price_per_sqft\n",
       "500        Anekal       420.0   1.0   12.5    1     2976.190476\n",
       "1761  Dasarahalli      1160.0   2.0   49.0    2     4224.137931"
      ]
     },
     "execution_count": 85,
     "metadata": {},
     "output_type": "execute_result"
    }
   ],
   "source": [
    "df.sample(2)"
   ]
  },
  {
   "cell_type": "code",
   "execution_count": 86,
   "id": "97ee01bf",
   "metadata": {},
   "outputs": [
    {
     "data": {
      "image/png": "[encoded data removed]",
      "text/plain": [
       "<Figure size 640x480 with 1 Axes>"
      ]
     },
     "metadata": {},
     "output_type": "display_data"
    }
   ],
   "source": [
    "sns.countplot(x=df['bath'])\n",
    "plt.show()"
   ]
  },
  {
   "cell_type": "code",
   "execution_count": 87,
   "id": "eb79b288",
   "metadata": {
    "execution": {
     "iopub.execute_input": "2025-02-28T23:28:43.791386Z",
     "iopub.status.busy": "2025-02-28T23:28:43.791013Z",
     "iopub.status.idle": "2025-02-28T23:28:43.797120Z",
     "shell.execute_reply": "2025-02-28T23:28:43.795704Z"
    },
    "papermill": {
     "duration": 0.04294,
     "end_time": "2025-02-28T23:28:43.798980",
     "exception": false,
     "start_time": "2025-02-28T23:28:43.756040",
     "status": "completed"
    },
    "tags": []
   },
   "outputs": [],
   "source": [
    "# Dropping the price_per_sqft column as it will no longer be used in further analysis.\n",
    "df.drop(columns=['price_per_sqft'], inplace=True)"
   ]
  },
  {
   "cell_type": "code",
   "execution_count": 88,
   "id": "cea4356a",
   "metadata": {
    "execution": {
     "iopub.execute_input": "2025-02-28T23:28:43.868961Z",
     "iopub.status.busy": "2025-02-28T23:28:43.868525Z",
     "iopub.status.idle": "2025-02-28T23:28:43.881566Z",
     "shell.execute_reply": "2025-02-28T23:28:43.880303Z"
    },
    "papermill": {
     "duration": 0.051394,
     "end_time": "2025-02-28T23:28:43.883574",
     "exception": false,
     "start_time": "2025-02-28T23:28:43.832180",
     "status": "completed"
    },
    "tags": []
   },
   "outputs": [
    {
     "data": {
      "text/html": [
       "<div>\n",
       "<style scoped>\n",
       "    .dataframe tbody tr th:only-of-type {\n",
       "        vertical-align: middle;\n",
       "    }\n",
       "\n",
       "    .dataframe tbody tr th {\n",
       "        vertical-align: top;\n",
       "    }\n",
       "\n",
       "    .dataframe thead th {\n",
       "        text-align: right;\n",
       "    }\n",
       "</style>\n",
       "<table border=\"1\" class=\"dataframe\">\n",
       "  <thead>\n",
       "    <tr style=\"text-align: right;\">\n",
       "      <th></th>\n",
       "      <th>location</th>\n",
       "      <th>total_sqft</th>\n",
       "      <th>bath</th>\n",
       "      <th>price</th>\n",
       "      <th>BHK</th>\n",
       "    </tr>\n",
       "  </thead>\n",
       "  <tbody>\n",
       "    <tr>\n",
       "      <th>8899</th>\n",
       "      <td>other</td>\n",
       "      <td>435.0</td>\n",
       "      <td>1.0</td>\n",
       "      <td>19.5</td>\n",
       "      <td>1</td>\n",
       "    </tr>\n",
       "    <tr>\n",
       "      <th>5775</th>\n",
       "      <td>Raja Rajeshwari Nagar</td>\n",
       "      <td>1500.0</td>\n",
       "      <td>3.0</td>\n",
       "      <td>88.0</td>\n",
       "      <td>3</td>\n",
       "    </tr>\n",
       "    <tr>\n",
       "      <th>4280</th>\n",
       "      <td>Kannamangala</td>\n",
       "      <td>1536.0</td>\n",
       "      <td>3.0</td>\n",
       "      <td>104.0</td>\n",
       "      <td>3</td>\n",
       "    </tr>\n",
       "  </tbody>\n",
       "</table>\n",
       "</div>"
      ],
      "text/plain": [
       "                   location  total_sqft  bath  price  BHK\n",
       "8899                  other       435.0   1.0   19.5    1\n",
       "5775  Raja Rajeshwari Nagar      1500.0   3.0   88.0    3\n",
       "4280           Kannamangala      1536.0   3.0  104.0    3"
      ]
     },
     "execution_count": 88,
     "metadata": {},
     "output_type": "execute_result"
    }
   ],
   "source": [
    "df.sample(3)"
   ]
  },
  {
   "cell_type": "code",
   "execution_count": 89,
   "id": "4d6e4193",
   "metadata": {},
   "outputs": [
    {
     "data": {
      "text/plain": [
       "(10287, 5)"
      ]
     },
     "execution_count": 89,
     "metadata": {},
     "output_type": "execute_result"
    }
   ],
   "source": [
    "df.shape"
   ]
  },
  {
   "cell_type": "code",
   "execution_count": 90,
   "id": "6891eda4",
   "metadata": {},
   "outputs": [],
   "source": [
    "df.to_csv('Cleaned_data.csv')"
   ]
  },
  {
   "cell_type": "markdown",
   "id": "a1865f23",
   "metadata": {
    "papermill": {
     "duration": 0.032714,
     "end_time": "2025-02-28T23:28:44.016640",
     "exception": false,
     "start_time": "2025-02-28T23:28:43.983926",
     "status": "completed"
    },
    "tags": []
   },
   "source": [
    "<h1>Model Building:</h1>\n",
    "<h3>datasets is cleaned</h3>"
   ]
  },
  {
   "cell_type": "code",
   "execution_count": 91,
   "id": "5e19e755",
   "metadata": {
    "execution": {
     "iopub.execute_input": "2025-02-28T23:28:44.083952Z",
     "iopub.status.busy": "2025-02-28T23:28:44.083578Z",
     "iopub.status.idle": "2025-02-28T23:28:44.520905Z",
     "shell.execute_reply": "2025-02-28T23:28:44.519719Z"
    },
    "papermill": {
     "duration": 0.473361,
     "end_time": "2025-02-28T23:28:44.522997",
     "exception": false,
     "start_time": "2025-02-28T23:28:44.049636",
     "status": "completed"
    },
    "tags": []
   },
   "outputs": [],
   "source": [
    "from sklearn.model_selection import train_test_split\n",
    "from sklearn.preprocessing import OneHotEncoder, StandardScaler\n",
    "from sklearn.compose import ColumnTransformer, make_column_transformer\n",
    "from sklearn.pipeline import Pipeline,make_pipeline\n",
    "from sklearn.linear_model import LinearRegression,Lasso,Ridge\n",
    "from sklearn.metrics import r2_score"
   ]
  },
  {
   "cell_type": "code",
   "execution_count": 92,
   "id": "5ddae4d1",
   "metadata": {
    "execution": {
     "iopub.execute_input": "2025-02-28T23:28:44.596876Z",
     "iopub.status.busy": "2025-02-28T23:28:44.596504Z",
     "iopub.status.idle": "2025-02-28T23:28:44.605401Z",
     "shell.execute_reply": "2025-02-28T23:28:44.604566Z"
    },
    "papermill": {
     "duration": 0.050795,
     "end_time": "2025-02-28T23:28:44.607176",
     "exception": false,
     "start_time": "2025-02-28T23:28:44.556381",
     "status": "completed"
    },
    "tags": []
   },
   "outputs": [],
   "source": [
    "X_train,X_test,y_train,y_test = train_test_split(df.drop(columns=['price']),df['price'],test_size=.2,random_state=2)"
   ]
  },
  {
   "cell_type": "code",
   "execution_count": 93,
   "id": "110ae5fc",
   "metadata": {
    "execution": {
     "iopub.execute_input": "2025-02-28T23:28:44.676067Z",
     "iopub.status.busy": "2025-02-28T23:28:44.675720Z",
     "iopub.status.idle": "2025-02-28T23:28:44.686625Z",
     "shell.execute_reply": "2025-02-28T23:28:44.685553Z"
    },
    "papermill": {
     "duration": 0.047776,
     "end_time": "2025-02-28T23:28:44.688374",
     "exception": false,
     "start_time": "2025-02-28T23:28:44.640598",
     "status": "completed"
    },
    "tags": []
   },
   "outputs": [
    {
     "data": {
      "text/html": [
       "<div>\n",
       "<style scoped>\n",
       "    .dataframe tbody tr th:only-of-type {\n",
       "        vertical-align: middle;\n",
       "    }\n",
       "\n",
       "    .dataframe tbody tr th {\n",
       "        vertical-align: top;\n",
       "    }\n",
       "\n",
       "    .dataframe thead th {\n",
       "        text-align: right;\n",
       "    }\n",
       "</style>\n",
       "<table border=\"1\" class=\"dataframe\">\n",
       "  <thead>\n",
       "    <tr style=\"text-align: right;\">\n",
       "      <th></th>\n",
       "      <th>location</th>\n",
       "      <th>total_sqft</th>\n",
       "      <th>bath</th>\n",
       "      <th>BHK</th>\n",
       "    </tr>\n",
       "  </thead>\n",
       "  <tbody>\n",
       "    <tr>\n",
       "      <th>2080</th>\n",
       "      <td>Electronic City</td>\n",
       "      <td>1470.0</td>\n",
       "      <td>2.0</td>\n",
       "      <td>3</td>\n",
       "    </tr>\n",
       "    <tr>\n",
       "      <th>437</th>\n",
       "      <td>Anandapura</td>\n",
       "      <td>1576.0</td>\n",
       "      <td>3.0</td>\n",
       "      <td>3</td>\n",
       "    </tr>\n",
       "    <tr>\n",
       "      <th>9799</th>\n",
       "      <td>other</td>\n",
       "      <td>1050.0</td>\n",
       "      <td>2.0</td>\n",
       "      <td>2</td>\n",
       "    </tr>\n",
       "  </tbody>\n",
       "</table>\n",
       "</div>"
      ],
      "text/plain": [
       "             location  total_sqft  bath  BHK\n",
       "2080  Electronic City      1470.0   2.0    3\n",
       "437        Anandapura      1576.0   3.0    3\n",
       "9799            other      1050.0   2.0    2"
      ]
     },
     "execution_count": 93,
     "metadata": {},
     "output_type": "execute_result"
    }
   ],
   "source": [
    "X_train.sample(3)"
   ]
  },
  {
   "cell_type": "markdown",
   "id": "a17dc6dc",
   "metadata": {},
   "source": [
    "Apply linear regression "
   ]
  },
  {
   "cell_type": "code",
   "execution_count": 94,
   "id": "d198504c",
   "metadata": {},
   "outputs": [],
   "source": [
    "one_hot_transformer = ColumnTransformer([\n",
    "    ('one_hot_encoder',OneHotEncoder(drop='first',sparse_output=False,dtype=int,handle_unknown='ignore'),['location'])\n",
    "],remainder='passthrough')"
   ]
  },
  {
   "cell_type": "code",
   "execution_count": null,
   "id": "cb3bb732",
   "metadata": {},
   "outputs": [],
   "source": []
  },
  {
   "cell_type": "code",
   "execution_count": 95,
   "id": "712d62ad",
   "metadata": {},
   "outputs": [],
   "source": [
    "scaler=StandardScaler()"
   ]
  },
  {
   "cell_type": "code",
   "execution_count": 96,
   "id": "bc3c5db4",
   "metadata": {},
   "outputs": [],
   "source": [
    "lr=LinearRegression()"
   ]
  },
  {
   "cell_type": "code",
   "execution_count": 97,
   "id": "d7b6d513",
   "metadata": {
    "execution": {
     "iopub.execute_input": "2025-02-28T23:28:44.972199Z",
     "iopub.status.busy": "2025-02-28T23:28:44.971874Z",
     "iopub.status.idle": "2025-02-28T23:28:44.975905Z",
     "shell.execute_reply": "2025-02-28T23:28:44.974954Z"
    },
    "papermill": {
     "duration": 0.03946,
     "end_time": "2025-02-28T23:28:44.977466",
     "exception": false,
     "start_time": "2025-02-28T23:28:44.938006",
     "status": "completed"
    },
    "tags": []
   },
   "outputs": [],
   "source": [
    "pipe=make_pipeline(one_hot_transformer,scaler,lr)"
   ]
  },
  {
   "cell_type": "code",
   "execution_count": 98,
   "id": "d6a63e4f",
   "metadata": {},
   "outputs": [
    {
     "data": {
      "text/html": [
       "<style>#sk-container-id-1 {\n",
       "  /* Definition of color scheme common for light and dark mode */\n",
       "  --sklearn-color-text: #000;\n",
       "  --sklearn-color-text-muted: #666;\n",
       "  --sklearn-color-line: gray;\n",
       "  /* Definition of color scheme for unfitted estimators */\n",
       "  --sklearn-color-unfitted-level-0: #fff5e6;\n",
       "  --sklearn-color-unfitted-level-1: #f6e4d2;\n",
       "  --sklearn-color-unfitted-level-2: #ffe0b3;\n",
       "  --sklearn-color-unfitted-level-3: chocolate;\n",
       "  /* Definition of color scheme for fitted estimators */\n",
       "  --sklearn-color-fitted-level-0: #f0f8ff;\n",
       "  --sklearn-color-fitted-level-1: #d4ebff;\n",
       "  --sklearn-color-fitted-level-2: #b3dbfd;\n",
       "  --sklearn-color-fitted-level-3: cornflowerblue;\n",
       "\n",
       "  /* Specific color for light theme */\n",
       "  --sklearn-color-text-on-default-background: var(--sg-text-color, var(--theme-code-foreground, var(--jp-content-font-color1, black)));\n",
       "  --sklearn-color-background: var(--sg-background-color, var(--theme-background, var(--jp-layout-color0, white)));\n",
       "  --sklearn-color-border-box: var(--sg-text-color, var(--theme-code-foreground, var(--jp-content-font-color1, black)));\n",
       "  --sklearn-color-icon: #696969;\n",
       "\n",
       "  @media (prefers-color-scheme: dark) {\n",
       "    /* Redefinition of color scheme for dark theme */\n",
       "    --sklearn-color-text-on-default-background: var(--sg-text-color, var(--theme-code-foreground, var(--jp-content-font-color1, white)));\n",
       "    --sklearn-color-background: var(--sg-background-color, var(--theme-background, var(--jp-layout-color0, #111)));\n",
       "    --sklearn-color-border-box: var(--sg-text-color, var(--theme-code-foreground, var(--jp-content-font-color1, white)));\n",
       "    --sklearn-color-icon: #878787;\n",
       "  }\n",
       "}\n",
       "\n",
       "#sk-container-id-1 {\n",
       "  color: var(--sklearn-color-text);\n",
       "}\n",
       "\n",
       "#sk-container-id-1 pre {\n",
       "  padding: 0;\n",
       "}\n",
       "\n",
       "#sk-container-id-1 input.sk-hidden--visually {\n",
       "  border: 0;\n",
       "  clip: rect(1px 1px 1px 1px);\n",
       "  clip: rect(1px, 1px, 1px, 1px);\n",
       "  height: 1px;\n",
       "  margin: -1px;\n",
       "  overflow: hidden;\n",
       "  padding: 0;\n",
       "  position: absolute;\n",
       "  width: 1px;\n",
       "}\n",
       "\n",
       "#sk-container-id-1 div.sk-dashed-wrapped {\n",
       "  border: 1px dashed var(--sklearn-color-line);\n",
       "  margin: 0 0.4em 0.5em 0.4em;\n",
       "  box-sizing: border-box;\n",
       "  padding-bottom: 0.4em;\n",
       "  background-color: var(--sklearn-color-background);\n",
       "}\n",
       "\n",
       "#sk-container-id-1 div.sk-container {\n",
       "  /* jupyter's `normalize.less` sets `[hidden] { display: none; }`\n",
       "     but bootstrap.min.css set `[hidden] { display: none !important; }`\n",
       "     so we also need the `!important` here to be able to override the\n",
       "     default hidden behavior on the sphinx rendered scikit-learn.org.\n",
       "     See: https://github.com/scikit-learn/scikit-learn/issues/21755 */\n",
       "  display: inline-block !important;\n",
       "  position: relative;\n",
       "}\n",
       "\n",
       "#sk-container-id-1 div.sk-text-repr-fallback {\n",
       "  display: none;\n",
       "}\n",
       "\n",
       "div.sk-parallel-item,\n",
       "div.sk-serial,\n",
       "div.sk-item {\n",
       "  /* draw centered vertical line to link estimators */\n",
       "  background-image: linear-gradient(var(--sklearn-color-text-on-default-background), var(--sklearn-color-text-on-default-background));\n",
       "  background-size: 2px 100%;\n",
       "  background-repeat: no-repeat;\n",
       "  background-position: center center;\n",
       "}\n",
       "\n",
       "/* Parallel-specific style estimator block */\n",
       "\n",
       "#sk-container-id-1 div.sk-parallel-item::after {\n",
       "  content: \"\";\n",
       "  width: 100%;\n",
       "  border-bottom: 2px solid var(--sklearn-color-text-on-default-background);\n",
       "  flex-grow: 1;\n",
       "}\n",
       "\n",
       "#sk-container-id-1 div.sk-parallel {\n",
       "  display: flex;\n",
       "  align-items: stretch;\n",
       "  justify-content: center;\n",
       "  background-color: var(--sklearn-color-background);\n",
       "  position: relative;\n",
       "}\n",
       "\n",
       "#sk-container-id-1 div.sk-parallel-item {\n",
       "  display: flex;\n",
       "  flex-direction: column;\n",
       "}\n",
       "\n",
       "#sk-container-id-1 div.sk-parallel-item:first-child::after {\n",
       "  align-self: flex-end;\n",
       "  width: 50%;\n",
       "}\n",
       "\n",
       "#sk-container-id-1 div.sk-parallel-item:last-child::after {\n",
       "  align-self: flex-start;\n",
       "  width: 50%;\n",
       "}\n",
       "\n",
       "#sk-container-id-1 div.sk-parallel-item:only-child::after {\n",
       "  width: 0;\n",
       "}\n",
       "\n",
       "/* Serial-specific style estimator block */\n",
       "\n",
       "#sk-container-id-1 div.sk-serial {\n",
       "  display: flex;\n",
       "  flex-direction: column;\n",
       "  align-items: center;\n",
       "  background-color: var(--sklearn-color-background);\n",
       "  padding-right: 1em;\n",
       "  padding-left: 1em;\n",
       "}\n",
       "\n",
       "\n",
       "/* Toggleable style: style used for estimator/Pipeline/ColumnTransformer box that is\n",
       "clickable and can be expanded/collapsed.\n",
       "- Pipeline and ColumnTransformer use this feature and define the default style\n",
       "- Estimators will overwrite some part of the style using the `sk-estimator` class\n",
       "*/\n",
       "\n",
       "/* Pipeline and ColumnTransformer style (default) */\n",
       "\n",
       "#sk-container-id-1 div.sk-toggleable {\n",
       "  /* Default theme specific background. It is overwritten whether we have a\n",
       "  specific estimator or a Pipeline/ColumnTransformer */\n",
       "  background-color: var(--sklearn-color-background);\n",
       "}\n",
       "\n",
       "/* Toggleable label */\n",
       "#sk-container-id-1 label.sk-toggleable__label {\n",
       "  cursor: pointer;\n",
       "  display: flex;\n",
       "  width: 100%;\n",
       "  margin-bottom: 0;\n",
       "  padding: 0.5em;\n",
       "  box-sizing: border-box;\n",
       "  text-align: center;\n",
       "  align-items: start;\n",
       "  justify-content: space-between;\n",
       "  gap: 0.5em;\n",
       "}\n",
       "\n",
       "#sk-container-id-1 label.sk-toggleable__label .caption {\n",
       "  font-size: 0.6rem;\n",
       "  font-weight: lighter;\n",
       "  color: var(--sklearn-color-text-muted);\n",
       "}\n",
       "\n",
       "#sk-container-id-1 label.sk-toggleable__label-arrow:before {\n",
       "  /* Arrow on the left of the label */\n",
       "  content: \"▸\";\n",
       "  float: left;\n",
       "  margin-right: 0.25em;\n",
       "  color: var(--sklearn-color-icon);\n",
       "}\n",
       "\n",
       "#sk-container-id-1 label.sk-toggleable__label-arrow:hover:before {\n",
       "  color: var(--sklearn-color-text);\n",
       "}\n",
       "\n",
       "/* Toggleable content - dropdown */\n",
       "\n",
       "#sk-container-id-1 div.sk-toggleable__content {\n",
       "  max-height: 0;\n",
       "  max-width: 0;\n",
       "  overflow: hidden;\n",
       "  text-align: left;\n",
       "  /* unfitted */\n",
       "  background-color: var(--sklearn-color-unfitted-level-0);\n",
       "}\n",
       "\n",
       "#sk-container-id-1 div.sk-toggleable__content.fitted {\n",
       "  /* fitted */\n",
       "  background-color: var(--sklearn-color-fitted-level-0);\n",
       "}\n",
       "\n",
       "#sk-container-id-1 div.sk-toggleable__content pre {\n",
       "  margin: 0.2em;\n",
       "  border-radius: 0.25em;\n",
       "  color: var(--sklearn-color-text);\n",
       "  /* unfitted */\n",
       "  background-color: var(--sklearn-color-unfitted-level-0);\n",
       "}\n",
       "\n",
       "#sk-container-id-1 div.sk-toggleable__content.fitted pre {\n",
       "  /* unfitted */\n",
       "  background-color: var(--sklearn-color-fitted-level-0);\n",
       "}\n",
       "\n",
       "#sk-container-id-1 input.sk-toggleable__control:checked~div.sk-toggleable__content {\n",
       "  /* Expand drop-down */\n",
       "  max-height: 200px;\n",
       "  max-width: 100%;\n",
       "  overflow: auto;\n",
       "}\n",
       "\n",
       "#sk-container-id-1 input.sk-toggleable__control:checked~label.sk-toggleable__label-arrow:before {\n",
       "  content: \"▾\";\n",
       "}\n",
       "\n",
       "/* Pipeline/ColumnTransformer-specific style */\n",
       "\n",
       "#sk-container-id-1 div.sk-label input.sk-toggleable__control:checked~label.sk-toggleable__label {\n",
       "  color: var(--sklearn-color-text);\n",
       "  background-color: var(--sklearn-color-unfitted-level-2);\n",
       "}\n",
       "\n",
       "#sk-container-id-1 div.sk-label.fitted input.sk-toggleable__control:checked~label.sk-toggleable__label {\n",
       "  background-color: var(--sklearn-color-fitted-level-2);\n",
       "}\n",
       "\n",
       "/* Estimator-specific style */\n",
       "\n",
       "/* Colorize estimator box */\n",
       "#sk-container-id-1 div.sk-estimator input.sk-toggleable__control:checked~label.sk-toggleable__label {\n",
       "  /* unfitted */\n",
       "  background-color: var(--sklearn-color-unfitted-level-2);\n",
       "}\n",
       "\n",
       "#sk-container-id-1 div.sk-estimator.fitted input.sk-toggleable__control:checked~label.sk-toggleable__label {\n",
       "  /* fitted */\n",
       "  background-color: var(--sklearn-color-fitted-level-2);\n",
       "}\n",
       "\n",
       "#sk-container-id-1 div.sk-label label.sk-toggleable__label,\n",
       "#sk-container-id-1 div.sk-label label {\n",
       "  /* The background is the default theme color */\n",
       "  color: var(--sklearn-color-text-on-default-background);\n",
       "}\n",
       "\n",
       "/* On hover, darken the color of the background */\n",
       "#sk-container-id-1 div.sk-label:hover label.sk-toggleable__label {\n",
       "  color: var(--sklearn-color-text);\n",
       "  background-color: var(--sklearn-color-unfitted-level-2);\n",
       "}\n",
       "\n",
       "/* Label box, darken color on hover, fitted */\n",
       "#sk-container-id-1 div.sk-label.fitted:hover label.sk-toggleable__label.fitted {\n",
       "  color: var(--sklearn-color-text);\n",
       "  background-color: var(--sklearn-color-fitted-level-2);\n",
       "}\n",
       "\n",
       "/* Estimator label */\n",
       "\n",
       "#sk-container-id-1 div.sk-label label {\n",
       "  font-family: monospace;\n",
       "  font-weight: bold;\n",
       "  display: inline-block;\n",
       "  line-height: 1.2em;\n",
       "}\n",
       "\n",
       "#sk-container-id-1 div.sk-label-container {\n",
       "  text-align: center;\n",
       "}\n",
       "\n",
       "/* Estimator-specific */\n",
       "#sk-container-id-1 div.sk-estimator {\n",
       "  font-family: monospace;\n",
       "  border: 1px dotted var(--sklearn-color-border-box);\n",
       "  border-radius: 0.25em;\n",
       "  box-sizing: border-box;\n",
       "  margin-bottom: 0.5em;\n",
       "  /* unfitted */\n",
       "  background-color: var(--sklearn-color-unfitted-level-0);\n",
       "}\n",
       "\n",
       "#sk-container-id-1 div.sk-estimator.fitted {\n",
       "  /* fitted */\n",
       "  background-color: var(--sklearn-color-fitted-level-0);\n",
       "}\n",
       "\n",
       "/* on hover */\n",
       "#sk-container-id-1 div.sk-estimator:hover {\n",
       "  /* unfitted */\n",
       "  background-color: var(--sklearn-color-unfitted-level-2);\n",
       "}\n",
       "\n",
       "#sk-container-id-1 div.sk-estimator.fitted:hover {\n",
       "  /* fitted */\n",
       "  background-color: var(--sklearn-color-fitted-level-2);\n",
       "}\n",
       "\n",
       "/* Specification for estimator info (e.g. \"i\" and \"?\") */\n",
       "\n",
       "/* Common style for \"i\" and \"?\" */\n",
       "\n",
       ".sk-estimator-doc-link,\n",
       "a:link.sk-estimator-doc-link,\n",
       "a:visited.sk-estimator-doc-link {\n",
       "  float: right;\n",
       "  font-size: smaller;\n",
       "  line-height: 1em;\n",
       "  font-family: monospace;\n",
       "  background-color: var(--sklearn-color-background);\n",
       "  border-radius: 1em;\n",
       "  height: 1em;\n",
       "  width: 1em;\n",
       "  text-decoration: none !important;\n",
       "  margin-left: 0.5em;\n",
       "  text-align: center;\n",
       "  /* unfitted */\n",
       "  border: var(--sklearn-color-unfitted-level-1) 1pt solid;\n",
       "  color: var(--sklearn-color-unfitted-level-1);\n",
       "}\n",
       "\n",
       ".sk-estimator-doc-link.fitted,\n",
       "a:link.sk-estimator-doc-link.fitted,\n",
       "a:visited.sk-estimator-doc-link.fitted {\n",
       "  /* fitted */\n",
       "  border: var(--sklearn-color-fitted-level-1) 1pt solid;\n",
       "  color: var(--sklearn-color-fitted-level-1);\n",
       "}\n",
       "\n",
       "/* On hover */\n",
       "div.sk-estimator:hover .sk-estimator-doc-link:hover,\n",
       ".sk-estimator-doc-link:hover,\n",
       "div.sk-label-container:hover .sk-estimator-doc-link:hover,\n",
       ".sk-estimator-doc-link:hover {\n",
       "  /* unfitted */\n",
       "  background-color: var(--sklearn-color-unfitted-level-3);\n",
       "  color: var(--sklearn-color-background);\n",
       "  text-decoration: none;\n",
       "}\n",
       "\n",
       "div.sk-estimator.fitted:hover .sk-estimator-doc-link.fitted:hover,\n",
       ".sk-estimator-doc-link.fitted:hover,\n",
       "div.sk-label-container:hover .sk-estimator-doc-link.fitted:hover,\n",
       ".sk-estimator-doc-link.fitted:hover {\n",
       "  /* fitted */\n",
       "  background-color: var(--sklearn-color-fitted-level-3);\n",
       "  color: var(--sklearn-color-background);\n",
       "  text-decoration: none;\n",
       "}\n",
       "\n",
       "/* Span, style for the box shown on hovering the info icon */\n",
       ".sk-estimator-doc-link span {\n",
       "  display: none;\n",
       "  z-index: 9999;\n",
       "  position: relative;\n",
       "  font-weight: normal;\n",
       "  right: .2ex;\n",
       "  padding: .5ex;\n",
       "  margin: .5ex;\n",
       "  width: min-content;\n",
       "  min-width: 20ex;\n",
       "  max-width: 50ex;\n",
       "  color: var(--sklearn-color-text);\n",
       "  box-shadow: 2pt 2pt 4pt #999;\n",
       "  /* unfitted */\n",
       "  background: var(--sklearn-color-unfitted-level-0);\n",
       "  border: .5pt solid var(--sklearn-color-unfitted-level-3);\n",
       "}\n",
       "\n",
       ".sk-estimator-doc-link.fitted span {\n",
       "  /* fitted */\n",
       "  background: var(--sklearn-color-fitted-level-0);\n",
       "  border: var(--sklearn-color-fitted-level-3);\n",
       "}\n",
       "\n",
       ".sk-estimator-doc-link:hover span {\n",
       "  display: block;\n",
       "}\n",
       "\n",
       "/* \"?\"-specific style due to the `<a>` HTML tag */\n",
       "\n",
       "#sk-container-id-1 a.estimator_doc_link {\n",
       "  float: right;\n",
       "  font-size: 1rem;\n",
       "  line-height: 1em;\n",
       "  font-family: monospace;\n",
       "  background-color: var(--sklearn-color-background);\n",
       "  border-radius: 1rem;\n",
       "  height: 1rem;\n",
       "  width: 1rem;\n",
       "  text-decoration: none;\n",
       "  /* unfitted */\n",
       "  color: var(--sklearn-color-unfitted-level-1);\n",
       "  border: var(--sklearn-color-unfitted-level-1) 1pt solid;\n",
       "}\n",
       "\n",
       "#sk-container-id-1 a.estimator_doc_link.fitted {\n",
       "  /* fitted */\n",
       "  border: var(--sklearn-color-fitted-level-1) 1pt solid;\n",
       "  color: var(--sklearn-color-fitted-level-1);\n",
       "}\n",
       "\n",
       "/* On hover */\n",
       "#sk-container-id-1 a.estimator_doc_link:hover {\n",
       "  /* unfitted */\n",
       "  background-color: var(--sklearn-color-unfitted-level-3);\n",
       "  color: var(--sklearn-color-background);\n",
       "  text-decoration: none;\n",
       "}\n",
       "\n",
       "#sk-container-id-1 a.estimator_doc_link.fitted:hover {\n",
       "  /* fitted */\n",
       "  background-color: var(--sklearn-color-fitted-level-3);\n",
       "}\n",
       "</style><div id=\"sk-container-id-1\" class=\"sk-top-container\"><div class=\"sk-text-repr-fallback\"><pre>Pipeline(steps=[(&#x27;columntransformer&#x27;,\n",
       "                 ColumnTransformer(remainder=&#x27;passthrough&#x27;,\n",
       "                                   transformers=[(&#x27;one_hot_encoder&#x27;,\n",
       "                                                  OneHotEncoder(drop=&#x27;first&#x27;,\n",
       "                                                                dtype=&lt;class &#x27;int&#x27;&gt;,\n",
       "                                                                handle_unknown=&#x27;ignore&#x27;,\n",
       "                                                                sparse_output=False),\n",
       "                                                  [&#x27;location&#x27;])])),\n",
       "                (&#x27;standardscaler&#x27;, StandardScaler()),\n",
       "                (&#x27;linearregression&#x27;, LinearRegression())])</pre><b>In a Jupyter environment, please rerun this cell to show the HTML representation or trust the notebook. <br />On GitHub, the HTML representation is unable to render, please try loading this page with nbviewer.org.</b></div><div class=\"sk-container\" hidden><div class=\"sk-item sk-dashed-wrapped\"><div class=\"sk-label-container\"><div class=\"sk-label fitted sk-toggleable\"><input class=\"sk-toggleable__control sk-hidden--visually\" id=\"sk-estimator-id-1\" type=\"checkbox\" ><label for=\"sk-estimator-id-1\" class=\"sk-toggleable__label fitted sk-toggleable__label-arrow\"><div><div>Pipeline</div></div><div><a class=\"sk-estimator-doc-link fitted\" rel=\"noreferrer\" target=\"_blank\" href=\"https://scikit-learn.org/1.6/modules/generated/sklearn.pipeline.Pipeline.html\">?<span>Documentation for Pipeline</span></a><span class=\"sk-estimator-doc-link fitted\">i<span>Fitted</span></span></div></label><div class=\"sk-toggleable__content fitted\"><pre>Pipeline(steps=[(&#x27;columntransformer&#x27;,\n",
       "                 ColumnTransformer(remainder=&#x27;passthrough&#x27;,\n",
       "                                   transformers=[(&#x27;one_hot_encoder&#x27;,\n",
       "                                                  OneHotEncoder(drop=&#x27;first&#x27;,\n",
       "                                                                dtype=&lt;class &#x27;int&#x27;&gt;,\n",
       "                                                                handle_unknown=&#x27;ignore&#x27;,\n",
       "                                                                sparse_output=False),\n",
       "                                                  [&#x27;location&#x27;])])),\n",
       "                (&#x27;standardscaler&#x27;, StandardScaler()),\n",
       "                (&#x27;linearregression&#x27;, LinearRegression())])</pre></div> </div></div><div class=\"sk-serial\"><div class=\"sk-item sk-dashed-wrapped\"><div class=\"sk-label-container\"><div class=\"sk-label fitted sk-toggleable\"><input class=\"sk-toggleable__control sk-hidden--visually\" id=\"sk-estimator-id-2\" type=\"checkbox\" ><label for=\"sk-estimator-id-2\" class=\"sk-toggleable__label fitted sk-toggleable__label-arrow\"><div><div>columntransformer: ColumnTransformer</div></div><div><a class=\"sk-estimator-doc-link fitted\" rel=\"noreferrer\" target=\"_blank\" href=\"https://scikit-learn.org/1.6/modules/generated/sklearn.compose.ColumnTransformer.html\">?<span>Documentation for columntransformer: ColumnTransformer</span></a></div></label><div class=\"sk-toggleable__content fitted\"><pre>ColumnTransformer(remainder=&#x27;passthrough&#x27;,\n",
       "                  transformers=[(&#x27;one_hot_encoder&#x27;,\n",
       "                                 OneHotEncoder(drop=&#x27;first&#x27;,\n",
       "                                               dtype=&lt;class &#x27;int&#x27;&gt;,\n",
       "                                               handle_unknown=&#x27;ignore&#x27;,\n",
       "                                               sparse_output=False),\n",
       "                                 [&#x27;location&#x27;])])</pre></div> </div></div><div class=\"sk-parallel\"><div class=\"sk-parallel-item\"><div class=\"sk-item\"><div class=\"sk-label-container\"><div class=\"sk-label fitted sk-toggleable\"><input class=\"sk-toggleable__control sk-hidden--visually\" id=\"sk-estimator-id-3\" type=\"checkbox\" ><label for=\"sk-estimator-id-3\" class=\"sk-toggleable__label fitted sk-toggleable__label-arrow\"><div><div>one_hot_encoder</div></div></label><div class=\"sk-toggleable__content fitted\"><pre>[&#x27;location&#x27;]</pre></div> </div></div><div class=\"sk-serial\"><div class=\"sk-item\"><div class=\"sk-estimator fitted sk-toggleable\"><input class=\"sk-toggleable__control sk-hidden--visually\" id=\"sk-estimator-id-4\" type=\"checkbox\" ><label for=\"sk-estimator-id-4\" class=\"sk-toggleable__label fitted sk-toggleable__label-arrow\"><div><div>OneHotEncoder</div></div><div><a class=\"sk-estimator-doc-link fitted\" rel=\"noreferrer\" target=\"_blank\" href=\"https://scikit-learn.org/1.6/modules/generated/sklearn.preprocessing.OneHotEncoder.html\">?<span>Documentation for OneHotEncoder</span></a></div></label><div class=\"sk-toggleable__content fitted\"><pre>OneHotEncoder(drop=&#x27;first&#x27;, dtype=&lt;class &#x27;int&#x27;&gt;, handle_unknown=&#x27;ignore&#x27;,\n",
       "              sparse_output=False)</pre></div> </div></div></div></div></div><div class=\"sk-parallel-item\"><div class=\"sk-item\"><div class=\"sk-label-container\"><div class=\"sk-label fitted sk-toggleable\"><input class=\"sk-toggleable__control sk-hidden--visually\" id=\"sk-estimator-id-5\" type=\"checkbox\" ><label for=\"sk-estimator-id-5\" class=\"sk-toggleable__label fitted sk-toggleable__label-arrow\"><div><div>remainder</div></div></label><div class=\"sk-toggleable__content fitted\"><pre>[&#x27;total_sqft&#x27;, &#x27;bath&#x27;, &#x27;BHK&#x27;]</pre></div> </div></div><div class=\"sk-serial\"><div class=\"sk-item\"><div class=\"sk-estimator fitted sk-toggleable\"><input class=\"sk-toggleable__control sk-hidden--visually\" id=\"sk-estimator-id-6\" type=\"checkbox\" ><label for=\"sk-estimator-id-6\" class=\"sk-toggleable__label fitted sk-toggleable__label-arrow\"><div><div>passthrough</div></div></label><div class=\"sk-toggleable__content fitted\"><pre>passthrough</pre></div> </div></div></div></div></div></div></div><div class=\"sk-item\"><div class=\"sk-estimator fitted sk-toggleable\"><input class=\"sk-toggleable__control sk-hidden--visually\" id=\"sk-estimator-id-7\" type=\"checkbox\" ><label for=\"sk-estimator-id-7\" class=\"sk-toggleable__label fitted sk-toggleable__label-arrow\"><div><div>StandardScaler</div></div><div><a class=\"sk-estimator-doc-link fitted\" rel=\"noreferrer\" target=\"_blank\" href=\"https://scikit-learn.org/1.6/modules/generated/sklearn.preprocessing.StandardScaler.html\">?<span>Documentation for StandardScaler</span></a></div></label><div class=\"sk-toggleable__content fitted\"><pre>StandardScaler()</pre></div> </div></div><div class=\"sk-item\"><div class=\"sk-estimator fitted sk-toggleable\"><input class=\"sk-toggleable__control sk-hidden--visually\" id=\"sk-estimator-id-8\" type=\"checkbox\" ><label for=\"sk-estimator-id-8\" class=\"sk-toggleable__label fitted sk-toggleable__label-arrow\"><div><div>LinearRegression</div></div><div><a class=\"sk-estimator-doc-link fitted\" rel=\"noreferrer\" target=\"_blank\" href=\"https://scikit-learn.org/1.6/modules/generated/sklearn.linear_model.LinearRegression.html\">?<span>Documentation for LinearRegression</span></a></div></label><div class=\"sk-toggleable__content fitted\"><pre>LinearRegression()</pre></div> </div></div></div></div></div></div>"
      ],
      "text/plain": [
       "Pipeline(steps=[('columntransformer',\n",
       "                 ColumnTransformer(remainder='passthrough',\n",
       "                                   transformers=[('one_hot_encoder',\n",
       "                                                  OneHotEncoder(drop='first',\n",
       "                                                                dtype=<class 'int'>,\n",
       "                                                                handle_unknown='ignore',\n",
       "                                                                sparse_output=False),\n",
       "                                                  ['location'])])),\n",
       "                ('standardscaler', StandardScaler()),\n",
       "                ('linearregression', LinearRegression())])"
      ]
     },
     "execution_count": 98,
     "metadata": {},
     "output_type": "execute_result"
    }
   ],
   "source": [
    "pipe.fit(X_train,y_train)"
   ]
  },
  {
   "cell_type": "code",
   "execution_count": 99,
   "id": "f5688e65",
   "metadata": {
    "execution": {
     "iopub.execute_input": "2025-02-28T23:28:45.442651Z",
     "iopub.status.busy": "2025-02-28T23:28:45.442233Z",
     "iopub.status.idle": "2025-02-28T23:28:45.461645Z",
     "shell.execute_reply": "2025-02-28T23:28:45.460542Z"
    },
    "papermill": {
     "duration": 0.057065,
     "end_time": "2025-02-28T23:28:45.463690",
     "exception": false,
     "start_time": "2025-02-28T23:28:45.406625",
     "status": "completed"
    },
    "scrolled": true,
    "tags": []
   },
   "outputs": [],
   "source": [
    "y_pred = pipe.predict(X_test)"
   ]
  },
  {
   "cell_type": "code",
   "execution_count": 100,
   "id": "97fa0409",
   "metadata": {
    "execution": {
     "iopub.execute_input": "2025-02-28T23:28:45.534927Z",
     "iopub.status.busy": "2025-02-28T23:28:45.534556Z",
     "iopub.status.idle": "2025-02-28T23:28:45.541516Z",
     "shell.execute_reply": "2025-02-28T23:28:45.540569Z"
    },
    "papermill": {
     "duration": 0.044284,
     "end_time": "2025-02-28T23:28:45.543126",
     "exception": false,
     "start_time": "2025-02-28T23:28:45.498842",
     "status": "completed"
    },
    "tags": []
   },
   "outputs": [
    {
     "data": {
      "text/plain": [
       "0.801718286031115"
      ]
     },
     "execution_count": 100,
     "metadata": {},
     "output_type": "execute_result"
    }
   ],
   "source": [
    "r2_score(y_test,y_pred)"
   ]
  },
  {
   "cell_type": "markdown",
   "id": "84d98f97",
   "metadata": {
    "papermill": {
     "duration": 0.041035,
     "end_time": "2025-02-28T23:28:45.618606",
     "exception": false,
     "start_time": "2025-02-28T23:28:45.577571",
     "status": "completed"
    },
    "tags": []
   },
   "source": [
    "<h2>Applying Lasso:</h2>"
   ]
  },
  {
   "cell_type": "code",
   "execution_count": 101,
   "id": "028eb89f",
   "metadata": {
    "execution": {
     "iopub.execute_input": "2025-02-28T23:28:45.691740Z",
     "iopub.status.busy": "2025-02-28T23:28:45.691325Z",
     "iopub.status.idle": "2025-02-28T23:28:45.695414Z",
     "shell.execute_reply": "2025-02-28T23:28:45.694566Z"
    },
    "papermill": {
     "duration": 0.042034,
     "end_time": "2025-02-28T23:28:45.697078",
     "exception": false,
     "start_time": "2025-02-28T23:28:45.655044",
     "status": "completed"
    },
    "tags": []
   },
   "outputs": [],
   "source": [
    "lasso = Lasso()"
   ]
  },
  {
   "cell_type": "code",
   "execution_count": 102,
   "id": "c3578f5b",
   "metadata": {
    "execution": {
     "iopub.execute_input": "2025-02-28T23:28:45.766985Z",
     "iopub.status.busy": "2025-02-28T23:28:45.766622Z",
     "iopub.status.idle": "2025-02-28T23:28:45.771680Z",
     "shell.execute_reply": "2025-02-28T23:28:45.770542Z"
    },
    "papermill": {
     "duration": 0.041765,
     "end_time": "2025-02-28T23:28:45.773303",
     "exception": false,
     "start_time": "2025-02-28T23:28:45.731538",
     "status": "completed"
    },
    "tags": []
   },
   "outputs": [],
   "source": [
    "pipe_lasso = make_pipeline(one_hot_transformer,scaler,lasso)"
   ]
  },
  {
   "cell_type": "code",
   "execution_count": 103,
   "id": "30c8e047",
   "metadata": {
    "execution": {
     "iopub.execute_input": "2025-02-28T23:28:45.843527Z",
     "iopub.status.busy": "2025-02-28T23:28:45.843119Z",
     "iopub.status.idle": "2025-02-28T23:28:45.968248Z",
     "shell.execute_reply": "2025-02-28T23:28:45.967160Z"
    },
    "papermill": {
     "duration": 0.16198,
     "end_time": "2025-02-28T23:28:45.969987",
     "exception": false,
     "start_time": "2025-02-28T23:28:45.808007",
     "status": "completed"
    },
    "tags": []
   },
   "outputs": [
    {
     "data": {
      "text/html": [
       "<style>#sk-container-id-2 {\n",
       "  /* Definition of color scheme common for light and dark mode */\n",
       "  --sklearn-color-text: #000;\n",
       "  --sklearn-color-text-muted: #666;\n",
       "  --sklearn-color-line: gray;\n",
       "  /* Definition of color scheme for unfitted estimators */\n",
       "  --sklearn-color-unfitted-level-0: #fff5e6;\n",
       "  --sklearn-color-unfitted-level-1: #f6e4d2;\n",
       "  --sklearn-color-unfitted-level-2: #ffe0b3;\n",
       "  --sklearn-color-unfitted-level-3: chocolate;\n",
       "  /* Definition of color scheme for fitted estimators */\n",
       "  --sklearn-color-fitted-level-0: #f0f8ff;\n",
       "  --sklearn-color-fitted-level-1: #d4ebff;\n",
       "  --sklearn-color-fitted-level-2: #b3dbfd;\n",
       "  --sklearn-color-fitted-level-3: cornflowerblue;\n",
       "\n",
       "  /* Specific color for light theme */\n",
       "  --sklearn-color-text-on-default-background: var(--sg-text-color, var(--theme-code-foreground, var(--jp-content-font-color1, black)));\n",
       "  --sklearn-color-background: var(--sg-background-color, var(--theme-background, var(--jp-layout-color0, white)));\n",
       "  --sklearn-color-border-box: var(--sg-text-color, var(--theme-code-foreground, var(--jp-content-font-color1, black)));\n",
       "  --sklearn-color-icon: #696969;\n",
       "\n",
       "  @media (prefers-color-scheme: dark) {\n",
       "    /* Redefinition of color scheme for dark theme */\n",
       "    --sklearn-color-text-on-default-background: var(--sg-text-color, var(--theme-code-foreground, var(--jp-content-font-color1, white)));\n",
       "    --sklearn-color-background: var(--sg-background-color, var(--theme-background, var(--jp-layout-color0, #111)));\n",
       "    --sklearn-color-border-box: var(--sg-text-color, var(--theme-code-foreground, var(--jp-content-font-color1, white)));\n",
       "    --sklearn-color-icon: #878787;\n",
       "  }\n",
       "}\n",
       "\n",
       "#sk-container-id-2 {\n",
       "  color: var(--sklearn-color-text);\n",
       "}\n",
       "\n",
       "#sk-container-id-2 pre {\n",
       "  padding: 0;\n",
       "}\n",
       "\n",
       "#sk-container-id-2 input.sk-hidden--visually {\n",
       "  border: 0;\n",
       "  clip: rect(1px 1px 1px 1px);\n",
       "  clip: rect(1px, 1px, 1px, 1px);\n",
       "  height: 1px;\n",
       "  margin: -1px;\n",
       "  overflow: hidden;\n",
       "  padding: 0;\n",
       "  position: absolute;\n",
       "  width: 1px;\n",
       "}\n",
       "\n",
       "#sk-container-id-2 div.sk-dashed-wrapped {\n",
       "  border: 1px dashed var(--sklearn-color-line);\n",
       "  margin: 0 0.4em 0.5em 0.4em;\n",
       "  box-sizing: border-box;\n",
       "  padding-bottom: 0.4em;\n",
       "  background-color: var(--sklearn-color-background);\n",
       "}\n",
       "\n",
       "#sk-container-id-2 div.sk-container {\n",
       "  /* jupyter's `normalize.less` sets `[hidden] { display: none; }`\n",
       "     but bootstrap.min.css set `[hidden] { display: none !important; }`\n",
       "     so we also need the `!important` here to be able to override the\n",
       "     default hidden behavior on the sphinx rendered scikit-learn.org.\n",
       "     See: https://github.com/scikit-learn/scikit-learn/issues/21755 */\n",
       "  display: inline-block !important;\n",
       "  position: relative;\n",
       "}\n",
       "\n",
       "#sk-container-id-2 div.sk-text-repr-fallback {\n",
       "  display: none;\n",
       "}\n",
       "\n",
       "div.sk-parallel-item,\n",
       "div.sk-serial,\n",
       "div.sk-item {\n",
       "  /* draw centered vertical line to link estimators */\n",
       "  background-image: linear-gradient(var(--sklearn-color-text-on-default-background), var(--sklearn-color-text-on-default-background));\n",
       "  background-size: 2px 100%;\n",
       "  background-repeat: no-repeat;\n",
       "  background-position: center center;\n",
       "}\n",
       "\n",
       "/* Parallel-specific style estimator block */\n",
       "\n",
       "#sk-container-id-2 div.sk-parallel-item::after {\n",
       "  content: \"\";\n",
       "  width: 100%;\n",
       "  border-bottom: 2px solid var(--sklearn-color-text-on-default-background);\n",
       "  flex-grow: 1;\n",
       "}\n",
       "\n",
       "#sk-container-id-2 div.sk-parallel {\n",
       "  display: flex;\n",
       "  align-items: stretch;\n",
       "  justify-content: center;\n",
       "  background-color: var(--sklearn-color-background);\n",
       "  position: relative;\n",
       "}\n",
       "\n",
       "#sk-container-id-2 div.sk-parallel-item {\n",
       "  display: flex;\n",
       "  flex-direction: column;\n",
       "}\n",
       "\n",
       "#sk-container-id-2 div.sk-parallel-item:first-child::after {\n",
       "  align-self: flex-end;\n",
       "  width: 50%;\n",
       "}\n",
       "\n",
       "#sk-container-id-2 div.sk-parallel-item:last-child::after {\n",
       "  align-self: flex-start;\n",
       "  width: 50%;\n",
       "}\n",
       "\n",
       "#sk-container-id-2 div.sk-parallel-item:only-child::after {\n",
       "  width: 0;\n",
       "}\n",
       "\n",
       "/* Serial-specific style estimator block */\n",
       "\n",
       "#sk-container-id-2 div.sk-serial {\n",
       "  display: flex;\n",
       "  flex-direction: column;\n",
       "  align-items: center;\n",
       "  background-color: var(--sklearn-color-background);\n",
       "  padding-right: 1em;\n",
       "  padding-left: 1em;\n",
       "}\n",
       "\n",
       "\n",
       "/* Toggleable style: style used for estimator/Pipeline/ColumnTransformer box that is\n",
       "clickable and can be expanded/collapsed.\n",
       "- Pipeline and ColumnTransformer use this feature and define the default style\n",
       "- Estimators will overwrite some part of the style using the `sk-estimator` class\n",
       "*/\n",
       "\n",
       "/* Pipeline and ColumnTransformer style (default) */\n",
       "\n",
       "#sk-container-id-2 div.sk-toggleable {\n",
       "  /* Default theme specific background. It is overwritten whether we have a\n",
       "  specific estimator or a Pipeline/ColumnTransformer */\n",
       "  background-color: var(--sklearn-color-background);\n",
       "}\n",
       "\n",
       "/* Toggleable label */\n",
       "#sk-container-id-2 label.sk-toggleable__label {\n",
       "  cursor: pointer;\n",
       "  display: flex;\n",
       "  width: 100%;\n",
       "  margin-bottom: 0;\n",
       "  padding: 0.5em;\n",
       "  box-sizing: border-box;\n",
       "  text-align: center;\n",
       "  align-items: start;\n",
       "  justify-content: space-between;\n",
       "  gap: 0.5em;\n",
       "}\n",
       "\n",
       "#sk-container-id-2 label.sk-toggleable__label .caption {\n",
       "  font-size: 0.6rem;\n",
       "  font-weight: lighter;\n",
       "  color: var(--sklearn-color-text-muted);\n",
       "}\n",
       "\n",
       "#sk-container-id-2 label.sk-toggleable__label-arrow:before {\n",
       "  /* Arrow on the left of the label */\n",
       "  content: \"▸\";\n",
       "  float: left;\n",
       "  margin-right: 0.25em;\n",
       "  color: var(--sklearn-color-icon);\n",
       "}\n",
       "\n",
       "#sk-container-id-2 label.sk-toggleable__label-arrow:hover:before {\n",
       "  color: var(--sklearn-color-text);\n",
       "}\n",
       "\n",
       "/* Toggleable content - dropdown */\n",
       "\n",
       "#sk-container-id-2 div.sk-toggleable__content {\n",
       "  max-height: 0;\n",
       "  max-width: 0;\n",
       "  overflow: hidden;\n",
       "  text-align: left;\n",
       "  /* unfitted */\n",
       "  background-color: var(--sklearn-color-unfitted-level-0);\n",
       "}\n",
       "\n",
       "#sk-container-id-2 div.sk-toggleable__content.fitted {\n",
       "  /* fitted */\n",
       "  background-color: var(--sklearn-color-fitted-level-0);\n",
       "}\n",
       "\n",
       "#sk-container-id-2 div.sk-toggleable__content pre {\n",
       "  margin: 0.2em;\n",
       "  border-radius: 0.25em;\n",
       "  color: var(--sklearn-color-text);\n",
       "  /* unfitted */\n",
       "  background-color: var(--sklearn-color-unfitted-level-0);\n",
       "}\n",
       "\n",
       "#sk-container-id-2 div.sk-toggleable__content.fitted pre {\n",
       "  /* unfitted */\n",
       "  background-color: var(--sklearn-color-fitted-level-0);\n",
       "}\n",
       "\n",
       "#sk-container-id-2 input.sk-toggleable__control:checked~div.sk-toggleable__content {\n",
       "  /* Expand drop-down */\n",
       "  max-height: 200px;\n",
       "  max-width: 100%;\n",
       "  overflow: auto;\n",
       "}\n",
       "\n",
       "#sk-container-id-2 input.sk-toggleable__control:checked~label.sk-toggleable__label-arrow:before {\n",
       "  content: \"▾\";\n",
       "}\n",
       "\n",
       "/* Pipeline/ColumnTransformer-specific style */\n",
       "\n",
       "#sk-container-id-2 div.sk-label input.sk-toggleable__control:checked~label.sk-toggleable__label {\n",
       "  color: var(--sklearn-color-text);\n",
       "  background-color: var(--sklearn-color-unfitted-level-2);\n",
       "}\n",
       "\n",
       "#sk-container-id-2 div.sk-label.fitted input.sk-toggleable__control:checked~label.sk-toggleable__label {\n",
       "  background-color: var(--sklearn-color-fitted-level-2);\n",
       "}\n",
       "\n",
       "/* Estimator-specific style */\n",
       "\n",
       "/* Colorize estimator box */\n",
       "#sk-container-id-2 div.sk-estimator input.sk-toggleable__control:checked~label.sk-toggleable__label {\n",
       "  /* unfitted */\n",
       "  background-color: var(--sklearn-color-unfitted-level-2);\n",
       "}\n",
       "\n",
       "#sk-container-id-2 div.sk-estimator.fitted input.sk-toggleable__control:checked~label.sk-toggleable__label {\n",
       "  /* fitted */\n",
       "  background-color: var(--sklearn-color-fitted-level-2);\n",
       "}\n",
       "\n",
       "#sk-container-id-2 div.sk-label label.sk-toggleable__label,\n",
       "#sk-container-id-2 div.sk-label label {\n",
       "  /* The background is the default theme color */\n",
       "  color: var(--sklearn-color-text-on-default-background);\n",
       "}\n",
       "\n",
       "/* On hover, darken the color of the background */\n",
       "#sk-container-id-2 div.sk-label:hover label.sk-toggleable__label {\n",
       "  color: var(--sklearn-color-text);\n",
       "  background-color: var(--sklearn-color-unfitted-level-2);\n",
       "}\n",
       "\n",
       "/* Label box, darken color on hover, fitted */\n",
       "#sk-container-id-2 div.sk-label.fitted:hover label.sk-toggleable__label.fitted {\n",
       "  color: var(--sklearn-color-text);\n",
       "  background-color: var(--sklearn-color-fitted-level-2);\n",
       "}\n",
       "\n",
       "/* Estimator label */\n",
       "\n",
       "#sk-container-id-2 div.sk-label label {\n",
       "  font-family: monospace;\n",
       "  font-weight: bold;\n",
       "  display: inline-block;\n",
       "  line-height: 1.2em;\n",
       "}\n",
       "\n",
       "#sk-container-id-2 div.sk-label-container {\n",
       "  text-align: center;\n",
       "}\n",
       "\n",
       "/* Estimator-specific */\n",
       "#sk-container-id-2 div.sk-estimator {\n",
       "  font-family: monospace;\n",
       "  border: 1px dotted var(--sklearn-color-border-box);\n",
       "  border-radius: 0.25em;\n",
       "  box-sizing: border-box;\n",
       "  margin-bottom: 0.5em;\n",
       "  /* unfitted */\n",
       "  background-color: var(--sklearn-color-unfitted-level-0);\n",
       "}\n",
       "\n",
       "#sk-container-id-2 div.sk-estimator.fitted {\n",
       "  /* fitted */\n",
       "  background-color: var(--sklearn-color-fitted-level-0);\n",
       "}\n",
       "\n",
       "/* on hover */\n",
       "#sk-container-id-2 div.sk-estimator:hover {\n",
       "  /* unfitted */\n",
       "  background-color: var(--sklearn-color-unfitted-level-2);\n",
       "}\n",
       "\n",
       "#sk-container-id-2 div.sk-estimator.fitted:hover {\n",
       "  /* fitted */\n",
       "  background-color: var(--sklearn-color-fitted-level-2);\n",
       "}\n",
       "\n",
       "/* Specification for estimator info (e.g. \"i\" and \"?\") */\n",
       "\n",
       "/* Common style for \"i\" and \"?\" */\n",
       "\n",
       ".sk-estimator-doc-link,\n",
       "a:link.sk-estimator-doc-link,\n",
       "a:visited.sk-estimator-doc-link {\n",
       "  float: right;\n",
       "  font-size: smaller;\n",
       "  line-height: 1em;\n",
       "  font-family: monospace;\n",
       "  background-color: var(--sklearn-color-background);\n",
       "  border-radius: 1em;\n",
       "  height: 1em;\n",
       "  width: 1em;\n",
       "  text-decoration: none !important;\n",
       "  margin-left: 0.5em;\n",
       "  text-align: center;\n",
       "  /* unfitted */\n",
       "  border: var(--sklearn-color-unfitted-level-1) 1pt solid;\n",
       "  color: var(--sklearn-color-unfitted-level-1);\n",
       "}\n",
       "\n",
       ".sk-estimator-doc-link.fitted,\n",
       "a:link.sk-estimator-doc-link.fitted,\n",
       "a:visited.sk-estimator-doc-link.fitted {\n",
       "  /* fitted */\n",
       "  border: var(--sklearn-color-fitted-level-1) 1pt solid;\n",
       "  color: var(--sklearn-color-fitted-level-1);\n",
       "}\n",
       "\n",
       "/* On hover */\n",
       "div.sk-estimator:hover .sk-estimator-doc-link:hover,\n",
       ".sk-estimator-doc-link:hover,\n",
       "div.sk-label-container:hover .sk-estimator-doc-link:hover,\n",
       ".sk-estimator-doc-link:hover {\n",
       "  /* unfitted */\n",
       "  background-color: var(--sklearn-color-unfitted-level-3);\n",
       "  color: var(--sklearn-color-background);\n",
       "  text-decoration: none;\n",
       "}\n",
       "\n",
       "div.sk-estimator.fitted:hover .sk-estimator-doc-link.fitted:hover,\n",
       ".sk-estimator-doc-link.fitted:hover,\n",
       "div.sk-label-container:hover .sk-estimator-doc-link.fitted:hover,\n",
       ".sk-estimator-doc-link.fitted:hover {\n",
       "  /* fitted */\n",
       "  background-color: var(--sklearn-color-fitted-level-3);\n",
       "  color: var(--sklearn-color-background);\n",
       "  text-decoration: none;\n",
       "}\n",
       "\n",
       "/* Span, style for the box shown on hovering the info icon */\n",
       ".sk-estimator-doc-link span {\n",
       "  display: none;\n",
       "  z-index: 9999;\n",
       "  position: relative;\n",
       "  font-weight: normal;\n",
       "  right: .2ex;\n",
       "  padding: .5ex;\n",
       "  margin: .5ex;\n",
       "  width: min-content;\n",
       "  min-width: 20ex;\n",
       "  max-width: 50ex;\n",
       "  color: var(--sklearn-color-text);\n",
       "  box-shadow: 2pt 2pt 4pt #999;\n",
       "  /* unfitted */\n",
       "  background: var(--sklearn-color-unfitted-level-0);\n",
       "  border: .5pt solid var(--sklearn-color-unfitted-level-3);\n",
       "}\n",
       "\n",
       ".sk-estimator-doc-link.fitted span {\n",
       "  /* fitted */\n",
       "  background: var(--sklearn-color-fitted-level-0);\n",
       "  border: var(--sklearn-color-fitted-level-3);\n",
       "}\n",
       "\n",
       ".sk-estimator-doc-link:hover span {\n",
       "  display: block;\n",
       "}\n",
       "\n",
       "/* \"?\"-specific style due to the `<a>` HTML tag */\n",
       "\n",
       "#sk-container-id-2 a.estimator_doc_link {\n",
       "  float: right;\n",
       "  font-size: 1rem;\n",
       "  line-height: 1em;\n",
       "  font-family: monospace;\n",
       "  background-color: var(--sklearn-color-background);\n",
       "  border-radius: 1rem;\n",
       "  height: 1rem;\n",
       "  width: 1rem;\n",
       "  text-decoration: none;\n",
       "  /* unfitted */\n",
       "  color: var(--sklearn-color-unfitted-level-1);\n",
       "  border: var(--sklearn-color-unfitted-level-1) 1pt solid;\n",
       "}\n",
       "\n",
       "#sk-container-id-2 a.estimator_doc_link.fitted {\n",
       "  /* fitted */\n",
       "  border: var(--sklearn-color-fitted-level-1) 1pt solid;\n",
       "  color: var(--sklearn-color-fitted-level-1);\n",
       "}\n",
       "\n",
       "/* On hover */\n",
       "#sk-container-id-2 a.estimator_doc_link:hover {\n",
       "  /* unfitted */\n",
       "  background-color: var(--sklearn-color-unfitted-level-3);\n",
       "  color: var(--sklearn-color-background);\n",
       "  text-decoration: none;\n",
       "}\n",
       "\n",
       "#sk-container-id-2 a.estimator_doc_link.fitted:hover {\n",
       "  /* fitted */\n",
       "  background-color: var(--sklearn-color-fitted-level-3);\n",
       "}\n",
       "</style><div id=\"sk-container-id-2\" class=\"sk-top-container\"><div class=\"sk-text-repr-fallback\"><pre>Pipeline(steps=[(&#x27;columntransformer&#x27;,\n",
       "                 ColumnTransformer(remainder=&#x27;passthrough&#x27;,\n",
       "                                   transformers=[(&#x27;one_hot_encoder&#x27;,\n",
       "                                                  OneHotEncoder(drop=&#x27;first&#x27;,\n",
       "                                                                dtype=&lt;class &#x27;int&#x27;&gt;,\n",
       "                                                                handle_unknown=&#x27;ignore&#x27;,\n",
       "                                                                sparse_output=False),\n",
       "                                                  [&#x27;location&#x27;])])),\n",
       "                (&#x27;standardscaler&#x27;, StandardScaler()), (&#x27;lasso&#x27;, Lasso())])</pre><b>In a Jupyter environment, please rerun this cell to show the HTML representation or trust the notebook. <br />On GitHub, the HTML representation is unable to render, please try loading this page with nbviewer.org.</b></div><div class=\"sk-container\" hidden><div class=\"sk-item sk-dashed-wrapped\"><div class=\"sk-label-container\"><div class=\"sk-label fitted sk-toggleable\"><input class=\"sk-toggleable__control sk-hidden--visually\" id=\"sk-estimator-id-9\" type=\"checkbox\" ><label for=\"sk-estimator-id-9\" class=\"sk-toggleable__label fitted sk-toggleable__label-arrow\"><div><div>Pipeline</div></div><div><a class=\"sk-estimator-doc-link fitted\" rel=\"noreferrer\" target=\"_blank\" href=\"https://scikit-learn.org/1.6/modules/generated/sklearn.pipeline.Pipeline.html\">?<span>Documentation for Pipeline</span></a><span class=\"sk-estimator-doc-link fitted\">i<span>Fitted</span></span></div></label><div class=\"sk-toggleable__content fitted\"><pre>Pipeline(steps=[(&#x27;columntransformer&#x27;,\n",
       "                 ColumnTransformer(remainder=&#x27;passthrough&#x27;,\n",
       "                                   transformers=[(&#x27;one_hot_encoder&#x27;,\n",
       "                                                  OneHotEncoder(drop=&#x27;first&#x27;,\n",
       "                                                                dtype=&lt;class &#x27;int&#x27;&gt;,\n",
       "                                                                handle_unknown=&#x27;ignore&#x27;,\n",
       "                                                                sparse_output=False),\n",
       "                                                  [&#x27;location&#x27;])])),\n",
       "                (&#x27;standardscaler&#x27;, StandardScaler()), (&#x27;lasso&#x27;, Lasso())])</pre></div> </div></div><div class=\"sk-serial\"><div class=\"sk-item sk-dashed-wrapped\"><div class=\"sk-label-container\"><div class=\"sk-label fitted sk-toggleable\"><input class=\"sk-toggleable__control sk-hidden--visually\" id=\"sk-estimator-id-10\" type=\"checkbox\" ><label for=\"sk-estimator-id-10\" class=\"sk-toggleable__label fitted sk-toggleable__label-arrow\"><div><div>columntransformer: ColumnTransformer</div></div><div><a class=\"sk-estimator-doc-link fitted\" rel=\"noreferrer\" target=\"_blank\" href=\"https://scikit-learn.org/1.6/modules/generated/sklearn.compose.ColumnTransformer.html\">?<span>Documentation for columntransformer: ColumnTransformer</span></a></div></label><div class=\"sk-toggleable__content fitted\"><pre>ColumnTransformer(remainder=&#x27;passthrough&#x27;,\n",
       "                  transformers=[(&#x27;one_hot_encoder&#x27;,\n",
       "                                 OneHotEncoder(drop=&#x27;first&#x27;,\n",
       "                                               dtype=&lt;class &#x27;int&#x27;&gt;,\n",
       "                                               handle_unknown=&#x27;ignore&#x27;,\n",
       "                                               sparse_output=False),\n",
       "                                 [&#x27;location&#x27;])])</pre></div> </div></div><div class=\"sk-parallel\"><div class=\"sk-parallel-item\"><div class=\"sk-item\"><div class=\"sk-label-container\"><div class=\"sk-label fitted sk-toggleable\"><input class=\"sk-toggleable__control sk-hidden--visually\" id=\"sk-estimator-id-11\" type=\"checkbox\" ><label for=\"sk-estimator-id-11\" class=\"sk-toggleable__label fitted sk-toggleable__label-arrow\"><div><div>one_hot_encoder</div></div></label><div class=\"sk-toggleable__content fitted\"><pre>[&#x27;location&#x27;]</pre></div> </div></div><div class=\"sk-serial\"><div class=\"sk-item\"><div class=\"sk-estimator fitted sk-toggleable\"><input class=\"sk-toggleable__control sk-hidden--visually\" id=\"sk-estimator-id-12\" type=\"checkbox\" ><label for=\"sk-estimator-id-12\" class=\"sk-toggleable__label fitted sk-toggleable__label-arrow\"><div><div>OneHotEncoder</div></div><div><a class=\"sk-estimator-doc-link fitted\" rel=\"noreferrer\" target=\"_blank\" href=\"https://scikit-learn.org/1.6/modules/generated/sklearn.preprocessing.OneHotEncoder.html\">?<span>Documentation for OneHotEncoder</span></a></div></label><div class=\"sk-toggleable__content fitted\"><pre>OneHotEncoder(drop=&#x27;first&#x27;, dtype=&lt;class &#x27;int&#x27;&gt;, handle_unknown=&#x27;ignore&#x27;,\n",
       "              sparse_output=False)</pre></div> </div></div></div></div></div><div class=\"sk-parallel-item\"><div class=\"sk-item\"><div class=\"sk-label-container\"><div class=\"sk-label fitted sk-toggleable\"><input class=\"sk-toggleable__control sk-hidden--visually\" id=\"sk-estimator-id-13\" type=\"checkbox\" ><label for=\"sk-estimator-id-13\" class=\"sk-toggleable__label fitted sk-toggleable__label-arrow\"><div><div>remainder</div></div></label><div class=\"sk-toggleable__content fitted\"><pre>[&#x27;total_sqft&#x27;, &#x27;bath&#x27;, &#x27;BHK&#x27;]</pre></div> </div></div><div class=\"sk-serial\"><div class=\"sk-item\"><div class=\"sk-estimator fitted sk-toggleable\"><input class=\"sk-toggleable__control sk-hidden--visually\" id=\"sk-estimator-id-14\" type=\"checkbox\" ><label for=\"sk-estimator-id-14\" class=\"sk-toggleable__label fitted sk-toggleable__label-arrow\"><div><div>passthrough</div></div></label><div class=\"sk-toggleable__content fitted\"><pre>passthrough</pre></div> </div></div></div></div></div></div></div><div class=\"sk-item\"><div class=\"sk-estimator fitted sk-toggleable\"><input class=\"sk-toggleable__control sk-hidden--visually\" id=\"sk-estimator-id-15\" type=\"checkbox\" ><label for=\"sk-estimator-id-15\" class=\"sk-toggleable__label fitted sk-toggleable__label-arrow\"><div><div>StandardScaler</div></div><div><a class=\"sk-estimator-doc-link fitted\" rel=\"noreferrer\" target=\"_blank\" href=\"https://scikit-learn.org/1.6/modules/generated/sklearn.preprocessing.StandardScaler.html\">?<span>Documentation for StandardScaler</span></a></div></label><div class=\"sk-toggleable__content fitted\"><pre>StandardScaler()</pre></div> </div></div><div class=\"sk-item\"><div class=\"sk-estimator fitted sk-toggleable\"><input class=\"sk-toggleable__control sk-hidden--visually\" id=\"sk-estimator-id-16\" type=\"checkbox\" ><label for=\"sk-estimator-id-16\" class=\"sk-toggleable__label fitted sk-toggleable__label-arrow\"><div><div>Lasso</div></div><div><a class=\"sk-estimator-doc-link fitted\" rel=\"noreferrer\" target=\"_blank\" href=\"https://scikit-learn.org/1.6/modules/generated/sklearn.linear_model.Lasso.html\">?<span>Documentation for Lasso</span></a></div></label><div class=\"sk-toggleable__content fitted\"><pre>Lasso()</pre></div> </div></div></div></div></div></div>"
      ],
      "text/plain": [
       "Pipeline(steps=[('columntransformer',\n",
       "                 ColumnTransformer(remainder='passthrough',\n",
       "                                   transformers=[('one_hot_encoder',\n",
       "                                                  OneHotEncoder(drop='first',\n",
       "                                                                dtype=<class 'int'>,\n",
       "                                                                handle_unknown='ignore',\n",
       "                                                                sparse_output=False),\n",
       "                                                  ['location'])])),\n",
       "                ('standardscaler', StandardScaler()), ('lasso', Lasso())])"
      ]
     },
     "execution_count": 103,
     "metadata": {},
     "output_type": "execute_result"
    }
   ],
   "source": [
    "pipe_lasso.fit(X_train,y_train)"
   ]
  },
  {
   "cell_type": "code",
   "execution_count": 104,
   "id": "b81ddf85",
   "metadata": {
    "execution": {
     "iopub.execute_input": "2025-02-28T23:28:46.041024Z",
     "iopub.status.busy": "2025-02-28T23:28:46.040630Z",
     "iopub.status.idle": "2025-02-28T23:28:46.058765Z",
     "shell.execute_reply": "2025-02-28T23:28:46.057512Z"
    },
    "papermill": {
     "duration": 0.055846,
     "end_time": "2025-02-28T23:28:46.060710",
     "exception": false,
     "start_time": "2025-02-28T23:28:46.004864",
     "status": "completed"
    },
    "tags": []
   },
   "outputs": [
    {
     "data": {
      "text/plain": [
       "0.7978587601178185"
      ]
     },
     "execution_count": 104,
     "metadata": {},
     "output_type": "execute_result"
    }
   ],
   "source": [
    "y_pred_lasso = pipe_lasso.predict(X_test)\n",
    "r2_score(y_test,y_pred_lasso)"
   ]
  },
  {
   "cell_type": "markdown",
   "id": "9eda5162",
   "metadata": {
    "papermill": {
     "duration": 0.034514,
     "end_time": "2025-02-28T23:28:46.130613",
     "exception": false,
     "start_time": "2025-02-28T23:28:46.096099",
     "status": "completed"
    },
    "tags": []
   },
   "source": [
    "<h2>Applying Ridge:</h2>"
   ]
  },
  {
   "cell_type": "code",
   "execution_count": 105,
   "id": "cf535f8e",
   "metadata": {
    "execution": {
     "iopub.execute_input": "2025-02-28T23:28:46.262100Z",
     "iopub.status.busy": "2025-02-28T23:28:46.261743Z",
     "iopub.status.idle": "2025-02-28T23:28:46.266123Z",
     "shell.execute_reply": "2025-02-28T23:28:46.265005Z"
    },
    "papermill": {
     "duration": 0.102828,
     "end_time": "2025-02-28T23:28:46.267967",
     "exception": false,
     "start_time": "2025-02-28T23:28:46.165139",
     "status": "completed"
    },
    "tags": []
   },
   "outputs": [],
   "source": [
    "ridge = Ridge()"
   ]
  },
  {
   "cell_type": "code",
   "execution_count": 106,
   "id": "00ab1b6a",
   "metadata": {
    "execution": {
     "iopub.execute_input": "2025-02-28T23:28:46.346584Z",
     "iopub.status.busy": "2025-02-28T23:28:46.346207Z",
     "iopub.status.idle": "2025-02-28T23:28:46.350380Z",
     "shell.execute_reply": "2025-02-28T23:28:46.349339Z"
    },
    "papermill": {
     "duration": 0.043762,
     "end_time": "2025-02-28T23:28:46.352111",
     "exception": false,
     "start_time": "2025-02-28T23:28:46.308349",
     "status": "completed"
    },
    "tags": []
   },
   "outputs": [],
   "source": [
    "pipe_ridge = make_pipeline(one_hot_transformer,scaler,ridge)"
   ]
  },
  {
   "cell_type": "code",
   "execution_count": 107,
   "id": "8f7eae7b",
   "metadata": {
    "execution": {
     "iopub.execute_input": "2025-02-28T23:28:46.429192Z",
     "iopub.status.busy": "2025-02-28T23:28:46.428863Z",
     "iopub.status.idle": "2025-02-28T23:28:46.547331Z",
     "shell.execute_reply": "2025-02-28T23:28:46.546245Z"
    },
    "papermill": {
     "duration": 0.161837,
     "end_time": "2025-02-28T23:28:46.549171",
     "exception": false,
     "start_time": "2025-02-28T23:28:46.387334",
     "status": "completed"
    },
    "tags": []
   },
   "outputs": [
    {
     "data": {
      "text/html": [
       "<style>#sk-container-id-3 {\n",
       "  /* Definition of color scheme common for light and dark mode */\n",
       "  --sklearn-color-text: #000;\n",
       "  --sklearn-color-text-muted: #666;\n",
       "  --sklearn-color-line: gray;\n",
       "  /* Definition of color scheme for unfitted estimators */\n",
       "  --sklearn-color-unfitted-level-0: #fff5e6;\n",
       "  --sklearn-color-unfitted-level-1: #f6e4d2;\n",
       "  --sklearn-color-unfitted-level-2: #ffe0b3;\n",
       "  --sklearn-color-unfitted-level-3: chocolate;\n",
       "  /* Definition of color scheme for fitted estimators */\n",
       "  --sklearn-color-fitted-level-0: #f0f8ff;\n",
       "  --sklearn-color-fitted-level-1: #d4ebff;\n",
       "  --sklearn-color-fitted-level-2: #b3dbfd;\n",
       "  --sklearn-color-fitted-level-3: cornflowerblue;\n",
       "\n",
       "  /* Specific color for light theme */\n",
       "  --sklearn-color-text-on-default-background: var(--sg-text-color, var(--theme-code-foreground, var(--jp-content-font-color1, black)));\n",
       "  --sklearn-color-background: var(--sg-background-color, var(--theme-background, var(--jp-layout-color0, white)));\n",
       "  --sklearn-color-border-box: var(--sg-text-color, var(--theme-code-foreground, var(--jp-content-font-color1, black)));\n",
       "  --sklearn-color-icon: #696969;\n",
       "\n",
       "  @media (prefers-color-scheme: dark) {\n",
       "    /* Redefinition of color scheme for dark theme */\n",
       "    --sklearn-color-text-on-default-background: var(--sg-text-color, var(--theme-code-foreground, var(--jp-content-font-color1, white)));\n",
       "    --sklearn-color-background: var(--sg-background-color, var(--theme-background, var(--jp-layout-color0, #111)));\n",
       "    --sklearn-color-border-box: var(--sg-text-color, var(--theme-code-foreground, var(--jp-content-font-color1, white)));\n",
       "    --sklearn-color-icon: #878787;\n",
       "  }\n",
       "}\n",
       "\n",
       "#sk-container-id-3 {\n",
       "  color: var(--sklearn-color-text);\n",
       "}\n",
       "\n",
       "#sk-container-id-3 pre {\n",
       "  padding: 0;\n",
       "}\n",
       "\n",
       "#sk-container-id-3 input.sk-hidden--visually {\n",
       "  border: 0;\n",
       "  clip: rect(1px 1px 1px 1px);\n",
       "  clip: rect(1px, 1px, 1px, 1px);\n",
       "  height: 1px;\n",
       "  margin: -1px;\n",
       "  overflow: hidden;\n",
       "  padding: 0;\n",
       "  position: absolute;\n",
       "  width: 1px;\n",
       "}\n",
       "\n",
       "#sk-container-id-3 div.sk-dashed-wrapped {\n",
       "  border: 1px dashed var(--sklearn-color-line);\n",
       "  margin: 0 0.4em 0.5em 0.4em;\n",
       "  box-sizing: border-box;\n",
       "  padding-bottom: 0.4em;\n",
       "  background-color: var(--sklearn-color-background);\n",
       "}\n",
       "\n",
       "#sk-container-id-3 div.sk-container {\n",
       "  /* jupyter's `normalize.less` sets `[hidden] { display: none; }`\n",
       "     but bootstrap.min.css set `[hidden] { display: none !important; }`\n",
       "     so we also need the `!important` here to be able to override the\n",
       "     default hidden behavior on the sphinx rendered scikit-learn.org.\n",
       "     See: https://github.com/scikit-learn/scikit-learn/issues/21755 */\n",
       "  display: inline-block !important;\n",
       "  position: relative;\n",
       "}\n",
       "\n",
       "#sk-container-id-3 div.sk-text-repr-fallback {\n",
       "  display: none;\n",
       "}\n",
       "\n",
       "div.sk-parallel-item,\n",
       "div.sk-serial,\n",
       "div.sk-item {\n",
       "  /* draw centered vertical line to link estimators */\n",
       "  background-image: linear-gradient(var(--sklearn-color-text-on-default-background), var(--sklearn-color-text-on-default-background));\n",
       "  background-size: 2px 100%;\n",
       "  background-repeat: no-repeat;\n",
       "  background-position: center center;\n",
       "}\n",
       "\n",
       "/* Parallel-specific style estimator block */\n",
       "\n",
       "#sk-container-id-3 div.sk-parallel-item::after {\n",
       "  content: \"\";\n",
       "  width: 100%;\n",
       "  border-bottom: 2px solid var(--sklearn-color-text-on-default-background);\n",
       "  flex-grow: 1;\n",
       "}\n",
       "\n",
       "#sk-container-id-3 div.sk-parallel {\n",
       "  display: flex;\n",
       "  align-items: stretch;\n",
       "  justify-content: center;\n",
       "  background-color: var(--sklearn-color-background);\n",
       "  position: relative;\n",
       "}\n",
       "\n",
       "#sk-container-id-3 div.sk-parallel-item {\n",
       "  display: flex;\n",
       "  flex-direction: column;\n",
       "}\n",
       "\n",
       "#sk-container-id-3 div.sk-parallel-item:first-child::after {\n",
       "  align-self: flex-end;\n",
       "  width: 50%;\n",
       "}\n",
       "\n",
       "#sk-container-id-3 div.sk-parallel-item:last-child::after {\n",
       "  align-self: flex-start;\n",
       "  width: 50%;\n",
       "}\n",
       "\n",
       "#sk-container-id-3 div.sk-parallel-item:only-child::after {\n",
       "  width: 0;\n",
       "}\n",
       "\n",
       "/* Serial-specific style estimator block */\n",
       "\n",
       "#sk-container-id-3 div.sk-serial {\n",
       "  display: flex;\n",
       "  flex-direction: column;\n",
       "  align-items: center;\n",
       "  background-color: var(--sklearn-color-background);\n",
       "  padding-right: 1em;\n",
       "  padding-left: 1em;\n",
       "}\n",
       "\n",
       "\n",
       "/* Toggleable style: style used for estimator/Pipeline/ColumnTransformer box that is\n",
       "clickable and can be expanded/collapsed.\n",
       "- Pipeline and ColumnTransformer use this feature and define the default style\n",
       "- Estimators will overwrite some part of the style using the `sk-estimator` class\n",
       "*/\n",
       "\n",
       "/* Pipeline and ColumnTransformer style (default) */\n",
       "\n",
       "#sk-container-id-3 div.sk-toggleable {\n",
       "  /* Default theme specific background. It is overwritten whether we have a\n",
       "  specific estimator or a Pipeline/ColumnTransformer */\n",
       "  background-color: var(--sklearn-color-background);\n",
       "}\n",
       "\n",
       "/* Toggleable label */\n",
       "#sk-container-id-3 label.sk-toggleable__label {\n",
       "  cursor: pointer;\n",
       "  display: flex;\n",
       "  width: 100%;\n",
       "  margin-bottom: 0;\n",
       "  padding: 0.5em;\n",
       "  box-sizing: border-box;\n",
       "  text-align: center;\n",
       "  align-items: start;\n",
       "  justify-content: space-between;\n",
       "  gap: 0.5em;\n",
       "}\n",
       "\n",
       "#sk-container-id-3 label.sk-toggleable__label .caption {\n",
       "  font-size: 0.6rem;\n",
       "  font-weight: lighter;\n",
       "  color: var(--sklearn-color-text-muted);\n",
       "}\n",
       "\n",
       "#sk-container-id-3 label.sk-toggleable__label-arrow:before {\n",
       "  /* Arrow on the left of the label */\n",
       "  content: \"▸\";\n",
       "  float: left;\n",
       "  margin-right: 0.25em;\n",
       "  color: var(--sklearn-color-icon);\n",
       "}\n",
       "\n",
       "#sk-container-id-3 label.sk-toggleable__label-arrow:hover:before {\n",
       "  color: var(--sklearn-color-text);\n",
       "}\n",
       "\n",
       "/* Toggleable content - dropdown */\n",
       "\n",
       "#sk-container-id-3 div.sk-toggleable__content {\n",
       "  max-height: 0;\n",
       "  max-width: 0;\n",
       "  overflow: hidden;\n",
       "  text-align: left;\n",
       "  /* unfitted */\n",
       "  background-color: var(--sklearn-color-unfitted-level-0);\n",
       "}\n",
       "\n",
       "#sk-container-id-3 div.sk-toggleable__content.fitted {\n",
       "  /* fitted */\n",
       "  background-color: var(--sklearn-color-fitted-level-0);\n",
       "}\n",
       "\n",
       "#sk-container-id-3 div.sk-toggleable__content pre {\n",
       "  margin: 0.2em;\n",
       "  border-radius: 0.25em;\n",
       "  color: var(--sklearn-color-text);\n",
       "  /* unfitted */\n",
       "  background-color: var(--sklearn-color-unfitted-level-0);\n",
       "}\n",
       "\n",
       "#sk-container-id-3 div.sk-toggleable__content.fitted pre {\n",
       "  /* unfitted */\n",
       "  background-color: var(--sklearn-color-fitted-level-0);\n",
       "}\n",
       "\n",
       "#sk-container-id-3 input.sk-toggleable__control:checked~div.sk-toggleable__content {\n",
       "  /* Expand drop-down */\n",
       "  max-height: 200px;\n",
       "  max-width: 100%;\n",
       "  overflow: auto;\n",
       "}\n",
       "\n",
       "#sk-container-id-3 input.sk-toggleable__control:checked~label.sk-toggleable__label-arrow:before {\n",
       "  content: \"▾\";\n",
       "}\n",
       "\n",
       "/* Pipeline/ColumnTransformer-specific style */\n",
       "\n",
       "#sk-container-id-3 div.sk-label input.sk-toggleable__control:checked~label.sk-toggleable__label {\n",
       "  color: var(--sklearn-color-text);\n",
       "  background-color: var(--sklearn-color-unfitted-level-2);\n",
       "}\n",
       "\n",
       "#sk-container-id-3 div.sk-label.fitted input.sk-toggleable__control:checked~label.sk-toggleable__label {\n",
       "  background-color: var(--sklearn-color-fitted-level-2);\n",
       "}\n",
       "\n",
       "/* Estimator-specific style */\n",
       "\n",
       "/* Colorize estimator box */\n",
       "#sk-container-id-3 div.sk-estimator input.sk-toggleable__control:checked~label.sk-toggleable__label {\n",
       "  /* unfitted */\n",
       "  background-color: var(--sklearn-color-unfitted-level-2);\n",
       "}\n",
       "\n",
       "#sk-container-id-3 div.sk-estimator.fitted input.sk-toggleable__control:checked~label.sk-toggleable__label {\n",
       "  /* fitted */\n",
       "  background-color: var(--sklearn-color-fitted-level-2);\n",
       "}\n",
       "\n",
       "#sk-container-id-3 div.sk-label label.sk-toggleable__label,\n",
       "#sk-container-id-3 div.sk-label label {\n",
       "  /* The background is the default theme color */\n",
       "  color: var(--sklearn-color-text-on-default-background);\n",
       "}\n",
       "\n",
       "/* On hover, darken the color of the background */\n",
       "#sk-container-id-3 div.sk-label:hover label.sk-toggleable__label {\n",
       "  color: var(--sklearn-color-text);\n",
       "  background-color: var(--sklearn-color-unfitted-level-2);\n",
       "}\n",
       "\n",
       "/* Label box, darken color on hover, fitted */\n",
       "#sk-container-id-3 div.sk-label.fitted:hover label.sk-toggleable__label.fitted {\n",
       "  color: var(--sklearn-color-text);\n",
       "  background-color: var(--sklearn-color-fitted-level-2);\n",
       "}\n",
       "\n",
       "/* Estimator label */\n",
       "\n",
       "#sk-container-id-3 div.sk-label label {\n",
       "  font-family: monospace;\n",
       "  font-weight: bold;\n",
       "  display: inline-block;\n",
       "  line-height: 1.2em;\n",
       "}\n",
       "\n",
       "#sk-container-id-3 div.sk-label-container {\n",
       "  text-align: center;\n",
       "}\n",
       "\n",
       "/* Estimator-specific */\n",
       "#sk-container-id-3 div.sk-estimator {\n",
       "  font-family: monospace;\n",
       "  border: 1px dotted var(--sklearn-color-border-box);\n",
       "  border-radius: 0.25em;\n",
       "  box-sizing: border-box;\n",
       "  margin-bottom: 0.5em;\n",
       "  /* unfitted */\n",
       "  background-color: var(--sklearn-color-unfitted-level-0);\n",
       "}\n",
       "\n",
       "#sk-container-id-3 div.sk-estimator.fitted {\n",
       "  /* fitted */\n",
       "  background-color: var(--sklearn-color-fitted-level-0);\n",
       "}\n",
       "\n",
       "/* on hover */\n",
       "#sk-container-id-3 div.sk-estimator:hover {\n",
       "  /* unfitted */\n",
       "  background-color: var(--sklearn-color-unfitted-level-2);\n",
       "}\n",
       "\n",
       "#sk-container-id-3 div.sk-estimator.fitted:hover {\n",
       "  /* fitted */\n",
       "  background-color: var(--sklearn-color-fitted-level-2);\n",
       "}\n",
       "\n",
       "/* Specification for estimator info (e.g. \"i\" and \"?\") */\n",
       "\n",
       "/* Common style for \"i\" and \"?\" */\n",
       "\n",
       ".sk-estimator-doc-link,\n",
       "a:link.sk-estimator-doc-link,\n",
       "a:visited.sk-estimator-doc-link {\n",
       "  float: right;\n",
       "  font-size: smaller;\n",
       "  line-height: 1em;\n",
       "  font-family: monospace;\n",
       "  background-color: var(--sklearn-color-background);\n",
       "  border-radius: 1em;\n",
       "  height: 1em;\n",
       "  width: 1em;\n",
       "  text-decoration: none !important;\n",
       "  margin-left: 0.5em;\n",
       "  text-align: center;\n",
       "  /* unfitted */\n",
       "  border: var(--sklearn-color-unfitted-level-1) 1pt solid;\n",
       "  color: var(--sklearn-color-unfitted-level-1);\n",
       "}\n",
       "\n",
       ".sk-estimator-doc-link.fitted,\n",
       "a:link.sk-estimator-doc-link.fitted,\n",
       "a:visited.sk-estimator-doc-link.fitted {\n",
       "  /* fitted */\n",
       "  border: var(--sklearn-color-fitted-level-1) 1pt solid;\n",
       "  color: var(--sklearn-color-fitted-level-1);\n",
       "}\n",
       "\n",
       "/* On hover */\n",
       "div.sk-estimator:hover .sk-estimator-doc-link:hover,\n",
       ".sk-estimator-doc-link:hover,\n",
       "div.sk-label-container:hover .sk-estimator-doc-link:hover,\n",
       ".sk-estimator-doc-link:hover {\n",
       "  /* unfitted */\n",
       "  background-color: var(--sklearn-color-unfitted-level-3);\n",
       "  color: var(--sklearn-color-background);\n",
       "  text-decoration: none;\n",
       "}\n",
       "\n",
       "div.sk-estimator.fitted:hover .sk-estimator-doc-link.fitted:hover,\n",
       ".sk-estimator-doc-link.fitted:hover,\n",
       "div.sk-label-container:hover .sk-estimator-doc-link.fitted:hover,\n",
       ".sk-estimator-doc-link.fitted:hover {\n",
       "  /* fitted */\n",
       "  background-color: var(--sklearn-color-fitted-level-3);\n",
       "  color: var(--sklearn-color-background);\n",
       "  text-decoration: none;\n",
       "}\n",
       "\n",
       "/* Span, style for the box shown on hovering the info icon */\n",
       ".sk-estimator-doc-link span {\n",
       "  display: none;\n",
       "  z-index: 9999;\n",
       "  position: relative;\n",
       "  font-weight: normal;\n",
       "  right: .2ex;\n",
       "  padding: .5ex;\n",
       "  margin: .5ex;\n",
       "  width: min-content;\n",
       "  min-width: 20ex;\n",
       "  max-width: 50ex;\n",
       "  color: var(--sklearn-color-text);\n",
       "  box-shadow: 2pt 2pt 4pt #999;\n",
       "  /* unfitted */\n",
       "  background: var(--sklearn-color-unfitted-level-0);\n",
       "  border: .5pt solid var(--sklearn-color-unfitted-level-3);\n",
       "}\n",
       "\n",
       ".sk-estimator-doc-link.fitted span {\n",
       "  /* fitted */\n",
       "  background: var(--sklearn-color-fitted-level-0);\n",
       "  border: var(--sklearn-color-fitted-level-3);\n",
       "}\n",
       "\n",
       ".sk-estimator-doc-link:hover span {\n",
       "  display: block;\n",
       "}\n",
       "\n",
       "/* \"?\"-specific style due to the `<a>` HTML tag */\n",
       "\n",
       "#sk-container-id-3 a.estimator_doc_link {\n",
       "  float: right;\n",
       "  font-size: 1rem;\n",
       "  line-height: 1em;\n",
       "  font-family: monospace;\n",
       "  background-color: var(--sklearn-color-background);\n",
       "  border-radius: 1rem;\n",
       "  height: 1rem;\n",
       "  width: 1rem;\n",
       "  text-decoration: none;\n",
       "  /* unfitted */\n",
       "  color: var(--sklearn-color-unfitted-level-1);\n",
       "  border: var(--sklearn-color-unfitted-level-1) 1pt solid;\n",
       "}\n",
       "\n",
       "#sk-container-id-3 a.estimator_doc_link.fitted {\n",
       "  /* fitted */\n",
       "  border: var(--sklearn-color-fitted-level-1) 1pt solid;\n",
       "  color: var(--sklearn-color-fitted-level-1);\n",
       "}\n",
       "\n",
       "/* On hover */\n",
       "#sk-container-id-3 a.estimator_doc_link:hover {\n",
       "  /* unfitted */\n",
       "  background-color: var(--sklearn-color-unfitted-level-3);\n",
       "  color: var(--sklearn-color-background);\n",
       "  text-decoration: none;\n",
       "}\n",
       "\n",
       "#sk-container-id-3 a.estimator_doc_link.fitted:hover {\n",
       "  /* fitted */\n",
       "  background-color: var(--sklearn-color-fitted-level-3);\n",
       "}\n",
       "</style><div id=\"sk-container-id-3\" class=\"sk-top-container\"><div class=\"sk-text-repr-fallback\"><pre>Pipeline(steps=[(&#x27;columntransformer&#x27;,\n",
       "                 ColumnTransformer(remainder=&#x27;passthrough&#x27;,\n",
       "                                   transformers=[(&#x27;one_hot_encoder&#x27;,\n",
       "                                                  OneHotEncoder(drop=&#x27;first&#x27;,\n",
       "                                                                dtype=&lt;class &#x27;int&#x27;&gt;,\n",
       "                                                                handle_unknown=&#x27;ignore&#x27;,\n",
       "                                                                sparse_output=False),\n",
       "                                                  [&#x27;location&#x27;])])),\n",
       "                (&#x27;standardscaler&#x27;, StandardScaler()), (&#x27;ridge&#x27;, Ridge())])</pre><b>In a Jupyter environment, please rerun this cell to show the HTML representation or trust the notebook. <br />On GitHub, the HTML representation is unable to render, please try loading this page with nbviewer.org.</b></div><div class=\"sk-container\" hidden><div class=\"sk-item sk-dashed-wrapped\"><div class=\"sk-label-container\"><div class=\"sk-label fitted sk-toggleable\"><input class=\"sk-toggleable__control sk-hidden--visually\" id=\"sk-estimator-id-17\" type=\"checkbox\" ><label for=\"sk-estimator-id-17\" class=\"sk-toggleable__label fitted sk-toggleable__label-arrow\"><div><div>Pipeline</div></div><div><a class=\"sk-estimator-doc-link fitted\" rel=\"noreferrer\" target=\"_blank\" href=\"https://scikit-learn.org/1.6/modules/generated/sklearn.pipeline.Pipeline.html\">?<span>Documentation for Pipeline</span></a><span class=\"sk-estimator-doc-link fitted\">i<span>Fitted</span></span></div></label><div class=\"sk-toggleable__content fitted\"><pre>Pipeline(steps=[(&#x27;columntransformer&#x27;,\n",
       "                 ColumnTransformer(remainder=&#x27;passthrough&#x27;,\n",
       "                                   transformers=[(&#x27;one_hot_encoder&#x27;,\n",
       "                                                  OneHotEncoder(drop=&#x27;first&#x27;,\n",
       "                                                                dtype=&lt;class &#x27;int&#x27;&gt;,\n",
       "                                                                handle_unknown=&#x27;ignore&#x27;,\n",
       "                                                                sparse_output=False),\n",
       "                                                  [&#x27;location&#x27;])])),\n",
       "                (&#x27;standardscaler&#x27;, StandardScaler()), (&#x27;ridge&#x27;, Ridge())])</pre></div> </div></div><div class=\"sk-serial\"><div class=\"sk-item sk-dashed-wrapped\"><div class=\"sk-label-container\"><div class=\"sk-label fitted sk-toggleable\"><input class=\"sk-toggleable__control sk-hidden--visually\" id=\"sk-estimator-id-18\" type=\"checkbox\" ><label for=\"sk-estimator-id-18\" class=\"sk-toggleable__label fitted sk-toggleable__label-arrow\"><div><div>columntransformer: ColumnTransformer</div></div><div><a class=\"sk-estimator-doc-link fitted\" rel=\"noreferrer\" target=\"_blank\" href=\"https://scikit-learn.org/1.6/modules/generated/sklearn.compose.ColumnTransformer.html\">?<span>Documentation for columntransformer: ColumnTransformer</span></a></div></label><div class=\"sk-toggleable__content fitted\"><pre>ColumnTransformer(remainder=&#x27;passthrough&#x27;,\n",
       "                  transformers=[(&#x27;one_hot_encoder&#x27;,\n",
       "                                 OneHotEncoder(drop=&#x27;first&#x27;,\n",
       "                                               dtype=&lt;class &#x27;int&#x27;&gt;,\n",
       "                                               handle_unknown=&#x27;ignore&#x27;,\n",
       "                                               sparse_output=False),\n",
       "                                 [&#x27;location&#x27;])])</pre></div> </div></div><div class=\"sk-parallel\"><div class=\"sk-parallel-item\"><div class=\"sk-item\"><div class=\"sk-label-container\"><div class=\"sk-label fitted sk-toggleable\"><input class=\"sk-toggleable__control sk-hidden--visually\" id=\"sk-estimator-id-19\" type=\"checkbox\" ><label for=\"sk-estimator-id-19\" class=\"sk-toggleable__label fitted sk-toggleable__label-arrow\"><div><div>one_hot_encoder</div></div></label><div class=\"sk-toggleable__content fitted\"><pre>[&#x27;location&#x27;]</pre></div> </div></div><div class=\"sk-serial\"><div class=\"sk-item\"><div class=\"sk-estimator fitted sk-toggleable\"><input class=\"sk-toggleable__control sk-hidden--visually\" id=\"sk-estimator-id-20\" type=\"checkbox\" ><label for=\"sk-estimator-id-20\" class=\"sk-toggleable__label fitted sk-toggleable__label-arrow\"><div><div>OneHotEncoder</div></div><div><a class=\"sk-estimator-doc-link fitted\" rel=\"noreferrer\" target=\"_blank\" href=\"https://scikit-learn.org/1.6/modules/generated/sklearn.preprocessing.OneHotEncoder.html\">?<span>Documentation for OneHotEncoder</span></a></div></label><div class=\"sk-toggleable__content fitted\"><pre>OneHotEncoder(drop=&#x27;first&#x27;, dtype=&lt;class &#x27;int&#x27;&gt;, handle_unknown=&#x27;ignore&#x27;,\n",
       "              sparse_output=False)</pre></div> </div></div></div></div></div><div class=\"sk-parallel-item\"><div class=\"sk-item\"><div class=\"sk-label-container\"><div class=\"sk-label fitted sk-toggleable\"><input class=\"sk-toggleable__control sk-hidden--visually\" id=\"sk-estimator-id-21\" type=\"checkbox\" ><label for=\"sk-estimator-id-21\" class=\"sk-toggleable__label fitted sk-toggleable__label-arrow\"><div><div>remainder</div></div></label><div class=\"sk-toggleable__content fitted\"><pre>[&#x27;total_sqft&#x27;, &#x27;bath&#x27;, &#x27;BHK&#x27;]</pre></div> </div></div><div class=\"sk-serial\"><div class=\"sk-item\"><div class=\"sk-estimator fitted sk-toggleable\"><input class=\"sk-toggleable__control sk-hidden--visually\" id=\"sk-estimator-id-22\" type=\"checkbox\" ><label for=\"sk-estimator-id-22\" class=\"sk-toggleable__label fitted sk-toggleable__label-arrow\"><div><div>passthrough</div></div></label><div class=\"sk-toggleable__content fitted\"><pre>passthrough</pre></div> </div></div></div></div></div></div></div><div class=\"sk-item\"><div class=\"sk-estimator fitted sk-toggleable\"><input class=\"sk-toggleable__control sk-hidden--visually\" id=\"sk-estimator-id-23\" type=\"checkbox\" ><label for=\"sk-estimator-id-23\" class=\"sk-toggleable__label fitted sk-toggleable__label-arrow\"><div><div>StandardScaler</div></div><div><a class=\"sk-estimator-doc-link fitted\" rel=\"noreferrer\" target=\"_blank\" href=\"https://scikit-learn.org/1.6/modules/generated/sklearn.preprocessing.StandardScaler.html\">?<span>Documentation for StandardScaler</span></a></div></label><div class=\"sk-toggleable__content fitted\"><pre>StandardScaler()</pre></div> </div></div><div class=\"sk-item\"><div class=\"sk-estimator fitted sk-toggleable\"><input class=\"sk-toggleable__control sk-hidden--visually\" id=\"sk-estimator-id-24\" type=\"checkbox\" ><label for=\"sk-estimator-id-24\" class=\"sk-toggleable__label fitted sk-toggleable__label-arrow\"><div><div>Ridge</div></div><div><a class=\"sk-estimator-doc-link fitted\" rel=\"noreferrer\" target=\"_blank\" href=\"https://scikit-learn.org/1.6/modules/generated/sklearn.linear_model.Ridge.html\">?<span>Documentation for Ridge</span></a></div></label><div class=\"sk-toggleable__content fitted\"><pre>Ridge()</pre></div> </div></div></div></div></div></div>"
      ],
      "text/plain": [
       "Pipeline(steps=[('columntransformer',\n",
       "                 ColumnTransformer(remainder='passthrough',\n",
       "                                   transformers=[('one_hot_encoder',\n",
       "                                                  OneHotEncoder(drop='first',\n",
       "                                                                dtype=<class 'int'>,\n",
       "                                                                handle_unknown='ignore',\n",
       "                                                                sparse_output=False),\n",
       "                                                  ['location'])])),\n",
       "                ('standardscaler', StandardScaler()), ('ridge', Ridge())])"
      ]
     },
     "execution_count": 107,
     "metadata": {},
     "output_type": "execute_result"
    }
   ],
   "source": [
    "pipe_ridge.fit(X_train,y_train)"
   ]
  },
  {
   "cell_type": "code",
   "execution_count": 108,
   "id": "0b488b73",
   "metadata": {
    "execution": {
     "iopub.execute_input": "2025-02-28T23:28:46.621141Z",
     "iopub.status.busy": "2025-02-28T23:28:46.620798Z",
     "iopub.status.idle": "2025-02-28T23:28:46.637883Z",
     "shell.execute_reply": "2025-02-28T23:28:46.636884Z"
    },
    "papermill": {
     "duration": 0.05509,
     "end_time": "2025-02-28T23:28:46.639715",
     "exception": false,
     "start_time": "2025-02-28T23:28:46.584625",
     "status": "completed"
    },
    "tags": []
   },
   "outputs": [
    {
     "data": {
      "text/plain": [
       "0.8017480078522303"
      ]
     },
     "execution_count": 108,
     "metadata": {},
     "output_type": "execute_result"
    }
   ],
   "source": [
    "y_pred_ridge = pipe_ridge.predict(X_test)\n",
    "r2_score(y_test,y_pred_ridge)"
   ]
  },
  {
   "cell_type": "code",
   "execution_count": 109,
   "id": "2d45bd23",
   "metadata": {
    "execution": {
     "iopub.execute_input": "2025-02-28T23:28:46.713231Z",
     "iopub.status.busy": "2025-02-28T23:28:46.712892Z",
     "iopub.status.idle": "2025-02-28T23:28:46.721059Z",
     "shell.execute_reply": "2025-02-28T23:28:46.719977Z"
    },
    "papermill": {
     "duration": 0.046809,
     "end_time": "2025-02-28T23:28:46.722837",
     "exception": false,
     "start_time": "2025-02-28T23:28:46.676028",
     "status": "completed"
    },
    "tags": []
   },
   "outputs": [
    {
     "name": "stdout",
     "output_type": "stream",
     "text": [
      "LinearRegression r2_score:  0.801718286031115\n",
      "LassoRegression r2_score:  0.7978587601178185\n",
      "RidgeRegression r2_score:  0.8017480078522303\n"
     ]
    }
   ],
   "source": [
    "print(\"LinearRegression r2_score: \",r2_score(y_test,y_pred))\n",
    "print(\"LassoRegression r2_score: \",r2_score(y_test,y_pred_lasso))\n",
    "print(\"RidgeRegression r2_score: \",r2_score(y_test,y_pred_ridge))"
   ]
  },
  {
   "cell_type": "code",
   "execution_count": 110,
   "id": "686babac",
   "metadata": {},
   "outputs": [],
   "source": [
    "import pickle"
   ]
  },
  {
   "cell_type": "code",
   "execution_count": 111,
   "id": "1aeced65",
   "metadata": {},
   "outputs": [],
   "source": [
    "with open(\"bangalore_house_price_model.pkl\",\"wb\") as file:\n",
    "    pickle.dump(pipe_ridge, file)"
   ]
  }
 ],
 "metadata": {
  "kaggle": {
   "accelerator": "none",
   "dataSources": [
    {
     "datasetId": 20710,
     "sourceId": 26737,
     "sourceType": "datasetVersion"
    }
   ],
   "dockerImageVersionId": 30918,
   "isGpuEnabled": false,
   "isInternetEnabled": false,
   "language": "python",
   "sourceType": "notebook"
  },
  "kernelspec": {
   "display_name": "Python (venv)",
   "language": "python",
   "name": "venv"
  },
  "language_info": {
   "codemirror_mode": {
    "name": "ipython",
    "version": 3
   },
   "file_extension": ".py",
   "mimetype": "text/x-python",
   "name": "python",
   "nbconvert_exporter": "python",
   "pygments_lexer": "ipython3",
   "version": "3.11.4"
  },
  "papermill": {
   "default_parameters": {},
   "duration": 29.627471,
   "end_time": "2025-02-28T23:28:47.779969",
   "environment_variables": {},
   "exception": null,
   "input_path": "__notebook__.ipynb",
   "output_path": "__notebook__.ipynb",
   "parameters": {},
   "start_time": "2025-02-28T23:28:18.152498",
   "version": "2.6.0"
  }
 },
 "nbformat": 4,
 "nbformat_minor": 5
}
